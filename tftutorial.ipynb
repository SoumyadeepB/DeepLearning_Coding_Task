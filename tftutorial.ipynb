{
 "cells": [
  {
   "cell_type": "markdown",
   "metadata": {},
   "source": [
    "# Notes on Coding Tasks\n",
    "\n",
    "* data will be published tonight / tomorrow on the excercise webpage)\n",
    "* you will get 2 files: one for training (contains labels), one for evaluation (does not contain labels)\n",
    "* for evaulation, upload your predictions in the same format as the download \n",
    "    * each data sample in a file has a unique id\n",
    "        * upload only the data sample id and your predicted label\n",
    "        * don't upload the input data (there is a size limit for each upload)\n",
    "* format: JSON\n",
    "    * python has built-in functionallity to read / write JSON\n",
    "    * if you never used it (with python), there is a short overview: https://realpython.com/python-json/\n"
   ]
  },
  {
   "cell_type": "markdown",
   "metadata": {},
   "source": [
    "### NLU train data\n",
    "\n",
    "```\n",
    "{\n",
    "    \"0\": {\n",
    "        \"intent\": \"AddToPlaylist\",\n",
    "        \"text\": \"Add a tune to my elrow Guest List\",\n",
    "        \"slots\": {\n",
    "            \"music_item\": \"tune\",\n",
    "            \"playlist_owner\": \"my\",\n",
    "            \"playlist\": \"elrow Guest List\"\n",
    "        },\n",
    "        \"positions\": {\n",
    "            \"music_item\": [\n",
    "                6,\n",
    "                9\n",
    "            ],\n",
    "            \"playlist_owner\": [\n",
    "                14,\n",
    "                15\n",
    "            ],\n",
    "            \"playlist\": [\n",
    "                17,\n",
    "                32\n",
    "            ]\n",
    "        }\n",
    "    },\n",
    "    \"1\": {\n",
    "        \"intent\": \"AddToPlaylist\",\n",
    "        \"text\": \"Add a guy is a guy to the infinite indie folk playlist.\",\n",
    "        \"slots\": {\n",
    "            \"entity_name\": \"a guy is a guy\",\n",
    "            \"playlist\": \"infinite indie folk\"\n",
    "        },\n",
    "        \"positions\": {\n",
    "            \"entity_name\": [\n",
    "                4,\n",
    "                17\n",
    "            ],\n",
    "            \"playlist\": [\n",
    "                26,\n",
    "                44\n",
    "            ]\n",
    "        }\n",
    "    },\n",
    "...\n",
    "    ```\n",
    "    \n",
    "**Upload your predictions without \"text\" and \"position\" fields!**"
   ]
  },
  {
   "cell_type": "markdown",
   "metadata": {},
   "source": [
    "### Emotion train data\n",
    "\n",
    "`features`-entry contains a list of a list with 26 items.\n",
    "* length of inner list: 26 (float numbers - represent one preprocessed speech frame (logMel))\n",
    "* length of outer list: number of frames per data-point, e.g. 10 or 15, ...\n",
    "* for easy parsing into an array, have a look at e.g. https://docs.scipy.org/doc/numpy-1.15.1/reference/generated/numpy.fromstring.html\n",
    "\n",
    "```\n",
    "{\"0\": {\"valence\": 0, \n",
    "       \"activation\": 1,\n",
    "       \"features\": [[5.502810676891276, 5.389630715979907, 5.89079939835461, 5.462222408074205, 5.482823967430299, 6.776999420417389, 7.500191549370183, 8.304382413190043, 8.01058604345238, 6.033706406358724, 7.067212416470815, 6.4463667723745965, 6.923879604046541, 8.091544891207468, 7.972158444902915, 7.641215050710871, 7.1507373690379525, 7.507756141316357, 7.074741477204279, 7.992954055443716, 7.576059013864094, 7.7207549746760975, 8.649263126832178, 8.220149828892483, 6.811228837696475, 6.457873509412178], [...], ...]\n",
    "       },\n",
    " \"1: \"valence\": 1, \n",
    "       \"activation\": 1,\n",
    "       \"features\": [[3.502810676891276, 5.389630715979907, 5.89079939835461, 5.462222408074205, 5.482823967430299, 6.776999420417389, 7.500191549370183, 8.304382413190043, 8.01058604345238, 6.033706406358724, 7.067212416470815, 6.4463667723745965, 2.923879604046541, 8.091544891207468, 7.972158444902915, 7.641215050710871, 7.1507373690379525, 7.507756141316357, 7.074741477204279, 7.992954055443716, 7.576059013864094, 7.7207549746760975, 8.649263126832178, 8.220149828892483, 6.811228837696475, 6.457873509412178], [...], ...]\n",
    "       },\n",
    "       ...\n",
    "```\n",
    "\n",
    "**Upload your predictions without \"features\" fields!**"
   ]
  },
  {
   "cell_type": "markdown",
   "metadata": {
    "slideshow": {
     "slide_type": "slide"
    }
   },
   "source": [
    "# Tensorflow 2 / Keras Tutorial\n",
    "\n",
    "* Tensorflow allows you to perform tensor calculations\n",
    "* great benefits:\n",
    "    * automatic differentiation\n",
    "    * move data to GPU -> faster calculation for large amounts of data\n",
    "\n",
    "Difference to pytorch?\n",
    "<img src=\"dlframeworks.png\" width=\"300px\"/>\n",
    "(found on https://me.me/)"
   ]
  },
  {
   "cell_type": "markdown",
   "metadata": {},
   "source": [
    "## First steps\n",
    "Install tensorflow (CPU-only): `pip install tensorflow`\n",
    "\n",
    "or for GPU (requires CUDA >= 10.0): `pip tensorflow-gpu`"
   ]
  },
  {
   "cell_type": "code",
   "execution_count": 14,
   "metadata": {},
   "outputs": [],
   "source": [
    "import tensorflow as tf\n",
    "import numpy as np"
   ]
  },
  {
   "cell_type": "markdown",
   "metadata": {},
   "source": [
    "## Tensors\n",
    "\n",
    "Tensors can be created in a number of ways:\n",
    "\n",
    "* from numpy arrays\n",
    "* from lists\n",
    "* using tensorflow functions\n",
    "    * e.g. `tf.ones`, `tf.zeros`, ...\n",
    "    * also, calculation functions convert to tf tensors automatically: `tf.add`, ..."
   ]
  },
  {
   "cell_type": "code",
   "execution_count": 15,
   "metadata": {},
   "outputs": [
    {
     "name": "stdout",
     "output_type": "stream",
     "text": [
      "type of a: <class 'numpy.ndarray'>\n",
      "type of b: <class 'tensorflow.python.framework.ops.EagerTensor'>\n",
      "type of c: <class 'tensorflow.python.framework.ops.EagerTensor'>\n",
      "tf.Tensor([1. 2. 3.], shape=(3,), dtype=float32)\n"
     ]
    }
   ],
   "source": [
    "import numpy as np\n",
    "import tensorflow as tf\n",
    "\n",
    "# create a numpy array\n",
    "a = np.array([1,2,3])\n",
    "print(f\"type of a: {type(a)}\")\n",
    "\n",
    "# create tensor of zeros\n",
    "b = tf.zeros((3,))\n",
    "print(f\"type of b: {type(b)}\")\n",
    "\n",
    "# automatic conversion to tensor\n",
    "c = tf.add(a,b)\n",
    "print(f\"type of c: {type(c)}\")\n",
    "\n",
    "# print contents\n",
    "print(c)"
   ]
  },
  {
   "cell_type": "markdown",
   "metadata": {},
   "source": [
    "Now the cool stuff - automatic differentiation!\n",
    "To tell tensorflow to record changes to variables, you need a `GradientTape`.\n",
    "It records the changes to variables \"on a tape\".\n",
    "This tape can then be queried for gradients.\n",
    "\n",
    "Let's differentiate $y = x*2 + z$ w.r.t $x, z \\in \\mathbb{R}^3$"
   ]
  },
  {
   "cell_type": "code",
   "execution_count": 16,
   "metadata": {},
   "outputs": [
    {
     "name": "stdout",
     "output_type": "stream",
     "text": [
      "y tf.Tensor([3. 3. 3.], shape=(3,), dtype=float32)\n",
      "dy/dx = [2. 2. 2.], dy/dz = [1. 1. 1.]\n"
     ]
    }
   ],
   "source": [
    "x = tf.ones((3,))\n",
    "z = tf.ones((3,))\n",
    "\n",
    "with tf.GradientTape(persistent=True) as t:\n",
    "    t.watch((x,z))\n",
    "    y = x*2 + z\n",
    "    print(\"y\", y)\n",
    "print(f\"dy/dx = {t.gradient(y,x)}, dy/dz = {t.gradient(y,z)}\")"
   ]
  },
  {
   "cell_type": "markdown",
   "metadata": {},
   "source": [
    "That is the first step on getting a trainable model - now that we can calculate gradients,\n",
    "we can try building and training our first linear layers - with one tensor for the weights and one for the bias.\n",
    "\n",
    "Tensors are, however, immutable - we actually want to adapt our weights by gradient descent over time.\n",
    "This is where *Variables* come in. They are essentially mutable tensors."
   ]
  },
  {
   "cell_type": "code",
   "execution_count": 17,
   "metadata": {},
   "outputs": [
    {
     "name": "stdout",
     "output_type": "stream",
     "text": [
      "<tf.Variable 'Variable:0' shape=(3,) dtype=float32, numpy=array([1., 1., 1.], dtype=float32)>\n",
      "<tf.Variable 'Variable:0' shape=(3,) dtype=float32, numpy=array([2., 2., 2.], dtype=float32)>\n"
     ]
    }
   ],
   "source": [
    "# create tensor of ones\n",
    "x = tf.Variable(tf.ones((3,)))\n",
    "print(x)\n",
    "\n",
    "# add tensor of ones, thereby changing the state of x\n",
    "x.assign_add(tf.ones((3,)))\n",
    "print(x)"
   ]
  },
  {
   "cell_type": "markdown",
   "metadata": {},
   "source": [
    "Now we have everything to build our own linear layer with sigmoid activation\n",
    "\n",
    "$f(\\mathbf{x}) = \\sigma(\\mathbf{W}\\mathbf{x} + \\mathbf{b})$\n",
    "\n",
    "and a square loss function\n",
    "\n",
    "$loss(y,\\hat{y}) = (y-\\hat{y})^2$"
   ]
  },
  {
   "cell_type": "code",
   "execution_count": 34,
   "metadata": {},
   "outputs": [
    {
     "name": "stdout",
     "output_type": "stream",
     "text": [
      "forward pass: sigmoid(Wx + b) =  tf.Tensor([[0.94996727]], shape=(1, 1), dtype=float32)\n",
      "loss:  tf.Tensor([[0.00250327]], shape=(1, 1), dtype=float32)\n",
      "backward pass:\n",
      "dloss/dW =  tf.Tensor([[-0.00475606 -0.00475606 -0.00475606 -0.00475606]], shape=(1, 4), dtype=float32)\n",
      "dloss/db =  tf.Tensor([[-0.00475606]], shape=(1, 1), dtype=float32)\n"
     ]
    }
   ],
   "source": [
    "def se_loss(y_hat, y):\n",
    "    loss = tf.square(y_hat-y)  # (y^ - y)^2\n",
    "    return loss\n",
    "\n",
    "class Perceptron:\n",
    "    def __init__(self, in_size: int, out_size: int):\n",
    "        # randomly initialize weights\n",
    "        self.W = tf.Variable(np.random.sample((out_size, in_size)), dtype=tf.float32)  # insize x outsize\n",
    "        self.b = tf.Variable(np.random.sample((out_size, 1)), dtype=tf.float32)        # outsize\n",
    "        self.activation = tf.sigmoid\n",
    "        \n",
    "    def __call__(self, x):\n",
    "        # forward pass \n",
    "        Wx = tf.matmul(self.W, x)\n",
    "        z = tf.add(Wx, self.b)\n",
    "        y = self.activation(z)\n",
    "        return y\n",
    "    \n",
    "    \n",
    "\n",
    "def loss_and_grads(model, x, y, print_stuff=False):\n",
    "    with tf.GradientTape() as t:\n",
    "        y_hat = model(x)\n",
    "        loss = se_loss(y_hat, y)\n",
    "        \n",
    "    dW, db = t.gradient(loss, [model.W, model.b])\n",
    "    if print_stuff:\n",
    "        print(\"forward pass: sigmoid(Wx + b) = \", y_hat)\n",
    "        print(\"loss: \", loss)\n",
    "        print(\"backward pass:\")\n",
    "        print(\"dloss/dW = \", dW)\n",
    "        print(\"dloss/db = \", db)\n",
    "    return y_hat, loss, (dW, db)\n",
    "    \n",
    "\n",
    "l = Perceptron(in_size=4, out_size=1)\n",
    "x = tf.ones((4,1))\n",
    "y = tf.ones((1,))\n",
    "y_hat, loss, t = loss_and_grads(l, x, y, print_stuff=True)"
   ]
  },
  {
   "cell_type": "markdown",
   "metadata": {},
   "source": [
    "## Training your first neural network\n",
    "\n",
    "**Our problem:** \n",
    "Ever since Grumpy Cat became internet famous, he has been put on millions of memes.\n",
    "As you can imagine, there is a huge amount of requests for him to judge events as being either nice or horrible.\n",
    "Grumpy Cat is sick of dealing with each request manually and wants us to build a very sophisticated classifier for this task using neural networks (being a lot on the internet, Grumpy Cat knows what the latest hype is about).\n",
    "\n",
    "<img src=\"https://i2.wp.com/metro.co.uk/wp-content/uploads/2019/05/SEI_67888770.jpg?quality=90&strip=all&zoom=1&resize=540%2C405&ssl=1\"/>\n",
    "(https://i2.wp.com/metro.co.uk/wp-content/uploads/2019/05/SEI_67888770.jpg?quality=90&strip=all&zoom=1&resize=540%2C405&ssl=1)\n",
    "\n",
    "So we ask Grumpy Cat for some example data points in the form of $(x,y)$. \n",
    "x refers to Grumpy Cat's observations, y to his rating.\n",
    "\n",
    "where x = (\n",
    "           # mondays in sentence, \n",
    "           # references to a movie, \n",
    "           grumy cat had breakfast (0 or 1), \n",
    "           # humans grumpy cat has seen today\n",
    "           )\n",
    "and $y = 0$ if nice, $y=1$ if horrible.\n",
    "\n",
    "Grumpy cat then concatenates all samples into a dataset $(X,Y)$:\n",
    "$X \\in \\mathbb{R}^{n \\times 4}, Y \\in \\mathbb{R}^{n \\times 1} $"
   ]
  },
  {
   "cell_type": "code",
   "execution_count": 35,
   "metadata": {},
   "outputs": [
    {
     "name": "stdout",
     "output_type": "stream",
     "text": [
      "X shape: (1000, 4)\n",
      "mondays: 8, movies: 1, breakfast: True, humans: 27\n",
      "mondays: 7, movies: 5, breakfast: True, humans: 37\n",
      "mondays: 0, movies: 4, breakfast: False, humans: 12\n",
      "mondays: 6, movies: 0, breakfast: False, humans: 13\n",
      "mondays: 8, movies: 0, breakfast: True, humans: 2\n",
      "Y shape:  (1000,)\n"
     ]
    }
   ],
   "source": [
    "num_samples = 1000\n",
    "\n",
    "num_mondays = np.random.randint(low=0, high=10, size=(num_samples,))\n",
    "num_references = np.random.randint(low=0, high=10, size=(num_samples,))\n",
    "had_breakfast = np.random.randint(low=0, high=2, size=(num_samples,))\n",
    "num_humans = np.random.randint(low=0, high=50, size=(num_samples,))\n",
    "\n",
    "# create X by concatenating features column-wise\n",
    "X = np.stack([num_mondays, num_references, had_breakfast, num_humans], axis=1)\n",
    "print(\"X shape:\", X.shape)\n",
    "for i in range(5):\n",
    "    print(f\"mondays: {X[i,0]}, movies: {X[i,1]}, breakfast: {bool(X[i,2])}, humans: {X[i,3]}\")\n",
    "    \n",
    "# create Y:\n",
    "Y = np.random.randint(low=1, high=2, size=(num_samples, )) # everything is horrible!\n",
    "print(\"Y shape: \", Y.shape)"
   ]
  },
  {
   "cell_type": "code",
   "execution_count": 38,
   "metadata": {},
   "outputs": [
    {
     "name": "stdout",
     "output_type": "stream",
     "text": [
      "initial bias: <tf.Variable 'Variable:0' shape=(1, 1) dtype=float32, numpy=array([[0.26318178]], dtype=float32)>\n",
      "intial weights: <tf.Variable 'Variable:0' shape=(1, 4) dtype=float32, numpy=array([[0.9709684 , 0.17693357, 0.0698963 , 0.45808178]], dtype=float32)>\n",
      "epoch 0 loss: 0.00013428535021375865\n",
      "epoch 1 loss: 5.184162000659853e-05\n",
      "epoch 2 loss: 3.506531356833875e-05\n",
      "epoch 3 loss: 2.665461943252012e-05\n",
      "epoch 4 loss: 2.1562225811067037e-05\n",
      "trained bias <tf.Variable 'Variable:0' shape=(1, 1) dtype=float32, numpy=array([[0.50272363]], dtype=float32)>\n",
      "trained weights <tf.Variable 'Variable:0' shape=(1, 4) dtype=float32, numpy=array([[1.026868  , 0.7149183 , 0.25046566, 0.711131  ]], dtype=float32)>\n"
     ]
    },
    {
     "data": {
      "image/png": "[encoded data removed]",
      "text/plain": [
       "<Figure size 432x288 with 1 Axes>"
      ]
     },
     "metadata": {
      "needs_background": "light"
     },
     "output_type": "display_data"
    }
   ],
   "source": [
    "import matplotlib.pyplot as plt\n",
    "import random\n",
    "\n",
    "alpha = 0.5\n",
    "perceptron = Perceptron(in_size=4, out_size=1)\n",
    "print(\"initial bias:\", perceptron.b)\n",
    "print(\"intial weights:\", perceptron.W)\n",
    "\n",
    "losses = []\n",
    "for epoch in range(5):\n",
    "    epoch_loss = []\n",
    "    shuffled_indices = list(range(X.shape[0]))\n",
    "    random.shuffle(shuffled_indices)\n",
    "    for i in shuffled_indices:\n",
    "        # forward & backward pass (just draw radom x, try to map all inputs to 1)\n",
    "        x = tf.convert_to_tensor(X[i,:].reshape(4,1), dtype=tf.float32)\n",
    "        y = tf.convert_to_tensor(Y[i], dtype=tf.float32)\n",
    "        \n",
    "        y_hat, loss, (dW, db) = loss_and_grads(perceptron, x, y)\n",
    "\n",
    "        # apply gradients from backward pass\n",
    "        perceptron.W.assign_sub(alpha * dW)\n",
    "        perceptron.b.assign_sub(alpha * db)\n",
    "\n",
    "        epoch_loss.append(loss[0,0])\n",
    "    print(f\"epoch {epoch} loss: {sum(epoch_loss) / len(epoch_loss)}\")\n",
    "    losses.append(sum(epoch_loss) / len(epoch_loss))\n",
    "\n",
    "plt.plot(losses)\n",
    "print(\"trained bias\", perceptron.b)\n",
    "print(\"trained weights\", perceptron.W)"
   ]
  },
  {
   "cell_type": "markdown",
   "metadata": {},
   "source": [
    "Let's try some predictions (remember: 0 is nice, 1 is grumpy):"
   ]
  },
  {
   "cell_type": "code",
   "execution_count": 40,
   "metadata": {},
   "outputs": [
    {
     "name": "stdout",
     "output_type": "stream",
     "text": [
      "tf.Tensor([[1.]], shape=(1, 1), dtype=float32)\n",
      "tf.Tensor([[0.9999989]], shape=(1, 1), dtype=float32)\n",
      "tf.Tensor([[0.9998735]], shape=(1, 1), dtype=float32)\n"
     ]
    }
   ],
   "source": [
    "def predict(x):\n",
    "    y_hat = perceptron(x)\n",
    "    return y_hat\n",
    "    \n",
    "print(predict([[10.],[10.],[0.],[10.]]))\n",
    "print(predict([[5.],[3.],[1.],[8.]]))\n",
    "print(predict([[2.],[5.],[0.],[4.]]))"
   ]
  },
  {
   "cell_type": "markdown",
   "metadata": {},
   "source": [
    "We present our model to grumpy cat, and, suprisingly, he thinks we did a woeful job.\n",
    "\n",
    "<img width=\"450px\" src=\"https://pm1.narvii.com/5788/b89a6d573c478bd8c4c17328ab101c8a08f4e84e_hq.jpg\"/>\n",
    "(https://pm1.narvii.com/5788/b89a6d573c478bd8c4c17328ab101c8a08f4e84e_hq.jpg\")\n",
    "\n",
    "\n",
    "According to him, our approach is flawed in multiple ways:\n",
    "* potentially unstable (fixed learning rate, no averaging across multiple samples - high gradient variance)\n",
    "* inefficient (no batching)\n",
    "\n",
    "\n",
    "As is customary with cats, grumpy changed his mind - he now wants us to do multi-class classification: $y \\in \\{$ nice, bad, very bad $\\}$!\n",
    "\n",
    "\n",
    "Also, Grumpy recently heard of \"deep\" learning and is afraid that our model is too shallow to be trendy anymore.\n",
    "\n",
    "\n",
    "**Phew, that would be a large amount of work to modify our model!**\n",
    "\n",
    "Keras to the rescue!"
   ]
  },
  {
   "cell_type": "markdown",
   "metadata": {},
   "source": [
    "Let's first re-build our current Model with Keras.\n",
    "\n",
    "We will make use of the following functionallity\n",
    "* tf.keras.Sequential module: a list of network layers\n",
    "* tf.keras.layers.Dense: a linear layer with activation of your choosing\n",
    "* compile(): create your model with optimizer and loss function\n",
    "* fit(): train on input data and labels for the specified amount of epochs\n",
    "* history: keras records training statistics for us"
   ]
  },
  {
   "cell_type": "code",
   "execution_count": 103,
   "metadata": {},
   "outputs": [
    {
     "name": "stdout",
     "output_type": "stream",
     "text": [
      "Train on 1000 samples\n",
      "Epoch 1/5\n",
      "1000/1000 [==============================] - 1s 746us/sample - loss: 3.9864e-04\n",
      "Epoch 2/5\n",
      "1000/1000 [==============================] - 1s 611us/sample - loss: 1.2651e-04\n",
      "Epoch 3/5\n",
      "1000/1000 [==============================] - 1s 619us/sample - loss: 9.6987e-05\n",
      "Epoch 4/5\n",
      "1000/1000 [==============================] - 1s 621us/sample - loss: 7.8165e-05\n",
      "Epoch 5/5\n",
      "1000/1000 [==============================] - 1s 624us/sample - loss: 6.5075e-05\n"
     ]
    },
    {
     "data": {
      "image/png": "[encoded data removed]",
      "text/plain": [
       "<Figure size 432x288 with 1 Axes>"
      ]
     },
     "metadata": {
      "needs_background": "light"
     },
     "output_type": "display_data"
    }
   ],
   "source": [
    "import tensorflow as tf\n",
    "import tensorflow.keras as keras\n",
    "\n",
    "\n",
    "perceptron = tf.keras.Sequential([\n",
    "    tf.keras.layers.Dense(1, activation=\"sigmoid\")\n",
    "])\n",
    "perceptron.compile(optimizer=tf.keras.optimizers.SGD(learning_rate=0.5),\n",
    "              loss=keras.losses.MeanSquaredError())\n",
    "train_history = perceptron.fit(X, Y, epochs=5, batch_size=1)\n",
    "\n",
    "# Plot training loss values\n",
    "plt.plot(train_history.history['loss'])\n",
    "plt.title('Model loss')\n",
    "plt.ylabel('Loss')\n",
    "plt.xlabel('Epoch')\n",
    "plt.legend(['Train'], loc='upper left')\n",
    "plt.show()"
   ]
  },
  {
   "cell_type": "markdown",
   "metadata": {},
   "source": [
    "We can improve stability & performance by batching (processing multiple data points at the same time -> averaging  the gradients across one mini-batch instead of one sample -> stability).\n",
    "\n",
    "That means, we append a batch dimension ($b \\in \\mathbb{N}^{+}$) to our tensors:\n",
    "    \n",
    "$x \\in \\mathbb{R}^4 \\rightarrow x \\in \\mathbb{R}^{b \\times 4}$ \n",
    "\n",
    "and\n",
    "\n",
    "$y \\in \\mathbb{R} \\rightarrow y \\in \\mathbb{R}^{b \\times 1}$\n",
    "\n",
    "In Keras, we can specify the batch size simply by appending it to the compile() arguments."
   ]
  },
  {
   "cell_type": "code",
   "execution_count": 104,
   "metadata": {},
   "outputs": [
    {
     "name": "stdout",
     "output_type": "stream",
     "text": [
      "Train on 1000 samples\n",
      "Epoch 1/5\n",
      "1000/1000 [==============================] - 0s 180us/sample - loss: 0.0044\n",
      "Epoch 2/5\n",
      "1000/1000 [==============================] - 0s 29us/sample - loss: 0.0011\n",
      "Epoch 3/5\n",
      "1000/1000 [==============================] - 0s 30us/sample - loss: 6.7186e-04\n",
      "Epoch 4/5\n",
      "1000/1000 [==============================] - 0s 23us/sample - loss: 5.3000e-04\n",
      "Epoch 5/5\n",
      "1000/1000 [==============================] - 0s 25us/sample - loss: 4.5199e-04\n"
     ]
    },
    {
     "data": {
      "image/png": "[encoded data removed]",
      "text/plain": [
       "<Figure size 432x288 with 1 Axes>"
      ]
     },
     "metadata": {
      "needs_background": "light"
     },
     "output_type": "display_data"
    }
   ],
   "source": [
    "perceptron = tf.keras.Sequential([\n",
    "    tf.keras.layers.Dense(1, activation='sigmoid')\n",
    "])\n",
    "perceptron.compile(optimizer=tf.keras.optimizers.SGD(learning_rate=0.5),\n",
    "              loss=keras.losses.MeanSquaredError(), batch_size=16)\n",
    "train_history = perceptron.fit(X,Y, epochs=5)\n",
    "\n",
    "\n",
    "# Plot training loss values\n",
    "plt.plot(train_history.history['loss'])\n",
    "plt.title('Model loss')\n",
    "plt.ylabel('Loss')\n",
    "plt.xlabel('Epoch')\n",
    "plt.legend(['Train'], loc='upper left')\n",
    "plt.show()"
   ]
  },
  {
   "cell_type": "markdown",
   "metadata": {},
   "source": [
    "Now, the last change Grumpy Cat demanded of us:\n",
    "More layers and multi-class classification!\n",
    "\n",
    "As you learned in your last excercise, we will expand the network to output 1 number per class,\n",
    "apply softmax instead of sigmoid and finally swap our loss function to *CrossEntropy*."
   ]
  },
  {
   "cell_type": "code",
   "execution_count": 9,
   "metadata": {},
   "outputs": [
    {
     "name": "stdout",
     "output_type": "stream",
     "text": [
      "label shape: (1000,)\n"
     ]
    },
    {
     "data": {
      "image/png": "[encoded data removed]",
      "text/plain": [
       "<Figure size 432x288 with 1 Axes>"
      ]
     },
     "metadata": {
      "needs_background": "light"
     },
     "output_type": "display_data"
    }
   ],
   "source": [
    "multiClassModel = tf.keras.Sequential([\n",
    "    tf.keras.layers.Dense(3, activation='sigmoid'),\n",
    "    tf.keras.layers.Dense(3, activation='softmax')\n",
    "])\n",
    "multiClassModel.compile(optimizer=tf.keras.optimizers.SGD(learning_rate=0.5),\n",
    "              loss='categorical_crossentropy', batch_size=16)\n",
    "\n",
    "Y_multiClass = np.zeros((X.shape[0], 3))\n",
    "Y_multiClass[:,2] = 1\n",
    "train_history = multiClassModel.fit(X,Y_multiClass, epochs=10, verbose=0)\n",
    "\n",
    "\n",
    "# Plot training loss values\n",
    "plt.plot(train_history.history['loss'])\n",
    "plt.title('Model loss')\n",
    "plt.ylabel('Loss')\n",
    "plt.xlabel('Sample')\n",
    "plt.legend(['Train'], loc='upper left')\n",
    "plt.show()"
   ]
  },
  {
   "cell_type": "markdown",
   "metadata": {},
   "source": [
    "We can use keras not only to train, but also to predict:"
   ]
  },
  {
   "cell_type": "code",
   "execution_count": 10,
   "metadata": {},
   "outputs": [
    {
     "name": "stdout",
     "output_type": "stream",
     "text": [
      "[[0.00209901 0.00467763 0.9932234 ]]\n",
      "[[4.6960931e-04 4.0353127e-04 9.9912685e-01]]\n",
      "[[4.8860622e-04 4.3201671e-04 9.9907935e-01]]\n"
     ]
    }
   ],
   "source": [
    "import tensorflow.keras as keras\n",
    "import matplotlib.pyplot as plt\n",
    "print(multiClassModel.predict(X[0,:].reshape(1,4)))\n",
    "print(multiClassModel.predict([[5.,3.,1.,8.]]))\n",
    "print(multiClassModel.predict([[2.,5.,0.,4.]]))"
   ]
  },
  {
   "cell_type": "markdown",
   "metadata": {},
   "source": [
    "To see our model architecture in more human-readable form, we can use the *summary()* function"
   ]
  },
  {
   "cell_type": "code",
   "execution_count": 12,
   "metadata": {},
   "outputs": [
    {
     "name": "stdout",
     "output_type": "stream",
     "text": [
      "Model: \"sequential\"\n",
      "_________________________________________________________________\n",
      "Layer (type)                 Output Shape              Param #   \n",
      "=================================================================\n",
      "dense (Dense)                multiple                  15        \n",
      "_________________________________________________________________\n",
      "dense_1 (Dense)              multiple                  12        \n",
      "=================================================================\n",
      "Total params: 27\n",
      "Trainable params: 27\n",
      "Non-trainable params: 0\n",
      "_________________________________________________________________\n",
      "None\n"
     ]
    }
   ],
   "source": [
    "print(multiClassModel.summary())"
   ]
  },
  {
   "cell_type": "markdown",
   "metadata": {},
   "source": [
    "Best practices:\n",
    "* Split your dataset into training, development and test datasets\n",
    "    * train on training set\n",
    "    * tune your model on development set\n",
    "    * test your model on test set\n",
    "        * only then do you have an estimate how well your model works on unseen data\n",
    "        * **never use test set for training or tuning!**"
   ]
  },
  {
   "cell_type": "markdown",
   "metadata": {},
   "source": [
    "Using a development set during training in Keras is easy:\n",
    "either provide `validation_data` to the fit function or \n",
    "provide the fraction of your training set to be used as validatiton data via `validation_split` $\\in [0,1)$"
   ]
  },
  {
   "cell_type": "code",
   "execution_count": 50,
   "metadata": {},
   "outputs": [
    {
     "data": {
      "image/png": "[encoded data removed]",
      "text/plain": [
       "<Figure size 432x288 with 1 Axes>"
      ]
     },
     "metadata": {
      "needs_background": "light"
     },
     "output_type": "display_data"
    }
   ],
   "source": [
    "multiClassModel = tf.keras.Sequential([\n",
    "    tf.keras.layers.Dense(3, activation='sigmoid'),\n",
    "    tf.keras.layers.Dense(3, activation='softmax')\n",
    "])\n",
    "multiClassModel.compile(optimizer=tf.keras.optimizers.SGD(learning_rate=0.5),\n",
    "              loss='categorical_crossentropy', batch_size=16)\n",
    "\n",
    "Y_multiClass = np.zeros((X.shape[0], 3))\n",
    "Y_multiClass[:,2] = 1\n",
    "train_history = multiClassModel.fit(X,Y_multiClass, epochs=10, verbose=0, validation_split=0.3)\n",
    "\n",
    "# Plot training and development loss values\n",
    "plt.plot(train_history.history['loss'])\n",
    "plt.plot(train_history.history['val_loss'])\n",
    "plt.title('Model loss')\n",
    "plt.ylabel('Loss')\n",
    "plt.xlabel('Sample')\n",
    "plt.legend(['Train', 'Validation'], loc='upper left')\n",
    "plt.show()"
   ]
  },
  {
   "cell_type": "markdown",
   "metadata": {},
   "source": [
    "For testing, Keras comes with the `evaluate()`-function"
   ]
  },
  {
   "cell_type": "code",
   "execution_count": null,
   "metadata": {},
   "outputs": [],
   "source": [
    "train_history = multiClassModel.evaluate(X,Y_multiClass)"
   ]
  },
  {
   "cell_type": "markdown",
   "metadata": {},
   "source": [
    "For a classifier, you might also be interested in the accuracy:"
   ]
  },
  {
   "cell_type": "code",
   "execution_count": 57,
   "metadata": {},
   "outputs": [
    {
     "data": {
      "image/png": "[encoded data removed]",
      "text/plain": [
       "<Figure size 432x288 with 1 Axes>"
      ]
     },
     "metadata": {
      "needs_background": "light"
     },
     "output_type": "display_data"
    }
   ],
   "source": [
    "multiClassModel = tf.keras.Sequential([\n",
    "    tf.keras.layers.Dense(3, activation='sigmoid'),\n",
    "    tf.keras.layers.Dense(3, activation='softmax')\n",
    "])\n",
    "multiClassModel.compile(optimizer=tf.keras.optimizers.SGD(learning_rate=0.5),\n",
    "              loss='categorical_crossentropy', batch_size=16, metrics=['accuracy'])\n",
    "\n",
    "Y_multiClass = np.zeros((X.shape[0], 3))\n",
    "Y_multiClass[:,2] = 1\n",
    "history = multiClassModel.fit(X,Y_multiClass, epochs=10, verbose=0, validation_split=0.3)\n",
    "\n",
    "# Plot training & validation accuracy values\n",
    "plt.plot(history.history['accuracy'])\n",
    "plt.plot(history.history['val_accuracy'])\n",
    "plt.title('Model accuracy')\n",
    "plt.ylabel('Accuracy')\n",
    "plt.xlabel('Epoch')\n",
    "plt.legend(['Train', 'Validation'], loc='upper left')\n",
    "plt.show()"
   ]
  },
  {
   "cell_type": "markdown",
   "metadata": {},
   "source": [
    "### Creating custom keras models\n",
    "\n",
    "Instead of using `keras.Sequential`, we can also write our own model class by inheriting from `keras.Model`:"
   ]
  },
  {
   "cell_type": "code",
   "execution_count": null,
   "metadata": {},
   "outputs": [],
   "source": [
    "class FancyClassifier(tf.keras.Model):\n",
    "  def __init__(self):\n",
    "    super(FancyClassifier, self).__init__()\n",
    "    self.d1 = keras.layers.Dense(4, activation='relu')\n",
    "    self.d2 = keras.layers.Dense(4, activation='relu')\n",
    "    self.out = keras.layers.Dense(1, activation='sigmoid')\n",
    "\n",
    "  def call(self, x):\n",
    "    x = self.d1(x)\n",
    "    x = self.d2(x)\n",
    "    return self.out(x)\n",
    "model = FancyClassifier()\n",
    "\n",
    "model.compile(optimizer=tf.keras.optimizers.SGD(learning_rate=0.001),\n",
    "              loss=keras.losses.MeanSquaredError())"
   ]
  },
  {
   "cell_type": "markdown",
   "metadata": {},
   "source": [
    "Training is also just calling `model.fit(...)`\n",
    "You can also pass custom loss functions, etc."
   ]
  },
  {
   "cell_type": "markdown",
   "metadata": {},
   "source": [
    "If you want to evaluate your model on some test dataset\n",
    "(like fit without training, but including metrics),\n",
    "you can use `evaluate()`:"
   ]
  },
  {
   "cell_type": "markdown",
   "metadata": {},
   "source": [
    "<img src=\"https://scontent-frt3-2.xx.fbcdn.net/v/t1.0-9/42796029_465114587315960_6550463706432536576_n.jpg?_nc_cat=101&_nc_oc=AQlWzG0jGpz36Z_x7h391LLQYucyjLi-bKAQVeB1FRlZhqRakSaOO-1wJMa81Z2QK6zqfISwlEy4YgscK6dmiUOr&_nc_ht=scontent-frt3-2.xx&oh=8df7c6e743ea7faf549f82cb949e1e55&oe=5E42E014\"/>\n",
    "(https://scontent-frt3-2.xx.fbcdn.net/v/t1.0-9/42796029_465114587315960_6550463706432536576_n.jpg?_nc_cat=101&_nc_oc=AQlWzG0jGpz36Z_x7h391LLQYucyjLi-bKAQVeB1FRlZhqRakSaOO-1wJMa81Z2QK6zqfISwlEy4YgscK6dmiUOr&_nc_ht=scontent-frt3-2.xx&oh=8df7c6e743ea7faf549f82cb949e1e55&oe=5E42E014)"
   ]
  },
  {
   "cell_type": "code",
   "execution_count": null,
   "metadata": {},
   "outputs": [],
   "source": []
  }
 ],
 "metadata": {
  "kernelspec": {
   "display_name": "Python 3",
   "language": "python",
   "name": "python3"
  },
  "language_info": {
   "codemirror_mode": {
    "name": "ipython",
    "version": 3
   },
   "file_extension": ".py",
   "mimetype": "text/x-python",
   "name": "python",
   "nbconvert_exporter": "python",
   "pygments_lexer": "ipython3",
   "version": "3.7.3"
  }
 },
 "nbformat": 4,
 "nbformat_minor": 2
}
