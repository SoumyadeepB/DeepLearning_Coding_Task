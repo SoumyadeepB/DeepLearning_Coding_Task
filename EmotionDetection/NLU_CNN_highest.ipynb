{
  "nbformat": 4,
  "nbformat_minor": 0,
  "metadata": {
    "colab": {
      "name": "NLU_CNN_2.ipynb",
      "provenance": [],
      "collapsed_sections": [],
      "machine_shape": "hm"
    },
    "kernelspec": {
      "name": "python3",
      "display_name": "Python 3"
    },
    "accelerator": "GPU",
    "widgets": {
      "application/vnd.jupyter.widget-state+json": {
        "2aa22a7509a94306be246eaada417804": {
          "model_module": "@jupyter-widgets/controls",
          "model_name": "HBoxModel",
          "state": {
            "_view_name": "HBoxView",
            "_dom_classes": [],
            "_model_name": "HBoxModel",
            "_view_module": "@jupyter-widgets/controls",
            "_model_module_version": "1.5.0",
            "_view_count": null,
            "_view_module_version": "1.5.0",
            "box_style": "",
            "layout": "IPY_MODEL_57dc424efd9644f6b97f7bc9a3f381fa",
            "_model_module": "@jupyter-widgets/controls",
            "children": [
              "IPY_MODEL_8df515f2f5044d73be84a01cf9707be7",
              "IPY_MODEL_fb1ac3f669d041ff85a52815a6b08ddf"
            ]
          }
        },
        "57dc424efd9644f6b97f7bc9a3f381fa": {
          "model_module": "@jupyter-widgets/base",
          "model_name": "LayoutModel",
          "state": {
            "_view_name": "LayoutView",
            "grid_template_rows": null,
            "right": null,
            "justify_content": null,
            "_view_module": "@jupyter-widgets/base",
            "overflow": null,
            "_model_module_version": "1.2.0",
            "_view_count": null,
            "flex_flow": null,
            "width": null,
            "min_width": null,
            "border": null,
            "align_items": null,
            "bottom": null,
            "_model_module": "@jupyter-widgets/base",
            "top": null,
            "grid_column": null,
            "overflow_y": null,
            "overflow_x": null,
            "grid_auto_flow": null,
            "grid_area": null,
            "grid_template_columns": null,
            "flex": null,
            "_model_name": "LayoutModel",
            "justify_items": null,
            "grid_row": null,
            "max_height": null,
            "align_content": null,
            "visibility": null,
            "align_self": null,
            "height": null,
            "min_height": null,
            "padding": null,
            "grid_auto_rows": null,
            "grid_gap": null,
            "max_width": null,
            "order": null,
            "_view_module_version": "1.2.0",
            "grid_template_areas": null,
            "object_position": null,
            "object_fit": null,
            "grid_auto_columns": null,
            "margin": null,
            "display": null,
            "left": null
          }
        },
        "8df515f2f5044d73be84a01cf9707be7": {
          "model_module": "@jupyter-widgets/controls",
          "model_name": "IntProgressModel",
          "state": {
            "_view_name": "ProgressView",
            "style": "IPY_MODEL_287c757762ee46f4865b560255db6710",
            "_dom_classes": [],
            "description": "",
            "_model_name": "IntProgressModel",
            "bar_style": "success",
            "max": 7800,
            "_view_module": "@jupyter-widgets/controls",
            "_model_module_version": "1.5.0",
            "value": 7800,
            "_view_count": null,
            "_view_module_version": "1.5.0",
            "orientation": "horizontal",
            "min": 0,
            "description_tooltip": null,
            "_model_module": "@jupyter-widgets/controls",
            "layout": "IPY_MODEL_15c8fe62b7124a7f81ba5105f7b44958"
          }
        },
        "fb1ac3f669d041ff85a52815a6b08ddf": {
          "model_module": "@jupyter-widgets/controls",
          "model_name": "HTMLModel",
          "state": {
            "_view_name": "HTMLView",
            "style": "IPY_MODEL_49e48393179a45a78bd64fbe9d4206ce",
            "_dom_classes": [],
            "description": "",
            "_model_name": "HTMLModel",
            "placeholder": "​",
            "_view_module": "@jupyter-widgets/controls",
            "_model_module_version": "1.5.0",
            "value": "100% 7800/7800 [00:01&lt;00:00, 6199.75it/s]",
            "_view_count": null,
            "_view_module_version": "1.5.0",
            "description_tooltip": null,
            "_model_module": "@jupyter-widgets/controls",
            "layout": "IPY_MODEL_41bc88f025014e059f4958cc8463bc9f"
          }
        },
        "287c757762ee46f4865b560255db6710": {
          "model_module": "@jupyter-widgets/controls",
          "model_name": "ProgressStyleModel",
          "state": {
            "_view_name": "StyleView",
            "_model_name": "ProgressStyleModel",
            "description_width": "",
            "_view_module": "@jupyter-widgets/base",
            "_model_module_version": "1.5.0",
            "_view_count": null,
            "_view_module_version": "1.2.0",
            "bar_color": null,
            "_model_module": "@jupyter-widgets/controls"
          }
        },
        "15c8fe62b7124a7f81ba5105f7b44958": {
          "model_module": "@jupyter-widgets/base",
          "model_name": "LayoutModel",
          "state": {
            "_view_name": "LayoutView",
            "grid_template_rows": null,
            "right": null,
            "justify_content": null,
            "_view_module": "@jupyter-widgets/base",
            "overflow": null,
            "_model_module_version": "1.2.0",
            "_view_count": null,
            "flex_flow": null,
            "width": null,
            "min_width": null,
            "border": null,
            "align_items": null,
            "bottom": null,
            "_model_module": "@jupyter-widgets/base",
            "top": null,
            "grid_column": null,
            "overflow_y": null,
            "overflow_x": null,
            "grid_auto_flow": null,
            "grid_area": null,
            "grid_template_columns": null,
            "flex": null,
            "_model_name": "LayoutModel",
            "justify_items": null,
            "grid_row": null,
            "max_height": null,
            "align_content": null,
            "visibility": null,
            "align_self": null,
            "height": null,
            "min_height": null,
            "padding": null,
            "grid_auto_rows": null,
            "grid_gap": null,
            "max_width": null,
            "order": null,
            "_view_module_version": "1.2.0",
            "grid_template_areas": null,
            "object_position": null,
            "object_fit": null,
            "grid_auto_columns": null,
            "margin": null,
            "display": null,
            "left": null
          }
        },
        "49e48393179a45a78bd64fbe9d4206ce": {
          "model_module": "@jupyter-widgets/controls",
          "model_name": "DescriptionStyleModel",
          "state": {
            "_view_name": "StyleView",
            "_model_name": "DescriptionStyleModel",
            "description_width": "",
            "_view_module": "@jupyter-widgets/base",
            "_model_module_version": "1.5.0",
            "_view_count": null,
            "_view_module_version": "1.2.0",
            "_model_module": "@jupyter-widgets/controls"
          }
        },
        "41bc88f025014e059f4958cc8463bc9f": {
          "model_module": "@jupyter-widgets/base",
          "model_name": "LayoutModel",
          "state": {
            "_view_name": "LayoutView",
            "grid_template_rows": null,
            "right": null,
            "justify_content": null,
            "_view_module": "@jupyter-widgets/base",
            "overflow": null,
            "_model_module_version": "1.2.0",
            "_view_count": null,
            "flex_flow": null,
            "width": null,
            "min_width": null,
            "border": null,
            "align_items": null,
            "bottom": null,
            "_model_module": "@jupyter-widgets/base",
            "top": null,
            "grid_column": null,
            "overflow_y": null,
            "overflow_x": null,
            "grid_auto_flow": null,
            "grid_area": null,
            "grid_template_columns": null,
            "flex": null,
            "_model_name": "LayoutModel",
            "justify_items": null,
            "grid_row": null,
            "max_height": null,
            "align_content": null,
            "visibility": null,
            "align_self": null,
            "height": null,
            "min_height": null,
            "padding": null,
            "grid_auto_rows": null,
            "grid_gap": null,
            "max_width": null,
            "order": null,
            "_view_module_version": "1.2.0",
            "grid_template_areas": null,
            "object_position": null,
            "object_fit": null,
            "grid_auto_columns": null,
            "margin": null,
            "display": null,
            "left": null
          }
        },
        "e146abb0ecdc470e8028817278765cf6": {
          "model_module": "@jupyter-widgets/controls",
          "model_name": "HBoxModel",
          "state": {
            "_view_name": "HBoxView",
            "_dom_classes": [],
            "_model_name": "HBoxModel",
            "_view_module": "@jupyter-widgets/controls",
            "_model_module_version": "1.5.0",
            "_view_count": null,
            "_view_module_version": "1.5.0",
            "box_style": "",
            "layout": "IPY_MODEL_aae9bcc772384e86ad6f84e54dcfae3b",
            "_model_module": "@jupyter-widgets/controls",
            "children": [
              "IPY_MODEL_3b77ae1552d24120865393f326a71605",
              "IPY_MODEL_fc43475959b74c1f886ecf9134edc935"
            ]
          }
        },
        "aae9bcc772384e86ad6f84e54dcfae3b": {
          "model_module": "@jupyter-widgets/base",
          "model_name": "LayoutModel",
          "state": {
            "_view_name": "LayoutView",
            "grid_template_rows": null,
            "right": null,
            "justify_content": null,
            "_view_module": "@jupyter-widgets/base",
            "overflow": null,
            "_model_module_version": "1.2.0",
            "_view_count": null,
            "flex_flow": null,
            "width": null,
            "min_width": null,
            "border": null,
            "align_items": null,
            "bottom": null,
            "_model_module": "@jupyter-widgets/base",
            "top": null,
            "grid_column": null,
            "overflow_y": null,
            "overflow_x": null,
            "grid_auto_flow": null,
            "grid_area": null,
            "grid_template_columns": null,
            "flex": null,
            "_model_name": "LayoutModel",
            "justify_items": null,
            "grid_row": null,
            "max_height": null,
            "align_content": null,
            "visibility": null,
            "align_self": null,
            "height": null,
            "min_height": null,
            "padding": null,
            "grid_auto_rows": null,
            "grid_gap": null,
            "max_width": null,
            "order": null,
            "_view_module_version": "1.2.0",
            "grid_template_areas": null,
            "object_position": null,
            "object_fit": null,
            "grid_auto_columns": null,
            "margin": null,
            "display": null,
            "left": null
          }
        },
        "3b77ae1552d24120865393f326a71605": {
          "model_module": "@jupyter-widgets/controls",
          "model_name": "IntProgressModel",
          "state": {
            "_view_name": "ProgressView",
            "style": "IPY_MODEL_dec9fe87ae2944e08102d0577addcc23",
            "_dom_classes": [],
            "description": "",
            "_model_name": "IntProgressModel",
            "bar_style": "success",
            "max": 7800,
            "_view_module": "@jupyter-widgets/controls",
            "_model_module_version": "1.5.0",
            "value": 7800,
            "_view_count": null,
            "_view_module_version": "1.5.0",
            "orientation": "horizontal",
            "min": 0,
            "description_tooltip": null,
            "_model_module": "@jupyter-widgets/controls",
            "layout": "IPY_MODEL_0e153edafadc4f019072255b7958d0da"
          }
        },
        "fc43475959b74c1f886ecf9134edc935": {
          "model_module": "@jupyter-widgets/controls",
          "model_name": "HTMLModel",
          "state": {
            "_view_name": "HTMLView",
            "style": "IPY_MODEL_7d282ef977a24499be19b38b46e7078a",
            "_dom_classes": [],
            "description": "",
            "_model_name": "HTMLModel",
            "placeholder": "​",
            "_view_module": "@jupyter-widgets/controls",
            "_model_module_version": "1.5.0",
            "value": "100% 7800/7800 [00:12&lt;00:00, 629.97it/s]",
            "_view_count": null,
            "_view_module_version": "1.5.0",
            "description_tooltip": null,
            "_model_module": "@jupyter-widgets/controls",
            "layout": "IPY_MODEL_f595454452b64287adbf4dddd8cef1db"
          }
        },
        "dec9fe87ae2944e08102d0577addcc23": {
          "model_module": "@jupyter-widgets/controls",
          "model_name": "ProgressStyleModel",
          "state": {
            "_view_name": "StyleView",
            "_model_name": "ProgressStyleModel",
            "description_width": "",
            "_view_module": "@jupyter-widgets/base",
            "_model_module_version": "1.5.0",
            "_view_count": null,
            "_view_module_version": "1.2.0",
            "bar_color": null,
            "_model_module": "@jupyter-widgets/controls"
          }
        },
        "0e153edafadc4f019072255b7958d0da": {
          "model_module": "@jupyter-widgets/base",
          "model_name": "LayoutModel",
          "state": {
            "_view_name": "LayoutView",
            "grid_template_rows": null,
            "right": null,
            "justify_content": null,
            "_view_module": "@jupyter-widgets/base",
            "overflow": null,
            "_model_module_version": "1.2.0",
            "_view_count": null,
            "flex_flow": null,
            "width": null,
            "min_width": null,
            "border": null,
            "align_items": null,
            "bottom": null,
            "_model_module": "@jupyter-widgets/base",
            "top": null,
            "grid_column": null,
            "overflow_y": null,
            "overflow_x": null,
            "grid_auto_flow": null,
            "grid_area": null,
            "grid_template_columns": null,
            "flex": null,
            "_model_name": "LayoutModel",
            "justify_items": null,
            "grid_row": null,
            "max_height": null,
            "align_content": null,
            "visibility": null,
            "align_self": null,
            "height": null,
            "min_height": null,
            "padding": null,
            "grid_auto_rows": null,
            "grid_gap": null,
            "max_width": null,
            "order": null,
            "_view_module_version": "1.2.0",
            "grid_template_areas": null,
            "object_position": null,
            "object_fit": null,
            "grid_auto_columns": null,
            "margin": null,
            "display": null,
            "left": null
          }
        },
        "7d282ef977a24499be19b38b46e7078a": {
          "model_module": "@jupyter-widgets/controls",
          "model_name": "DescriptionStyleModel",
          "state": {
            "_view_name": "StyleView",
            "_model_name": "DescriptionStyleModel",
            "description_width": "",
            "_view_module": "@jupyter-widgets/base",
            "_model_module_version": "1.5.0",
            "_view_count": null,
            "_view_module_version": "1.2.0",
            "_model_module": "@jupyter-widgets/controls"
          }
        },
        "f595454452b64287adbf4dddd8cef1db": {
          "model_module": "@jupyter-widgets/base",
          "model_name": "LayoutModel",
          "state": {
            "_view_name": "LayoutView",
            "grid_template_rows": null,
            "right": null,
            "justify_content": null,
            "_view_module": "@jupyter-widgets/base",
            "overflow": null,
            "_model_module_version": "1.2.0",
            "_view_count": null,
            "flex_flow": null,
            "width": null,
            "min_width": null,
            "border": null,
            "align_items": null,
            "bottom": null,
            "_model_module": "@jupyter-widgets/base",
            "top": null,
            "grid_column": null,
            "overflow_y": null,
            "overflow_x": null,
            "grid_auto_flow": null,
            "grid_area": null,
            "grid_template_columns": null,
            "flex": null,
            "_model_name": "LayoutModel",
            "justify_items": null,
            "grid_row": null,
            "max_height": null,
            "align_content": null,
            "visibility": null,
            "align_self": null,
            "height": null,
            "min_height": null,
            "padding": null,
            "grid_auto_rows": null,
            "grid_gap": null,
            "max_width": null,
            "order": null,
            "_view_module_version": "1.2.0",
            "grid_template_areas": null,
            "object_position": null,
            "object_fit": null,
            "grid_auto_columns": null,
            "margin": null,
            "display": null,
            "left": null
          }
        },
        "e0f30242ce564467bbb28f10febbc5b3": {
          "model_module": "@jupyter-widgets/controls",
          "model_name": "HBoxModel",
          "state": {
            "_view_name": "HBoxView",
            "_dom_classes": [],
            "_model_name": "HBoxModel",
            "_view_module": "@jupyter-widgets/controls",
            "_model_module_version": "1.5.0",
            "_view_count": null,
            "_view_module_version": "1.5.0",
            "box_style": "",
            "layout": "IPY_MODEL_ca1df0a0c51744f0a8d7dd6319be079d",
            "_model_module": "@jupyter-widgets/controls",
            "children": [
              "IPY_MODEL_d3d3b36f8a2649a6823bfdc7ce5f96cb",
              "IPY_MODEL_5cb23e47d5294ec2bd7083824698d47c"
            ]
          }
        },
        "ca1df0a0c51744f0a8d7dd6319be079d": {
          "model_module": "@jupyter-widgets/base",
          "model_name": "LayoutModel",
          "state": {
            "_view_name": "LayoutView",
            "grid_template_rows": null,
            "right": null,
            "justify_content": null,
            "_view_module": "@jupyter-widgets/base",
            "overflow": null,
            "_model_module_version": "1.2.0",
            "_view_count": null,
            "flex_flow": null,
            "width": null,
            "min_width": null,
            "border": null,
            "align_items": null,
            "bottom": null,
            "_model_module": "@jupyter-widgets/base",
            "top": null,
            "grid_column": null,
            "overflow_y": null,
            "overflow_x": null,
            "grid_auto_flow": null,
            "grid_area": null,
            "grid_template_columns": null,
            "flex": null,
            "_model_name": "LayoutModel",
            "justify_items": null,
            "grid_row": null,
            "max_height": null,
            "align_content": null,
            "visibility": null,
            "align_self": null,
            "height": null,
            "min_height": null,
            "padding": null,
            "grid_auto_rows": null,
            "grid_gap": null,
            "max_width": null,
            "order": null,
            "_view_module_version": "1.2.0",
            "grid_template_areas": null,
            "object_position": null,
            "object_fit": null,
            "grid_auto_columns": null,
            "margin": null,
            "display": null,
            "left": null
          }
        },
        "d3d3b36f8a2649a6823bfdc7ce5f96cb": {
          "model_module": "@jupyter-widgets/controls",
          "model_name": "IntProgressModel",
          "state": {
            "_view_name": "ProgressView",
            "style": "IPY_MODEL_03163816d61845ff8911c20d19da7186",
            "_dom_classes": [],
            "description": "",
            "_model_name": "IntProgressModel",
            "bar_style": "success",
            "max": 3342,
            "_view_module": "@jupyter-widgets/controls",
            "_model_module_version": "1.5.0",
            "value": 3342,
            "_view_count": null,
            "_view_module_version": "1.5.0",
            "orientation": "horizontal",
            "min": 0,
            "description_tooltip": null,
            "_model_module": "@jupyter-widgets/controls",
            "layout": "IPY_MODEL_aafbf6c8c2414085b009c754d599e9ca"
          }
        },
        "5cb23e47d5294ec2bd7083824698d47c": {
          "model_module": "@jupyter-widgets/controls",
          "model_name": "HTMLModel",
          "state": {
            "_view_name": "HTMLView",
            "style": "IPY_MODEL_4e3220c8481b4286b05383e1d9f8741e",
            "_dom_classes": [],
            "description": "",
            "_model_name": "HTMLModel",
            "placeholder": "​",
            "_view_module": "@jupyter-widgets/controls",
            "_model_module_version": "1.5.0",
            "value": "100% 3342/3342 [00:02&lt;00:00, 1417.22it/s]",
            "_view_count": null,
            "_view_module_version": "1.5.0",
            "description_tooltip": null,
            "_model_module": "@jupyter-widgets/controls",
            "layout": "IPY_MODEL_9b7bb3a5b8f942b1b78fca86942928d8"
          }
        },
        "03163816d61845ff8911c20d19da7186": {
          "model_module": "@jupyter-widgets/controls",
          "model_name": "ProgressStyleModel",
          "state": {
            "_view_name": "StyleView",
            "_model_name": "ProgressStyleModel",
            "description_width": "",
            "_view_module": "@jupyter-widgets/base",
            "_model_module_version": "1.5.0",
            "_view_count": null,
            "_view_module_version": "1.2.0",
            "bar_color": null,
            "_model_module": "@jupyter-widgets/controls"
          }
        },
        "aafbf6c8c2414085b009c754d599e9ca": {
          "model_module": "@jupyter-widgets/base",
          "model_name": "LayoutModel",
          "state": {
            "_view_name": "LayoutView",
            "grid_template_rows": null,
            "right": null,
            "justify_content": null,
            "_view_module": "@jupyter-widgets/base",
            "overflow": null,
            "_model_module_version": "1.2.0",
            "_view_count": null,
            "flex_flow": null,
            "width": null,
            "min_width": null,
            "border": null,
            "align_items": null,
            "bottom": null,
            "_model_module": "@jupyter-widgets/base",
            "top": null,
            "grid_column": null,
            "overflow_y": null,
            "overflow_x": null,
            "grid_auto_flow": null,
            "grid_area": null,
            "grid_template_columns": null,
            "flex": null,
            "_model_name": "LayoutModel",
            "justify_items": null,
            "grid_row": null,
            "max_height": null,
            "align_content": null,
            "visibility": null,
            "align_self": null,
            "height": null,
            "min_height": null,
            "padding": null,
            "grid_auto_rows": null,
            "grid_gap": null,
            "max_width": null,
            "order": null,
            "_view_module_version": "1.2.0",
            "grid_template_areas": null,
            "object_position": null,
            "object_fit": null,
            "grid_auto_columns": null,
            "margin": null,
            "display": null,
            "left": null
          }
        },
        "4e3220c8481b4286b05383e1d9f8741e": {
          "model_module": "@jupyter-widgets/controls",
          "model_name": "DescriptionStyleModel",
          "state": {
            "_view_name": "StyleView",
            "_model_name": "DescriptionStyleModel",
            "description_width": "",
            "_view_module": "@jupyter-widgets/base",
            "_model_module_version": "1.5.0",
            "_view_count": null,
            "_view_module_version": "1.2.0",
            "_model_module": "@jupyter-widgets/controls"
          }
        },
        "9b7bb3a5b8f942b1b78fca86942928d8": {
          "model_module": "@jupyter-widgets/base",
          "model_name": "LayoutModel",
          "state": {
            "_view_name": "LayoutView",
            "grid_template_rows": null,
            "right": null,
            "justify_content": null,
            "_view_module": "@jupyter-widgets/base",
            "overflow": null,
            "_model_module_version": "1.2.0",
            "_view_count": null,
            "flex_flow": null,
            "width": null,
            "min_width": null,
            "border": null,
            "align_items": null,
            "bottom": null,
            "_model_module": "@jupyter-widgets/base",
            "top": null,
            "grid_column": null,
            "overflow_y": null,
            "overflow_x": null,
            "grid_auto_flow": null,
            "grid_area": null,
            "grid_template_columns": null,
            "flex": null,
            "_model_name": "LayoutModel",
            "justify_items": null,
            "grid_row": null,
            "max_height": null,
            "align_content": null,
            "visibility": null,
            "align_self": null,
            "height": null,
            "min_height": null,
            "padding": null,
            "grid_auto_rows": null,
            "grid_gap": null,
            "max_width": null,
            "order": null,
            "_view_module_version": "1.2.0",
            "grid_template_areas": null,
            "object_position": null,
            "object_fit": null,
            "grid_auto_columns": null,
            "margin": null,
            "display": null,
            "left": null
          }
        },
        "71a3d483d682445daea40b8fa49b89ec": {
          "model_module": "@jupyter-widgets/controls",
          "model_name": "HBoxModel",
          "state": {
            "_view_name": "HBoxView",
            "_dom_classes": [],
            "_model_name": "HBoxModel",
            "_view_module": "@jupyter-widgets/controls",
            "_model_module_version": "1.5.0",
            "_view_count": null,
            "_view_module_version": "1.5.0",
            "box_style": "",
            "layout": "IPY_MODEL_e731996affce4116b52dd21acf5cd358",
            "_model_module": "@jupyter-widgets/controls",
            "children": [
              "IPY_MODEL_8cf46416b95d4964929183a7028082fd",
              "IPY_MODEL_2eb25984d17c479b8b5b5f9098b514f2"
            ]
          }
        },
        "e731996affce4116b52dd21acf5cd358": {
          "model_module": "@jupyter-widgets/base",
          "model_name": "LayoutModel",
          "state": {
            "_view_name": "LayoutView",
            "grid_template_rows": null,
            "right": null,
            "justify_content": null,
            "_view_module": "@jupyter-widgets/base",
            "overflow": null,
            "_model_module_version": "1.2.0",
            "_view_count": null,
            "flex_flow": null,
            "width": null,
            "min_width": null,
            "border": null,
            "align_items": null,
            "bottom": null,
            "_model_module": "@jupyter-widgets/base",
            "top": null,
            "grid_column": null,
            "overflow_y": null,
            "overflow_x": null,
            "grid_auto_flow": null,
            "grid_area": null,
            "grid_template_columns": null,
            "flex": null,
            "_model_name": "LayoutModel",
            "justify_items": null,
            "grid_row": null,
            "max_height": null,
            "align_content": null,
            "visibility": null,
            "align_self": null,
            "height": null,
            "min_height": null,
            "padding": null,
            "grid_auto_rows": null,
            "grid_gap": null,
            "max_width": null,
            "order": null,
            "_view_module_version": "1.2.0",
            "grid_template_areas": null,
            "object_position": null,
            "object_fit": null,
            "grid_auto_columns": null,
            "margin": null,
            "display": null,
            "left": null
          }
        },
        "8cf46416b95d4964929183a7028082fd": {
          "model_module": "@jupyter-widgets/controls",
          "model_name": "IntProgressModel",
          "state": {
            "_view_name": "ProgressView",
            "style": "IPY_MODEL_29918cf1912943eaa17ee0204ad1cc9e",
            "_dom_classes": [],
            "description": "",
            "_model_name": "IntProgressModel",
            "bar_style": "success",
            "max": 3342,
            "_view_module": "@jupyter-widgets/controls",
            "_model_module_version": "1.5.0",
            "value": 3342,
            "_view_count": null,
            "_view_module_version": "1.5.0",
            "orientation": "horizontal",
            "min": 0,
            "description_tooltip": null,
            "_model_module": "@jupyter-widgets/controls",
            "layout": "IPY_MODEL_6ce03fb9ec7d424c84123a0a8c901bfb"
          }
        },
        "2eb25984d17c479b8b5b5f9098b514f2": {
          "model_module": "@jupyter-widgets/controls",
          "model_name": "HTMLModel",
          "state": {
            "_view_name": "HTMLView",
            "style": "IPY_MODEL_ac614258e2e74b0bae807063e2791a54",
            "_dom_classes": [],
            "description": "",
            "_model_name": "HTMLModel",
            "placeholder": "​",
            "_view_module": "@jupyter-widgets/controls",
            "_model_module_version": "1.5.0",
            "value": "100% 3342/3342 [00:00&lt;00:00, 5134.32it/s]",
            "_view_count": null,
            "_view_module_version": "1.5.0",
            "description_tooltip": null,
            "_model_module": "@jupyter-widgets/controls",
            "layout": "IPY_MODEL_01e71b741610472da2b3157107751da0"
          }
        },
        "29918cf1912943eaa17ee0204ad1cc9e": {
          "model_module": "@jupyter-widgets/controls",
          "model_name": "ProgressStyleModel",
          "state": {
            "_view_name": "StyleView",
            "_model_name": "ProgressStyleModel",
            "description_width": "",
            "_view_module": "@jupyter-widgets/base",
            "_model_module_version": "1.5.0",
            "_view_count": null,
            "_view_module_version": "1.2.0",
            "bar_color": null,
            "_model_module": "@jupyter-widgets/controls"
          }
        },
        "6ce03fb9ec7d424c84123a0a8c901bfb": {
          "model_module": "@jupyter-widgets/base",
          "model_name": "LayoutModel",
          "state": {
            "_view_name": "LayoutView",
            "grid_template_rows": null,
            "right": null,
            "justify_content": null,
            "_view_module": "@jupyter-widgets/base",
            "overflow": null,
            "_model_module_version": "1.2.0",
            "_view_count": null,
            "flex_flow": null,
            "width": null,
            "min_width": null,
            "border": null,
            "align_items": null,
            "bottom": null,
            "_model_module": "@jupyter-widgets/base",
            "top": null,
            "grid_column": null,
            "overflow_y": null,
            "overflow_x": null,
            "grid_auto_flow": null,
            "grid_area": null,
            "grid_template_columns": null,
            "flex": null,
            "_model_name": "LayoutModel",
            "justify_items": null,
            "grid_row": null,
            "max_height": null,
            "align_content": null,
            "visibility": null,
            "align_self": null,
            "height": null,
            "min_height": null,
            "padding": null,
            "grid_auto_rows": null,
            "grid_gap": null,
            "max_width": null,
            "order": null,
            "_view_module_version": "1.2.0",
            "grid_template_areas": null,
            "object_position": null,
            "object_fit": null,
            "grid_auto_columns": null,
            "margin": null,
            "display": null,
            "left": null
          }
        },
        "ac614258e2e74b0bae807063e2791a54": {
          "model_module": "@jupyter-widgets/controls",
          "model_name": "DescriptionStyleModel",
          "state": {
            "_view_name": "StyleView",
            "_model_name": "DescriptionStyleModel",
            "description_width": "",
            "_view_module": "@jupyter-widgets/base",
            "_model_module_version": "1.5.0",
            "_view_count": null,
            "_view_module_version": "1.2.0",
            "_model_module": "@jupyter-widgets/controls"
          }
        },
        "01e71b741610472da2b3157107751da0": {
          "model_module": "@jupyter-widgets/base",
          "model_name": "LayoutModel",
          "state": {
            "_view_name": "LayoutView",
            "grid_template_rows": null,
            "right": null,
            "justify_content": null,
            "_view_module": "@jupyter-widgets/base",
            "overflow": null,
            "_model_module_version": "1.2.0",
            "_view_count": null,
            "flex_flow": null,
            "width": null,
            "min_width": null,
            "border": null,
            "align_items": null,
            "bottom": null,
            "_model_module": "@jupyter-widgets/base",
            "top": null,
            "grid_column": null,
            "overflow_y": null,
            "overflow_x": null,
            "grid_auto_flow": null,
            "grid_area": null,
            "grid_template_columns": null,
            "flex": null,
            "_model_name": "LayoutModel",
            "justify_items": null,
            "grid_row": null,
            "max_height": null,
            "align_content": null,
            "visibility": null,
            "align_self": null,
            "height": null,
            "min_height": null,
            "padding": null,
            "grid_auto_rows": null,
            "grid_gap": null,
            "max_width": null,
            "order": null,
            "_view_module_version": "1.2.0",
            "grid_template_areas": null,
            "object_position": null,
            "object_fit": null,
            "grid_auto_columns": null,
            "margin": null,
            "display": null,
            "left": null
          }
        }
      }
    }
  },
  "cells": [
    {
      "cell_type": "code",
      "metadata": {
        "id": "TrPRj5wzw1A6",
        "colab_type": "code",
        "outputId": "0e5491fd-e5ff-4f96-8f93-6e3690e18d0b",
        "colab": {
          "base_uri": "https://localhost:8080/",
          "height": 33
        }
      },
      "source": [
        "from google.colab import drive\n",
        "drive.mount('/content/drive')"
      ],
      "execution_count": 2,
      "outputs": [
        {
          "output_type": "stream",
          "text": [
            "Drive already mounted at /content/drive; to attempt to forcibly remount, call drive.mount(\"/content/drive\", force_remount=True).\n"
          ],
          "name": "stdout"
        }
      ]
    },
    {
      "cell_type": "code",
      "metadata": {
        "id": "WQPdeVWMw-E8",
        "colab_type": "code",
        "colab": {
          "base_uri": "https://localhost:8080/",
          "height": 79
        },
        "outputId": "c54df9f7-c26d-4f59-cdaa-fb7a05f2acef"
      },
      "source": [
        "import tensorflow as tf\n",
        "import keras\n",
        "import numpy as np\n",
        "import pandas as pd\n",
        "import matplotlib.pyplot as plt\n",
        "import nltk\n",
        "from nltk.stem import WordNetLemmatizer\n",
        "from sklearn.feature_extraction.text import CountVectorizer\n",
        "from keras.layers import Dense, Input, Flatten, Conv2D,Conv1D, MaxPooling2D,MaxPooling1D,GlobalMaxPooling1D,GlobalMaxPooling2D\n",
        "from keras.layers import Reshape, Dropout, Concatenate, LSTM,Bidirectional,BatchNormalization\n",
        "from keras.layers import Flatten,Activation,CuDNNGRU,CuDNNLSTM,LeakyReLU, Concatenate,concatenate\n",
        "from keras.models import Model\n",
        "from keras.models import Sequential\n",
        "from keras import regularizers,optimizers\n",
        "from sklearn.model_selection import train_test_split\n",
        "from sklearn.preprocessing import normalize, MinMaxScaler\n",
        "from sklearn.metrics import accuracy_score\n",
        "import os\n",
        "import json\n",
        "from IPython.core.display import display, HTML\n",
        "from tqdm import tqdm_notebook\n",
        "import warnings\n",
        "warnings.filterwarnings(\"ignore\")\n",
        "%matplotlib inline\n"
      ],
      "execution_count": 3,
      "outputs": [
        {
          "output_type": "display_data",
          "data": {
            "text/html": [
              "<p style=\"color: red;\">\n",
              "The default version of TensorFlow in Colab will soon switch to TensorFlow 2.x.<br>\n",
              "We recommend you <a href=\"https://www.tensorflow.org/guide/migrate\" target=\"_blank\">upgrade</a> now \n",
              "or ensure your notebook will continue to use TensorFlow 1.x via the <code>%tensorflow_version 1.x</code> magic:\n",
              "<a href=\"https://colab.research.google.com/notebooks/tensorflow_version.ipynb\" target=\"_blank\">more info</a>.</p>\n"
            ],
            "text/plain": [
              "<IPython.core.display.HTML object>"
            ]
          },
          "metadata": {
            "tags": []
          }
        },
        {
          "output_type": "stream",
          "text": [
            "Using TensorFlow backend.\n"
          ],
          "name": "stderr"
        }
      ]
    },
    {
      "cell_type": "code",
      "metadata": {
        "id": "WxF9DzgExGmL",
        "colab_type": "code",
        "colab": {}
      },
      "source": [
        "PAD_ROWS=26\n",
        "PAD_COLS=600"
      ],
      "execution_count": 0,
      "outputs": []
    },
    {
      "cell_type": "code",
      "metadata": {
        "id": "FEH1IbfnxLwT",
        "colab_type": "code",
        "outputId": "44718c30-7ff3-42e1-816e-feb80dac2682",
        "colab": {
          "base_uri": "https://localhost:8080/",
          "height": 33
        }
      },
      "source": [
        "print(os.listdir('drive/My Drive/DL Dataset'))\n",
        "dir = 'drive/My Drive/DL Dataset/'\n",
        "f = open(os.path.join(dir, 'train.json'), encoding=\"utf8\")\n",
        "data = json.load(f)"
      ],
      "execution_count": 5,
      "outputs": [
        {
          "output_type": "stream",
          "text": [
            "['dev.json', 'train.json', 'valence_1000.h5', 'model_cnn_final.h5', 'best_model_cnn.h5', 'model_cnn.h5', 'NLU', 'res1.json']\n"
          ],
          "name": "stdout"
        }
      ]
    },
    {
      "cell_type": "code",
      "metadata": {
        "id": "W1GZV8TbxM4L",
        "colab_type": "code",
        "outputId": "02211eae-bb3b-4c01-d6d8-ea863a6a2270",
        "colab": {
          "base_uri": "https://localhost:8080/",
          "height": 198
        }
      },
      "source": [
        "df = pd.DataFrame(data)\n",
        "df= df.T\n",
        "TOTAL_DATA=df.shape[0]\n",
        "df['labels'] = df[['valence', 'activation']].values.tolist()\n",
        "df.head()"
      ],
      "execution_count": 6,
      "outputs": [
        {
          "output_type": "execute_result",
          "data": {
            "text/html": [
              "<div>\n",
              "<style scoped>\n",
              "    .dataframe tbody tr th:only-of-type {\n",
              "        vertical-align: middle;\n",
              "    }\n",
              "\n",
              "    .dataframe tbody tr th {\n",
              "        vertical-align: top;\n",
              "    }\n",
              "\n",
              "    .dataframe thead th {\n",
              "        text-align: right;\n",
              "    }\n",
              "</style>\n",
              "<table border=\"1\" class=\"dataframe\">\n",
              "  <thead>\n",
              "    <tr style=\"text-align: right;\">\n",
              "      <th></th>\n",
              "      <th>valence</th>\n",
              "      <th>activation</th>\n",
              "      <th>features</th>\n",
              "      <th>labels</th>\n",
              "    </tr>\n",
              "  </thead>\n",
              "  <tbody>\n",
              "    <tr>\n",
              "      <th>0</th>\n",
              "      <td>0</td>\n",
              "      <td>1</td>\n",
              "      <td>[[5.502810676891276, 5.389630715979907, 5.8907...</td>\n",
              "      <td>[0, 1]</td>\n",
              "    </tr>\n",
              "    <tr>\n",
              "      <th>1</th>\n",
              "      <td>1</td>\n",
              "      <td>1</td>\n",
              "      <td>[[5.059076172970736, 5.288492317702101, 4.2633...</td>\n",
              "      <td>[1, 1]</td>\n",
              "    </tr>\n",
              "    <tr>\n",
              "      <th>2</th>\n",
              "      <td>0</td>\n",
              "      <td>1</td>\n",
              "      <td>[[4.218546271669202, 4.961436495859291, 3.6650...</td>\n",
              "      <td>[0, 1]</td>\n",
              "    </tr>\n",
              "    <tr>\n",
              "      <th>3</th>\n",
              "      <td>1</td>\n",
              "      <td>0</td>\n",
              "      <td>[[4.650364321573866, 4.523905028353254, 5.0168...</td>\n",
              "      <td>[1, 0]</td>\n",
              "    </tr>\n",
              "    <tr>\n",
              "      <th>4</th>\n",
              "      <td>0</td>\n",
              "      <td>1</td>\n",
              "      <td>[[3.900221957277269, 2.7325726489808124, 2.565...</td>\n",
              "      <td>[0, 1]</td>\n",
              "    </tr>\n",
              "  </tbody>\n",
              "</table>\n",
              "</div>"
            ],
            "text/plain": [
              "  valence activation                                           features  labels\n",
              "0       0          1  [[5.502810676891276, 5.389630715979907, 5.8907...  [0, 1]\n",
              "1       1          1  [[5.059076172970736, 5.288492317702101, 4.2633...  [1, 1]\n",
              "2       0          1  [[4.218546271669202, 4.961436495859291, 3.6650...  [0, 1]\n",
              "3       1          0  [[4.650364321573866, 4.523905028353254, 5.0168...  [1, 0]\n",
              "4       0          1  [[3.900221957277269, 2.7325726489808124, 2.565...  [0, 1]"
            ]
          },
          "metadata": {
            "tags": []
          },
          "execution_count": 6
        }
      ]
    },
    {
      "cell_type": "code",
      "metadata": {
        "id": "n-JCVmG8Apea",
        "colab_type": "code",
        "colab": {}
      },
      "source": [
        ""
      ],
      "execution_count": 0,
      "outputs": []
    },
    {
      "cell_type": "code",
      "metadata": {
        "id": "bahMXkOdyKQS",
        "colab_type": "code",
        "colab": {}
      },
      "source": [
        ""
      ],
      "execution_count": 0,
      "outputs": []
    },
    {
      "cell_type": "code",
      "metadata": {
        "id": "TPG3j52IglaT",
        "colab_type": "code",
        "outputId": "3d72fd1d-0b93-49ec-8ecf-86c574877fea",
        "colab": {
          "base_uri": "https://localhost:8080/",
          "height": 66,
          "referenced_widgets": [
            "2aa22a7509a94306be246eaada417804",
            "57dc424efd9644f6b97f7bc9a3f381fa",
            "8df515f2f5044d73be84a01cf9707be7",
            "fb1ac3f669d041ff85a52815a6b08ddf",
            "287c757762ee46f4865b560255db6710",
            "15c8fe62b7124a7f81ba5105f7b44958",
            "49e48393179a45a78bd64fbe9d4206ce",
            "41bc88f025014e059f4958cc8463bc9f"
          ]
        }
      },
      "source": [
        "### DATA AUGMENTATION  - To Use a concatenated layer\n",
        "\n",
        "# For input to CNN : Shape: (N x 26)\n",
        "\n",
        "label_set=pd.DataFrame(np.zeros((TOTAL_DATA,1),dtype=np.int),columns=['labels'])\n",
        "code=0\n",
        "scaler = MinMaxScaler(feature_range=(0.1, 1))\n",
        "\n",
        "# Use only 600 features to learn\n",
        "# ------------------------------------------------ Get Label Code ----------------------------------------------------------\n",
        "for i in tqdm_notebook(range(TOTAL_DATA)):\n",
        "    v = df['valence'][i]\n",
        "    a = df['activation'][i]\n",
        "    \n",
        "    if v==0 and a==0:\n",
        "        code=0\n",
        "    elif v==0 and a==1:\n",
        "        code=1\n",
        "    elif v==1 and a==0:\n",
        "        code=2\n",
        "    elif v==1 and a==1:\n",
        "        code=3\n",
        "    label_set['labels'][i]=code\n",
        "\n"
      ],
      "execution_count": 7,
      "outputs": [
        {
          "output_type": "display_data",
          "data": {
            "application/vnd.jupyter.widget-view+json": {
              "model_id": "2aa22a7509a94306be246eaada417804",
              "version_minor": 0,
              "version_major": 2
            },
            "text/plain": [
              "HBox(children=(IntProgress(value=0, max=7800), HTML(value='')))"
            ]
          },
          "metadata": {
            "tags": []
          }
        },
        {
          "output_type": "stream",
          "text": [
            "\n"
          ],
          "name": "stdout"
        }
      ]
    },
    {
      "cell_type": "code",
      "metadata": {
        "id": "CaxsPTk2cG9P",
        "colab_type": "code",
        "colab": {
          "base_uri": "https://localhost:8080/",
          "height": 66,
          "referenced_widgets": [
            "e146abb0ecdc470e8028817278765cf6",
            "aae9bcc772384e86ad6f84e54dcfae3b",
            "3b77ae1552d24120865393f326a71605",
            "fc43475959b74c1f886ecf9134edc935",
            "dec9fe87ae2944e08102d0577addcc23",
            "0e153edafadc4f019072255b7958d0da",
            "7d282ef977a24499be19b38b46e7078a",
            "f595454452b64287adbf4dddd8cef1db"
          ]
        },
        "outputId": "9dd330ce-6b11-431d-fe39-5713304ce780"
      },
      "source": [
        "# ------------------------------------------------ Get Features with Augmentation ----------------------------------------------------------\n",
        "feat1 = np.zeros((TOTAL_DATA,PAD_COLS, PAD_ROWS),dtype=np.float32)\n",
        "feat2 = np.zeros((TOTAL_DATA,PAD_COLS, PAD_ROWS),dtype=np.float32)\n",
        "feat3 = np.zeros((TOTAL_DATA,PAD_COLS, PAD_ROWS),dtype=np.float32)\n",
        "feat4 = np.zeros((TOTAL_DATA,PAD_COLS, PAD_ROWS),dtype=np.float32)\n",
        "scaler = MinMaxScaler(feature_range=(0.1, 1))\n",
        "for i in tqdm_notebook(range(TOTAL_DATA)):\n",
        "    x = np.array(df['features'][i])[:PAD_COLS,:]\n",
        "    [r,c] = x.shape\n",
        "    feat1[i,:r,:c] = scaler.fit_transform(np.float32(x))   # Scale to [0,1] range\n",
        "    feat2[i,:r,:c] = scaler.fit_transform(np.float32(x+1.11111111))\n",
        "    feat3[i,:r,:c] = scaler.fit_transform(np.float32(x+3.33333333))\n",
        "    feat4[i,:r,:c] = scaler.fit_transform(np.float32(x-3.33333333))"
      ],
      "execution_count": 8,
      "outputs": [
        {
          "output_type": "display_data",
          "data": {
            "application/vnd.jupyter.widget-view+json": {
              "model_id": "e146abb0ecdc470e8028817278765cf6",
              "version_minor": 0,
              "version_major": 2
            },
            "text/plain": [
              "HBox(children=(IntProgress(value=0, max=7800), HTML(value='')))"
            ]
          },
          "metadata": {
            "tags": []
          }
        },
        {
          "output_type": "stream",
          "text": [
            "\n"
          ],
          "name": "stdout"
        }
      ]
    },
    {
      "cell_type": "code",
      "metadata": {
        "id": "lgIcey6uc-w0",
        "colab_type": "code",
        "colab": {}
      },
      "source": [
        ""
      ],
      "execution_count": 0,
      "outputs": []
    },
    {
      "cell_type": "code",
      "metadata": {
        "id": "XQXEiLr9R6U3",
        "colab_type": "code",
        "colab": {}
      },
      "source": [
        "\n",
        "\n"
      ],
      "execution_count": 0,
      "outputs": []
    },
    {
      "cell_type": "code",
      "metadata": {
        "id": "1C_lDZAq2sPk",
        "colab_type": "code",
        "colab": {}
      },
      "source": [
        "labels=label_set['labels'].astype(int)\n",
        "labels = pd.get_dummies(label_set['labels']).values.tolist()\n",
        "X = np.concatenate((feat1,feat2,feat3,feat4), axis=0)\n",
        "Y = np.array(labels)\n",
        "Y1=Y\n",
        "Y=np.vstack((Y,Y1))\n",
        "Y=np.vstack((Y,Y1))\n",
        "Y=np.vstack((Y,Y1))\n",
        "\n",
        "X_train, X_test, y_train, y_test = train_test_split(X, Y, test_size=0.15, random_state=98)\n",
        "\n",
        "input_dim=X[0].shape"
      ],
      "execution_count": 0,
      "outputs": []
    },
    {
      "cell_type": "code",
      "metadata": {
        "id": "OmgJSp3fhbi-",
        "colab_type": "code",
        "outputId": "614c7812-bc73-4b1a-8f33-d85ad54be26b",
        "colab": {
          "base_uri": "https://localhost:8080/",
          "height": 33
        }
      },
      "source": [
        "\n",
        "Y.shape"
      ],
      "execution_count": 22,
      "outputs": [
        {
          "output_type": "execute_result",
          "data": {
            "text/plain": [
              "(31200, 4)"
            ]
          },
          "metadata": {
            "tags": []
          },
          "execution_count": 22
        }
      ]
    },
    {
      "cell_type": "code",
      "metadata": {
        "id": "teZozH7wYAUC",
        "colab_type": "code",
        "colab": {}
      },
      "source": [
        "ACCURACY_THRESHOLD = 0.96\n",
        "class myCallback(tf.keras.callbacks.Callback):\n",
        "\tdef on_epoch_end(self, epoch, logs={}):\n",
        "\t\tif(logs.get('categorical_accuracy') > 0.69 and logs.get('val_loss') <2 and logs.get('val_categorical_accuracy') > ACCURACY_THRESHOLD):\n",
        "\t\t\tprint(\"\\nReached %2.2f%% accuracy. Stopping training!!\" %(ACCURACY_THRESHOLD*100))\n",
        "\t\t\tself.model.stop_training = True\n",
        "\n",
        "# Instantiate a callback object\n",
        "callbacks = myCallback()\n"
      ],
      "execution_count": 0,
      "outputs": []
    },
    {
      "cell_type": "code",
      "metadata": {
        "id": "C6KCHMg8eMHO",
        "colab_type": "code",
        "colab": {
          "base_uri": "https://localhost:8080/",
          "height": 1000
        },
        "outputId": "abb0be2c-0da0-421f-e5a1-f6e4b87b30ee"
      },
      "source": [
        "warnings.filterwarnings(\"ignore\")\n",
        "model = Sequential()\n",
        "model.add(Conv1D(filters=256, kernel_size=9, padding='same',input_shape=input_dim,name='Conv1'))\n",
        "model.add(LeakyReLU(alpha=0.3))\n",
        "model.add(BatchNormalization())\n",
        "model.add(MaxPooling1D(3))\n",
        "model.add(Dropout(0.5))\n",
        "\n",
        "model.add(Conv1D(filters=128, kernel_size=6, padding='same',name='Conv2'))\n",
        "model.add(LeakyReLU(alpha=0.3))\n",
        "model.add(BatchNormalization())\n",
        "model.add(MaxPooling1D(3))\n",
        "model.add(Dropout(0.5))\n",
        "\n",
        "# model.add(Conv1D(filters=96, kernel_size=6, padding='same',name='Conv3'))\n",
        "# model.add(LeakyReLU(alpha=0.3))\n",
        "# model.add(BatchNormalization())\n",
        "# model.add(MaxPooling1D(3))\n",
        "# model.add(Dropout(0.3))\n",
        "\n",
        "# model.add(Conv1D(filters=96, kernel_size=3, padding='same',name='Conv4'))\n",
        "# model.add(LeakyReLU(alpha=0.3))\n",
        "# model.add(BatchNormalization())\n",
        "# model.add(MaxPooling1D(3))\n",
        "# model.add(Dropout(0.3))\n",
        "\n",
        "model.add(Conv1D(filters=128, kernel_size=3, padding='same',name='Conv5'))\n",
        "model.add(LeakyReLU(alpha=0.3))\n",
        "model.add(BatchNormalization())\n",
        "model.add(GlobalMaxPooling1D())\n",
        "\n",
        "model.add(Dense(4, activation='softmax'))\n",
        "\n",
        "adadelta = optimizers.Adadelta()\n",
        "#sgd = optimizers.SGD(lr=0.001, decay=1e-3, momentum=0.9, nesterov=True)\n",
        "model.compile(optimizer=adadelta,loss='categorical_crossentropy',metrics=['categorical_accuracy'])\n",
        "\n",
        "history=model.fit(X_train, y_train, use_multiprocessing=True, verbose=1, epochs=1000, validation_data=(X_test, y_test), shuffle=True, callbacks=[callbacks])  # train the model\n"
      ],
      "execution_count": 35,
      "outputs": [
        {
          "output_type": "stream",
          "text": [
            "Train on 26520 samples, validate on 4680 samples\n",
            "Epoch 1/1000\n",
            "26520/26520 [==============================] - 15s 584us/step - loss: 1.3593 - categorical_accuracy: 0.3891 - val_loss: 1.2899 - val_categorical_accuracy: 0.3908\n",
            "Epoch 2/1000\n",
            "26520/26520 [==============================] - 13s 493us/step - loss: 1.2305 - categorical_accuracy: 0.4194 - val_loss: 1.3230 - val_categorical_accuracy: 0.3385\n",
            "Epoch 3/1000\n",
            "26520/26520 [==============================] - 13s 493us/step - loss: 1.1962 - categorical_accuracy: 0.4460 - val_loss: 1.2435 - val_categorical_accuracy: 0.4158\n",
            "Epoch 4/1000\n",
            "26520/26520 [==============================] - 13s 491us/step - loss: 1.1769 - categorical_accuracy: 0.4598 - val_loss: 1.1497 - val_categorical_accuracy: 0.4887\n",
            "Epoch 5/1000\n",
            "26520/26520 [==============================] - 13s 503us/step - loss: 1.1619 - categorical_accuracy: 0.4670 - val_loss: 1.1256 - val_categorical_accuracy: 0.4917\n",
            "Epoch 6/1000\n",
            "26520/26520 [==============================] - 13s 491us/step - loss: 1.1465 - categorical_accuracy: 0.4794 - val_loss: 1.0959 - val_categorical_accuracy: 0.5269\n",
            "Epoch 7/1000\n",
            "26520/26520 [==============================] - 13s 491us/step - loss: 1.1341 - categorical_accuracy: 0.4871 - val_loss: 1.1769 - val_categorical_accuracy: 0.4780\n",
            "Epoch 8/1000\n",
            "26520/26520 [==============================] - 13s 490us/step - loss: 1.1216 - categorical_accuracy: 0.4986 - val_loss: 1.0758 - val_categorical_accuracy: 0.5314\n",
            "Epoch 9/1000\n",
            "26520/26520 [==============================] - 13s 490us/step - loss: 1.1097 - categorical_accuracy: 0.5037 - val_loss: 1.1406 - val_categorical_accuracy: 0.4679\n",
            "Epoch 10/1000\n",
            "26520/26520 [==============================] - 13s 491us/step - loss: 1.0973 - categorical_accuracy: 0.5114 - val_loss: 1.0563 - val_categorical_accuracy: 0.5425\n",
            "Epoch 11/1000\n",
            "26520/26520 [==============================] - 13s 496us/step - loss: 1.0805 - categorical_accuracy: 0.5223 - val_loss: 1.0407 - val_categorical_accuracy: 0.5481\n",
            "Epoch 12/1000\n",
            "26520/26520 [==============================] - 13s 492us/step - loss: 1.0742 - categorical_accuracy: 0.5248 - val_loss: 1.0362 - val_categorical_accuracy: 0.5474\n",
            "Epoch 13/1000\n",
            "26520/26520 [==============================] - 13s 491us/step - loss: 1.0648 - categorical_accuracy: 0.5362 - val_loss: 1.0331 - val_categorical_accuracy: 0.5406\n",
            "Epoch 14/1000\n",
            "26520/26520 [==============================] - 13s 488us/step - loss: 1.0506 - categorical_accuracy: 0.5423 - val_loss: 1.0850 - val_categorical_accuracy: 0.5218\n",
            "Epoch 15/1000\n",
            "26520/26520 [==============================] - 13s 491us/step - loss: 1.0390 - categorical_accuracy: 0.5480 - val_loss: 1.0198 - val_categorical_accuracy: 0.5462\n",
            "Epoch 16/1000\n",
            "26520/26520 [==============================] - 13s 489us/step - loss: 1.0234 - categorical_accuracy: 0.5552 - val_loss: 1.0153 - val_categorical_accuracy: 0.5821\n",
            "Epoch 17/1000\n",
            "26520/26520 [==============================] - 13s 490us/step - loss: 1.0171 - categorical_accuracy: 0.5611 - val_loss: 1.0015 - val_categorical_accuracy: 0.5746\n",
            "Epoch 18/1000\n",
            "26520/26520 [==============================] - 13s 491us/step - loss: 0.9975 - categorical_accuracy: 0.5699 - val_loss: 1.0156 - val_categorical_accuracy: 0.5729\n",
            "Epoch 19/1000\n",
            "26520/26520 [==============================] - 13s 491us/step - loss: 0.9931 - categorical_accuracy: 0.5739 - val_loss: 1.5395 - val_categorical_accuracy: 0.3415\n",
            "Epoch 20/1000\n",
            "26520/26520 [==============================] - 13s 495us/step - loss: 0.9777 - categorical_accuracy: 0.5819 - val_loss: 1.0470 - val_categorical_accuracy: 0.5541\n",
            "Epoch 21/1000\n",
            "26520/26520 [==============================] - 13s 491us/step - loss: 0.9633 - categorical_accuracy: 0.5910 - val_loss: 0.9941 - val_categorical_accuracy: 0.5850\n",
            "Epoch 22/1000\n",
            "26520/26520 [==============================] - 13s 492us/step - loss: 0.9559 - categorical_accuracy: 0.5939 - val_loss: 0.9587 - val_categorical_accuracy: 0.5904\n",
            "Epoch 23/1000\n",
            "26520/26520 [==============================] - 13s 492us/step - loss: 0.9347 - categorical_accuracy: 0.6071 - val_loss: 0.9251 - val_categorical_accuracy: 0.5972\n",
            "Epoch 24/1000\n",
            "26520/26520 [==============================] - 13s 494us/step - loss: 0.9214 - categorical_accuracy: 0.6129 - val_loss: 0.9709 - val_categorical_accuracy: 0.6115\n",
            "Epoch 25/1000\n",
            "26520/26520 [==============================] - 13s 494us/step - loss: 0.9090 - categorical_accuracy: 0.6188 - val_loss: 1.0026 - val_categorical_accuracy: 0.5981\n",
            "Epoch 26/1000\n",
            "26520/26520 [==============================] - 13s 494us/step - loss: 0.8955 - categorical_accuracy: 0.6294 - val_loss: 0.8635 - val_categorical_accuracy: 0.6609\n",
            "Epoch 27/1000\n",
            "26520/26520 [==============================] - 13s 492us/step - loss: 0.8852 - categorical_accuracy: 0.6307 - val_loss: 0.8804 - val_categorical_accuracy: 0.6513\n",
            "Epoch 28/1000\n",
            "26520/26520 [==============================] - 13s 498us/step - loss: 0.8750 - categorical_accuracy: 0.6349 - val_loss: 0.8038 - val_categorical_accuracy: 0.6744\n",
            "Epoch 29/1000\n",
            "26520/26520 [==============================] - 13s 500us/step - loss: 0.8602 - categorical_accuracy: 0.6428 - val_loss: 1.1705 - val_categorical_accuracy: 0.5028\n",
            "Epoch 30/1000\n",
            "26520/26520 [==============================] - 13s 491us/step - loss: 0.8423 - categorical_accuracy: 0.6505 - val_loss: 0.7927 - val_categorical_accuracy: 0.6692\n",
            "Epoch 31/1000\n",
            "26520/26520 [==============================] - 13s 492us/step - loss: 0.8392 - categorical_accuracy: 0.6559 - val_loss: 0.7650 - val_categorical_accuracy: 0.6893\n",
            "Epoch 32/1000\n",
            "26520/26520 [==============================] - 13s 494us/step - loss: 0.8295 - categorical_accuracy: 0.6592 - val_loss: 0.7858 - val_categorical_accuracy: 0.6701\n",
            "Epoch 33/1000\n",
            "26520/26520 [==============================] - 13s 494us/step - loss: 0.8083 - categorical_accuracy: 0.6696 - val_loss: 1.1818 - val_categorical_accuracy: 0.5265\n",
            "Epoch 34/1000\n",
            "26520/26520 [==============================] - 13s 495us/step - loss: 0.8033 - categorical_accuracy: 0.6730 - val_loss: 0.7675 - val_categorical_accuracy: 0.7047\n",
            "Epoch 35/1000\n",
            "26520/26520 [==============================] - 13s 498us/step - loss: 0.7940 - categorical_accuracy: 0.6749 - val_loss: 0.8758 - val_categorical_accuracy: 0.6479\n",
            "Epoch 36/1000\n",
            "26520/26520 [==============================] - 13s 488us/step - loss: 0.7816 - categorical_accuracy: 0.6787 - val_loss: 0.6755 - val_categorical_accuracy: 0.7472\n",
            "Epoch 37/1000\n",
            "26520/26520 [==============================] - 13s 495us/step - loss: 0.7718 - categorical_accuracy: 0.6844 - val_loss: 0.6847 - val_categorical_accuracy: 0.7331\n",
            "Epoch 38/1000\n",
            "26520/26520 [==============================] - 13s 492us/step - loss: 0.7636 - categorical_accuracy: 0.6893 - val_loss: 0.6729 - val_categorical_accuracy: 0.7545\n",
            "Epoch 39/1000\n",
            "26520/26520 [==============================] - 13s 492us/step - loss: 0.7481 - categorical_accuracy: 0.6967 - val_loss: 0.6624 - val_categorical_accuracy: 0.7393\n",
            "Epoch 40/1000\n",
            "26520/26520 [==============================] - 13s 493us/step - loss: 0.7365 - categorical_accuracy: 0.6995 - val_loss: 1.0582 - val_categorical_accuracy: 0.5823\n",
            "Epoch 41/1000\n",
            "26520/26520 [==============================] - 13s 493us/step - loss: 0.7318 - categorical_accuracy: 0.7051 - val_loss: 0.6537 - val_categorical_accuracy: 0.7626\n",
            "Epoch 42/1000\n",
            "26520/26520 [==============================] - 13s 489us/step - loss: 0.7265 - categorical_accuracy: 0.7066 - val_loss: 0.6913 - val_categorical_accuracy: 0.7466\n",
            "Epoch 43/1000\n",
            "26520/26520 [==============================] - 13s 492us/step - loss: 0.7119 - categorical_accuracy: 0.7152 - val_loss: 0.5903 - val_categorical_accuracy: 0.7921\n",
            "Epoch 44/1000\n",
            "26520/26520 [==============================] - 13s 492us/step - loss: 0.7072 - categorical_accuracy: 0.7144 - val_loss: 0.5604 - val_categorical_accuracy: 0.7991\n",
            "Epoch 45/1000\n",
            "26520/26520 [==============================] - 13s 494us/step - loss: 0.6899 - categorical_accuracy: 0.7226 - val_loss: 0.6111 - val_categorical_accuracy: 0.7756\n",
            "Epoch 46/1000\n",
            "26520/26520 [==============================] - 13s 493us/step - loss: 0.6830 - categorical_accuracy: 0.7253 - val_loss: 0.6756 - val_categorical_accuracy: 0.7329\n",
            "Epoch 47/1000\n",
            "26520/26520 [==============================] - 13s 494us/step - loss: 0.6751 - categorical_accuracy: 0.7281 - val_loss: 0.5352 - val_categorical_accuracy: 0.7934\n",
            "Epoch 48/1000\n",
            "26520/26520 [==============================] - 13s 490us/step - loss: 0.6668 - categorical_accuracy: 0.7350 - val_loss: 0.5185 - val_categorical_accuracy: 0.8085\n",
            "Epoch 49/1000\n",
            "26520/26520 [==============================] - 13s 493us/step - loss: 0.6588 - categorical_accuracy: 0.7384 - val_loss: 0.6277 - val_categorical_accuracy: 0.7635\n",
            "Epoch 50/1000\n",
            "26520/26520 [==============================] - 13s 492us/step - loss: 0.6500 - categorical_accuracy: 0.7406 - val_loss: 0.5972 - val_categorical_accuracy: 0.7835\n",
            "Epoch 51/1000\n",
            "26520/26520 [==============================] - 13s 491us/step - loss: 0.6544 - categorical_accuracy: 0.7374 - val_loss: 0.5163 - val_categorical_accuracy: 0.8182\n",
            "Epoch 52/1000\n",
            "26520/26520 [==============================] - 13s 498us/step - loss: 0.6429 - categorical_accuracy: 0.7433 - val_loss: 0.5052 - val_categorical_accuracy: 0.8244\n",
            "Epoch 53/1000\n",
            "26520/26520 [==============================] - 13s 492us/step - loss: 0.6354 - categorical_accuracy: 0.7452 - val_loss: 0.5278 - val_categorical_accuracy: 0.8079\n",
            "Epoch 54/1000\n",
            "26520/26520 [==============================] - 13s 492us/step - loss: 0.6306 - categorical_accuracy: 0.7511 - val_loss: 0.5195 - val_categorical_accuracy: 0.8111\n",
            "Epoch 55/1000\n",
            "26520/26520 [==============================] - 13s 491us/step - loss: 0.6270 - categorical_accuracy: 0.7494 - val_loss: 0.5200 - val_categorical_accuracy: 0.8068\n",
            "Epoch 56/1000\n",
            "26520/26520 [==============================] - 13s 490us/step - loss: 0.6198 - categorical_accuracy: 0.7529 - val_loss: 0.4342 - val_categorical_accuracy: 0.8652\n",
            "Epoch 57/1000\n",
            "26520/26520 [==============================] - 13s 493us/step - loss: 0.6023 - categorical_accuracy: 0.7615 - val_loss: 0.5452 - val_categorical_accuracy: 0.7996\n",
            "Epoch 58/1000\n",
            "26520/26520 [==============================] - 13s 495us/step - loss: 0.6073 - categorical_accuracy: 0.7598 - val_loss: 0.5196 - val_categorical_accuracy: 0.7944\n",
            "Epoch 59/1000\n",
            "26520/26520 [==============================] - 13s 494us/step - loss: 0.5933 - categorical_accuracy: 0.7650 - val_loss: 0.5183 - val_categorical_accuracy: 0.8066\n",
            "Epoch 60/1000\n",
            "26520/26520 [==============================] - 13s 490us/step - loss: 0.5978 - categorical_accuracy: 0.7642 - val_loss: 0.4727 - val_categorical_accuracy: 0.8442\n",
            "Epoch 61/1000\n",
            "26520/26520 [==============================] - 13s 491us/step - loss: 0.5785 - categorical_accuracy: 0.7733 - val_loss: 0.7159 - val_categorical_accuracy: 0.7115\n",
            "Epoch 62/1000\n",
            "26520/26520 [==============================] - 13s 491us/step - loss: 0.5875 - categorical_accuracy: 0.7670 - val_loss: 0.4701 - val_categorical_accuracy: 0.8368\n",
            "Epoch 63/1000\n",
            "26520/26520 [==============================] - 13s 492us/step - loss: 0.5752 - categorical_accuracy: 0.7717 - val_loss: 0.4552 - val_categorical_accuracy: 0.8288\n",
            "Epoch 64/1000\n",
            "26520/26520 [==============================] - 13s 492us/step - loss: 0.5731 - categorical_accuracy: 0.7738 - val_loss: 0.3915 - val_categorical_accuracy: 0.8679\n",
            "Epoch 65/1000\n",
            "26520/26520 [==============================] - 13s 492us/step - loss: 0.5687 - categorical_accuracy: 0.7744 - val_loss: 0.4362 - val_categorical_accuracy: 0.8470\n",
            "Epoch 66/1000\n",
            "26520/26520 [==============================] - 13s 493us/step - loss: 0.5654 - categorical_accuracy: 0.7795 - val_loss: 0.3580 - val_categorical_accuracy: 0.8874\n",
            "Epoch 67/1000\n",
            "26520/26520 [==============================] - 13s 493us/step - loss: 0.5605 - categorical_accuracy: 0.7788 - val_loss: 0.3923 - val_categorical_accuracy: 0.8568\n",
            "Epoch 68/1000\n",
            "26520/26520 [==============================] - 13s 493us/step - loss: 0.5484 - categorical_accuracy: 0.7843 - val_loss: 0.4442 - val_categorical_accuracy: 0.8293\n",
            "Epoch 69/1000\n",
            "26520/26520 [==============================] - 13s 490us/step - loss: 0.5507 - categorical_accuracy: 0.7848 - val_loss: 0.4562 - val_categorical_accuracy: 0.8188\n",
            "Epoch 70/1000\n",
            "26520/26520 [==============================] - 13s 493us/step - loss: 0.5419 - categorical_accuracy: 0.7870 - val_loss: 0.3241 - val_categorical_accuracy: 0.9036\n",
            "\n",
            "Reached 90.00% accuracy. Stopping training!!\n"
          ],
          "name": "stdout"
        }
      ]
    },
    {
      "cell_type": "code",
      "metadata": {
        "id": "erCQuH99r5zt",
        "colab_type": "code",
        "colab": {
          "base_uri": "https://localhost:8080/",
          "height": 1000
        },
        "outputId": "1c4ea9d2-545d-47c1-eb07-2d277f9ed455"
      },
      "source": [
        "model.fit(X_train, y_train, verbose=1, initial_epoch=60, epochs=1000, validation_data=(X_test, y_test), shuffle=True, callbacks=[callbacks])  # train the model"
      ],
      "execution_count": 41,
      "outputs": [
        {
          "output_type": "stream",
          "text": [
            "Train on 26520 samples, validate on 4680 samples\n",
            "Epoch 61/1000\n",
            "26520/26520 [==============================] - 13s 502us/step - loss: 0.5424 - categorical_accuracy: 0.7863 - val_loss: 0.3538 - val_categorical_accuracy: 0.8803\n",
            "Epoch 62/1000\n",
            "26520/26520 [==============================] - 13s 502us/step - loss: 0.5332 - categorical_accuracy: 0.7923 - val_loss: 0.4570 - val_categorical_accuracy: 0.8263\n",
            "Epoch 63/1000\n",
            "26520/26520 [==============================] - 13s 496us/step - loss: 0.5264 - categorical_accuracy: 0.7940 - val_loss: 0.3445 - val_categorical_accuracy: 0.8902\n",
            "Epoch 64/1000\n",
            "26520/26520 [==============================] - 13s 499us/step - loss: 0.5286 - categorical_accuracy: 0.7917 - val_loss: 0.2888 - val_categorical_accuracy: 0.9188\n",
            "Epoch 65/1000\n",
            "26520/26520 [==============================] - 13s 495us/step - loss: 0.5230 - categorical_accuracy: 0.7940 - val_loss: 0.3911 - val_categorical_accuracy: 0.8673\n",
            "Epoch 66/1000\n",
            "26520/26520 [==============================] - 13s 494us/step - loss: 0.5151 - categorical_accuracy: 0.7967 - val_loss: 0.3055 - val_categorical_accuracy: 0.9126\n",
            "Epoch 67/1000\n",
            "26520/26520 [==============================] - 13s 496us/step - loss: 0.5195 - categorical_accuracy: 0.7963 - val_loss: 0.3277 - val_categorical_accuracy: 0.8940\n",
            "Epoch 68/1000\n",
            "26520/26520 [==============================] - 13s 494us/step - loss: 0.5139 - categorical_accuracy: 0.7975 - val_loss: 0.5741 - val_categorical_accuracy: 0.7823\n",
            "Epoch 69/1000\n",
            "26520/26520 [==============================] - 13s 493us/step - loss: 0.4965 - categorical_accuracy: 0.8035 - val_loss: 0.8110 - val_categorical_accuracy: 0.6806\n",
            "Epoch 70/1000\n",
            "26520/26520 [==============================] - 13s 496us/step - loss: 0.5022 - categorical_accuracy: 0.8052 - val_loss: 0.2803 - val_categorical_accuracy: 0.9201\n",
            "Epoch 71/1000\n",
            "26520/26520 [==============================] - 13s 503us/step - loss: 0.4992 - categorical_accuracy: 0.8064 - val_loss: 0.3410 - val_categorical_accuracy: 0.8880\n",
            "Epoch 72/1000\n",
            "26520/26520 [==============================] - 13s 501us/step - loss: 0.4959 - categorical_accuracy: 0.8082 - val_loss: 0.2733 - val_categorical_accuracy: 0.9165\n",
            "Epoch 73/1000\n",
            "26520/26520 [==============================] - 13s 494us/step - loss: 0.4858 - categorical_accuracy: 0.8123 - val_loss: 0.3090 - val_categorical_accuracy: 0.8882\n",
            "Epoch 74/1000\n",
            "26520/26520 [==============================] - 13s 492us/step - loss: 0.4752 - categorical_accuracy: 0.8150 - val_loss: 0.2485 - val_categorical_accuracy: 0.9318\n",
            "Epoch 75/1000\n",
            "26520/26520 [==============================] - 13s 492us/step - loss: 0.4828 - categorical_accuracy: 0.8120 - val_loss: 0.2489 - val_categorical_accuracy: 0.9314\n",
            "Epoch 76/1000\n",
            "26520/26520 [==============================] - 13s 489us/step - loss: 0.4889 - categorical_accuracy: 0.8091 - val_loss: 0.2521 - val_categorical_accuracy: 0.9220\n",
            "Epoch 77/1000\n",
            "26520/26520 [==============================] - 13s 508us/step - loss: 0.4773 - categorical_accuracy: 0.8144 - val_loss: 0.2485 - val_categorical_accuracy: 0.9342\n",
            "Epoch 78/1000\n",
            "26520/26520 [==============================] - 13s 497us/step - loss: 0.4804 - categorical_accuracy: 0.8143 - val_loss: 0.3192 - val_categorical_accuracy: 0.8778\n",
            "Epoch 79/1000\n",
            "26520/26520 [==============================] - 13s 499us/step - loss: 0.4679 - categorical_accuracy: 0.8174 - val_loss: 0.2556 - val_categorical_accuracy: 0.9199\n",
            "Epoch 80/1000\n",
            "26520/26520 [==============================] - 13s 508us/step - loss: 0.4697 - categorical_accuracy: 0.8189 - val_loss: 0.2844 - val_categorical_accuracy: 0.8927\n",
            "Epoch 81/1000\n",
            "26520/26520 [==============================] - 13s 497us/step - loss: 0.4655 - categorical_accuracy: 0.8221 - val_loss: 0.3109 - val_categorical_accuracy: 0.8989\n",
            "Epoch 82/1000\n",
            "26520/26520 [==============================] - 13s 497us/step - loss: 0.4698 - categorical_accuracy: 0.8179 - val_loss: 0.2286 - val_categorical_accuracy: 0.9400\n",
            "Epoch 83/1000\n",
            "26520/26520 [==============================] - 13s 497us/step - loss: 0.4628 - categorical_accuracy: 0.8205 - val_loss: 0.2203 - val_categorical_accuracy: 0.9415\n",
            "Epoch 84/1000\n",
            "26520/26520 [==============================] - 13s 498us/step - loss: 0.4621 - categorical_accuracy: 0.8225 - val_loss: 0.2441 - val_categorical_accuracy: 0.9152\n",
            "Epoch 85/1000\n",
            "26520/26520 [==============================] - 13s 502us/step - loss: 0.4575 - categorical_accuracy: 0.8228 - val_loss: 0.2241 - val_categorical_accuracy: 0.9303\n",
            "Epoch 86/1000\n",
            "26520/26520 [==============================] - 13s 495us/step - loss: 0.4536 - categorical_accuracy: 0.8279 - val_loss: 0.2100 - val_categorical_accuracy: 0.9397\n",
            "Epoch 87/1000\n",
            "26520/26520 [==============================] - 13s 504us/step - loss: 0.4487 - categorical_accuracy: 0.8264 - val_loss: 0.2200 - val_categorical_accuracy: 0.9274\n",
            "Epoch 88/1000\n",
            "26520/26520 [==============================] - 13s 498us/step - loss: 0.4478 - categorical_accuracy: 0.8255 - val_loss: 0.2184 - val_categorical_accuracy: 0.9393\n",
            "Epoch 89/1000\n",
            "26520/26520 [==============================] - 13s 497us/step - loss: 0.4309 - categorical_accuracy: 0.8332 - val_loss: 0.2445 - val_categorical_accuracy: 0.9214\n",
            "Epoch 90/1000\n",
            "26520/26520 [==============================] - 13s 498us/step - loss: 0.4436 - categorical_accuracy: 0.8263 - val_loss: 0.3097 - val_categorical_accuracy: 0.8929\n",
            "Epoch 91/1000\n",
            "26520/26520 [==============================] - 13s 497us/step - loss: 0.4370 - categorical_accuracy: 0.8321 - val_loss: 0.1905 - val_categorical_accuracy: 0.9496\n",
            "Epoch 92/1000\n",
            "26520/26520 [==============================] - 13s 497us/step - loss: 0.4409 - categorical_accuracy: 0.8287 - val_loss: 0.3605 - val_categorical_accuracy: 0.8712\n",
            "Epoch 93/1000\n",
            "26520/26520 [==============================] - 13s 495us/step - loss: 0.4382 - categorical_accuracy: 0.8302 - val_loss: 0.1787 - val_categorical_accuracy: 0.9556\n",
            "Epoch 94/1000\n",
            "26520/26520 [==============================] - 13s 495us/step - loss: 0.4199 - categorical_accuracy: 0.8380 - val_loss: 0.2335 - val_categorical_accuracy: 0.9385\n",
            "Epoch 95/1000\n",
            "26520/26520 [==============================] - 13s 497us/step - loss: 0.4389 - categorical_accuracy: 0.8316 - val_loss: 0.2146 - val_categorical_accuracy: 0.9423\n",
            "Epoch 96/1000\n",
            "26520/26520 [==============================] - 13s 496us/step - loss: 0.4270 - categorical_accuracy: 0.8369 - val_loss: 0.3645 - val_categorical_accuracy: 0.8650\n",
            "Epoch 97/1000\n",
            "26520/26520 [==============================] - 13s 496us/step - loss: 0.4289 - categorical_accuracy: 0.8328 - val_loss: 0.1998 - val_categorical_accuracy: 0.9485\n",
            "Epoch 98/1000\n",
            "26520/26520 [==============================] - 13s 499us/step - loss: 0.4191 - categorical_accuracy: 0.8398 - val_loss: 0.1677 - val_categorical_accuracy: 0.9588\n",
            "Epoch 99/1000\n",
            "26520/26520 [==============================] - 13s 498us/step - loss: 0.4246 - categorical_accuracy: 0.8348 - val_loss: 0.1939 - val_categorical_accuracy: 0.9457\n",
            "Epoch 100/1000\n",
            "26520/26520 [==============================] - 13s 497us/step - loss: 0.4242 - categorical_accuracy: 0.8371 - val_loss: 0.2802 - val_categorical_accuracy: 0.9088\n",
            "Epoch 101/1000\n",
            "26520/26520 [==============================] - 13s 495us/step - loss: 0.4165 - categorical_accuracy: 0.8418 - val_loss: 0.1943 - val_categorical_accuracy: 0.9402\n",
            "Epoch 102/1000\n",
            "26520/26520 [==============================] - 13s 499us/step - loss: 0.4144 - categorical_accuracy: 0.8406 - val_loss: 0.2651 - val_categorical_accuracy: 0.9165\n",
            "Epoch 103/1000\n",
            "26520/26520 [==============================] - 13s 508us/step - loss: 0.4187 - categorical_accuracy: 0.8400 - val_loss: 0.1628 - val_categorical_accuracy: 0.9596\n",
            "Epoch 104/1000\n",
            "26520/26520 [==============================] - 13s 500us/step - loss: 0.4172 - categorical_accuracy: 0.8390 - val_loss: 0.1527 - val_categorical_accuracy: 0.9579\n",
            "Epoch 105/1000\n",
            "26520/26520 [==============================] - 13s 497us/step - loss: 0.4067 - categorical_accuracy: 0.8427 - val_loss: 0.1505 - val_categorical_accuracy: 0.9620\n",
            "Epoch 106/1000\n",
            "26520/26520 [==============================] - 13s 500us/step - loss: 0.4037 - categorical_accuracy: 0.8456 - val_loss: 0.1772 - val_categorical_accuracy: 0.9498\n",
            "Epoch 107/1000\n",
            "26520/26520 [==============================] - 13s 498us/step - loss: 0.4042 - categorical_accuracy: 0.8443 - val_loss: 0.1735 - val_categorical_accuracy: 0.9536\n",
            "Epoch 108/1000\n",
            "26520/26520 [==============================] - 13s 504us/step - loss: 0.4103 - categorical_accuracy: 0.8408 - val_loss: 0.2043 - val_categorical_accuracy: 0.9391\n",
            "Epoch 109/1000\n",
            "26520/26520 [==============================] - 13s 496us/step - loss: 0.4001 - categorical_accuracy: 0.8450 - val_loss: 0.1605 - val_categorical_accuracy: 0.9556\n",
            "Epoch 110/1000\n",
            "26520/26520 [==============================] - 13s 496us/step - loss: 0.4003 - categorical_accuracy: 0.8480 - val_loss: 0.2684 - val_categorical_accuracy: 0.9047\n",
            "Epoch 111/1000\n",
            "26520/26520 [==============================] - 13s 498us/step - loss: 0.3958 - categorical_accuracy: 0.8512 - val_loss: 0.1513 - val_categorical_accuracy: 0.9611\n",
            "Epoch 112/1000\n",
            "26520/26520 [==============================] - 13s 497us/step - loss: 0.3949 - categorical_accuracy: 0.8517 - val_loss: 0.1690 - val_categorical_accuracy: 0.9556\n",
            "Epoch 113/1000\n",
            "26520/26520 [==============================] - 13s 497us/step - loss: 0.3933 - categorical_accuracy: 0.8483 - val_loss: 0.1808 - val_categorical_accuracy: 0.9556\n",
            "Epoch 114/1000\n",
            "26520/26520 [==============================] - 13s 494us/step - loss: 0.3835 - categorical_accuracy: 0.8534 - val_loss: 0.2490 - val_categorical_accuracy: 0.9235\n",
            "Epoch 115/1000\n",
            "26520/26520 [==============================] - 13s 493us/step - loss: 0.3922 - categorical_accuracy: 0.8502 - val_loss: 0.1841 - val_categorical_accuracy: 0.9427\n",
            "Epoch 116/1000\n",
            "26520/26520 [==============================] - 13s 496us/step - loss: 0.3860 - categorical_accuracy: 0.8504 - val_loss: 0.2432 - val_categorical_accuracy: 0.9199\n",
            "Epoch 117/1000\n",
            "26520/26520 [==============================] - 13s 497us/step - loss: 0.3856 - categorical_accuracy: 0.8503 - val_loss: 0.1512 - val_categorical_accuracy: 0.9551\n",
            "Epoch 118/1000\n",
            "26520/26520 [==============================] - 13s 496us/step - loss: 0.3866 - categorical_accuracy: 0.8520 - val_loss: 0.1898 - val_categorical_accuracy: 0.9464\n",
            "Epoch 119/1000\n",
            "26520/26520 [==============================] - 13s 494us/step - loss: 0.3889 - categorical_accuracy: 0.8523 - val_loss: 0.1642 - val_categorical_accuracy: 0.9556\n",
            "Epoch 120/1000\n",
            "26520/26520 [==============================] - 13s 493us/step - loss: 0.3858 - categorical_accuracy: 0.8535 - val_loss: 0.1529 - val_categorical_accuracy: 0.9568\n",
            "Epoch 121/1000\n",
            "26520/26520 [==============================] - 13s 497us/step - loss: 0.3801 - categorical_accuracy: 0.8552 - val_loss: 0.4039 - val_categorical_accuracy: 0.8585\n",
            "Epoch 122/1000\n",
            "26520/26520 [==============================] - 13s 492us/step - loss: 0.3783 - categorical_accuracy: 0.8561 - val_loss: 0.1211 - val_categorical_accuracy: 0.9701\n",
            "Epoch 123/1000\n",
            "26520/26520 [==============================] - 13s 492us/step - loss: 0.3782 - categorical_accuracy: 0.8536 - val_loss: 0.2076 - val_categorical_accuracy: 0.9308\n",
            "Epoch 124/1000\n",
            "26520/26520 [==============================] - 13s 494us/step - loss: 0.3735 - categorical_accuracy: 0.8575 - val_loss: 0.3357 - val_categorical_accuracy: 0.8835\n",
            "Epoch 125/1000\n",
            "26520/26520 [==============================] - 13s 495us/step - loss: 0.3771 - categorical_accuracy: 0.8563 - val_loss: 0.1458 - val_categorical_accuracy: 0.9547\n",
            "Epoch 126/1000\n",
            "26520/26520 [==============================] - 13s 495us/step - loss: 0.3743 - categorical_accuracy: 0.8575 - val_loss: 0.1698 - val_categorical_accuracy: 0.9442\n",
            "Epoch 127/1000\n",
            "26520/26520 [==============================] - 13s 505us/step - loss: 0.3715 - categorical_accuracy: 0.8598 - val_loss: 0.2779 - val_categorical_accuracy: 0.8983\n",
            "Epoch 128/1000\n",
            "26520/26520 [==============================] - 13s 488us/step - loss: 0.3710 - categorical_accuracy: 0.8588 - val_loss: 0.1270 - val_categorical_accuracy: 0.9667\n",
            "Epoch 129/1000\n",
            "26520/26520 [==============================] - 13s 489us/step - loss: 0.3631 - categorical_accuracy: 0.8604 - val_loss: 0.1278 - val_categorical_accuracy: 0.9688\n",
            "Epoch 130/1000\n",
            "26520/26520 [==============================] - 13s 489us/step - loss: 0.3659 - categorical_accuracy: 0.8588 - val_loss: 0.1882 - val_categorical_accuracy: 0.9370\n",
            "Epoch 131/1000\n",
            "26520/26520 [==============================] - 13s 495us/step - loss: 0.3701 - categorical_accuracy: 0.8597 - val_loss: 0.1604 - val_categorical_accuracy: 0.9513\n",
            "Epoch 132/1000\n",
            "26520/26520 [==============================] - 13s 486us/step - loss: 0.3704 - categorical_accuracy: 0.8560 - val_loss: 0.1035 - val_categorical_accuracy: 0.9791\n",
            "Epoch 133/1000\n",
            "26520/26520 [==============================] - 13s 490us/step - loss: 0.3755 - categorical_accuracy: 0.8560 - val_loss: 0.1143 - val_categorical_accuracy: 0.9662\n",
            "Epoch 134/1000\n",
            "26520/26520 [==============================] - 13s 490us/step - loss: 0.3613 - categorical_accuracy: 0.8625 - val_loss: 0.3487 - val_categorical_accuracy: 0.8741\n",
            "Epoch 135/1000\n",
            "26520/26520 [==============================] - 13s 488us/step - loss: 0.3594 - categorical_accuracy: 0.8600 - val_loss: 0.1324 - val_categorical_accuracy: 0.9620\n",
            "Epoch 136/1000\n",
            "26520/26520 [==============================] - 13s 489us/step - loss: 0.3598 - categorical_accuracy: 0.8644 - val_loss: 0.1731 - val_categorical_accuracy: 0.9410\n",
            "Epoch 137/1000\n",
            "26520/26520 [==============================] - 13s 485us/step - loss: 0.3536 - categorical_accuracy: 0.8643 - val_loss: 0.2053 - val_categorical_accuracy: 0.9323\n",
            "Epoch 138/1000\n",
            "26520/26520 [==============================] - 13s 486us/step - loss: 0.3553 - categorical_accuracy: 0.8664 - val_loss: 0.1192 - val_categorical_accuracy: 0.9654\n",
            "Epoch 139/1000\n",
            "26520/26520 [==============================] - 13s 485us/step - loss: 0.3630 - categorical_accuracy: 0.8635 - val_loss: 0.1028 - val_categorical_accuracy: 0.9778\n",
            "Epoch 140/1000\n",
            "26520/26520 [==============================] - 13s 488us/step - loss: 0.3537 - categorical_accuracy: 0.8649 - val_loss: 0.1428 - val_categorical_accuracy: 0.9517\n",
            "Epoch 141/1000\n",
            "26520/26520 [==============================] - 13s 487us/step - loss: 0.3502 - categorical_accuracy: 0.8674 - val_loss: 0.0943 - val_categorical_accuracy: 0.9786\n",
            "Epoch 142/1000\n",
            "26520/26520 [==============================] - 13s 486us/step - loss: 0.3492 - categorical_accuracy: 0.8686 - val_loss: 0.1038 - val_categorical_accuracy: 0.9748\n",
            "Epoch 143/1000\n",
            "26520/26520 [==============================] - 13s 487us/step - loss: 0.3546 - categorical_accuracy: 0.8647 - val_loss: 0.1154 - val_categorical_accuracy: 0.9692\n",
            "Epoch 144/1000\n",
            "26520/26520 [==============================] - 13s 493us/step - loss: 0.3467 - categorical_accuracy: 0.8681 - val_loss: 0.1047 - val_categorical_accuracy: 0.9729\n",
            "Epoch 145/1000\n",
            "26520/26520 [==============================] - 13s 495us/step - loss: 0.3445 - categorical_accuracy: 0.8702 - val_loss: 0.1556 - val_categorical_accuracy: 0.9615\n",
            "Epoch 146/1000\n",
            "26520/26520 [==============================] - 13s 486us/step - loss: 0.3491 - categorical_accuracy: 0.8680 - val_loss: 0.1531 - val_categorical_accuracy: 0.9474\n",
            "Epoch 147/1000\n",
            "26520/26520 [==============================] - 13s 487us/step - loss: 0.3503 - categorical_accuracy: 0.8676 - val_loss: 0.1269 - val_categorical_accuracy: 0.9598\n",
            "Epoch 148/1000\n",
            "26520/26520 [==============================] - 13s 483us/step - loss: 0.3405 - categorical_accuracy: 0.8696 - val_loss: 0.2167 - val_categorical_accuracy: 0.9357\n",
            "Epoch 149/1000\n",
            "26520/26520 [==============================] - 13s 482us/step - loss: 0.3474 - categorical_accuracy: 0.8665 - val_loss: 0.1428 - val_categorical_accuracy: 0.9618\n",
            "Epoch 150/1000\n",
            "26520/26520 [==============================] - 13s 487us/step - loss: 0.3488 - categorical_accuracy: 0.8690 - val_loss: 0.1358 - val_categorical_accuracy: 0.9647\n",
            "Epoch 151/1000\n",
            "26520/26520 [==============================] - 13s 496us/step - loss: 0.3458 - categorical_accuracy: 0.8696 - val_loss: 0.1551 - val_categorical_accuracy: 0.9489\n",
            "Epoch 152/1000\n",
            "26520/26520 [==============================] - 13s 484us/step - loss: 0.3305 - categorical_accuracy: 0.8741 - val_loss: 0.1093 - val_categorical_accuracy: 0.9774\n",
            "Epoch 153/1000\n",
            "26520/26520 [==============================] - 13s 483us/step - loss: 0.3401 - categorical_accuracy: 0.8690 - val_loss: 0.1720 - val_categorical_accuracy: 0.9459\n",
            "Epoch 154/1000\n",
            "26520/26520 [==============================] - 13s 485us/step - loss: 0.3416 - categorical_accuracy: 0.8705 - val_loss: 0.3296 - val_categorical_accuracy: 0.8808\n",
            "Epoch 155/1000\n",
            "26520/26520 [==============================] - 13s 486us/step - loss: 0.3333 - categorical_accuracy: 0.8742 - val_loss: 0.1268 - val_categorical_accuracy: 0.9588\n",
            "Epoch 156/1000\n",
            "26520/26520 [==============================] - 13s 484us/step - loss: 0.3359 - categorical_accuracy: 0.8729 - val_loss: 0.2150 - val_categorical_accuracy: 0.9271\n",
            "Epoch 157/1000\n",
            "26520/26520 [==============================] - 13s 485us/step - loss: 0.3321 - categorical_accuracy: 0.8746 - val_loss: 0.1040 - val_categorical_accuracy: 0.9780\n",
            "Epoch 158/1000\n",
            "26520/26520 [==============================] - 13s 489us/step - loss: 0.3392 - categorical_accuracy: 0.8726 - val_loss: 0.1452 - val_categorical_accuracy: 0.9603\n",
            "Epoch 159/1000\n",
            "26520/26520 [==============================] - 13s 481us/step - loss: 0.3327 - categorical_accuracy: 0.8749 - val_loss: 0.0987 - val_categorical_accuracy: 0.9731\n",
            "Epoch 160/1000\n",
            "26520/26520 [==============================] - 13s 485us/step - loss: 0.3333 - categorical_accuracy: 0.8734 - val_loss: 0.1901 - val_categorical_accuracy: 0.9372\n",
            "Epoch 161/1000\n",
            "26520/26520 [==============================] - 13s 487us/step - loss: 0.3389 - categorical_accuracy: 0.8741 - val_loss: 0.1253 - val_categorical_accuracy: 0.9632\n",
            "Epoch 162/1000\n",
            "26520/26520 [==============================] - 13s 483us/step - loss: 0.3306 - categorical_accuracy: 0.8756 - val_loss: 0.0963 - val_categorical_accuracy: 0.9795\n",
            "Epoch 163/1000\n",
            "26520/26520 [==============================] - 13s 488us/step - loss: 0.3216 - categorical_accuracy: 0.8779 - val_loss: 0.1435 - val_categorical_accuracy: 0.9504\n",
            "Epoch 164/1000\n",
            "26520/26520 [==============================] - 13s 489us/step - loss: 0.3296 - categorical_accuracy: 0.8745 - val_loss: 0.0972 - val_categorical_accuracy: 0.9791\n",
            "Epoch 165/1000\n",
            "26520/26520 [==============================] - 13s 486us/step - loss: 0.3291 - categorical_accuracy: 0.8760 - val_loss: 0.0826 - val_categorical_accuracy: 0.9808\n",
            "\n",
            "Reached 98.00% accuracy. Stopping training!!\n"
          ],
          "name": "stdout"
        },
        {
          "output_type": "execute_result",
          "data": {
            "text/plain": [
              "<keras.callbacks.History at 0x7f879e780b00>"
            ]
          },
          "metadata": {
            "tags": []
          },
          "execution_count": 41
        }
      ]
    },
    {
      "cell_type": "code",
      "metadata": {
        "id": "HxsPbEMh2BQg",
        "colab_type": "code",
        "colab": {}
      },
      "source": [
        "#Saving a model Syntax:\n",
        "model.save(\"drive/My Drive/DL Dataset/model_cnn_best1.h5\")"
      ],
      "execution_count": 0,
      "outputs": []
    },
    {
      "cell_type": "code",
      "metadata": {
        "id": "MCH24c3ZAtve",
        "colab_type": "code",
        "colab": {}
      },
      "source": [
        "f = open(os.path.join(dir, 'dev.json'), encoding=\"utf8\")\n",
        "dev = json.load(f)"
      ],
      "execution_count": 0,
      "outputs": []
    },
    {
      "cell_type": "code",
      "metadata": {
        "id": "s22p0lRYAz8F",
        "colab_type": "code",
        "colab": {
          "base_uri": "https://localhost:8080/",
          "height": 83,
          "referenced_widgets": [
            "e0f30242ce564467bbb28f10febbc5b3",
            "ca1df0a0c51744f0a8d7dd6319be079d",
            "d3d3b36f8a2649a6823bfdc7ce5f96cb",
            "5cb23e47d5294ec2bd7083824698d47c",
            "03163816d61845ff8911c20d19da7186",
            "aafbf6c8c2414085b009c754d599e9ca",
            "4e3220c8481b4286b05383e1d9f8741e",
            "9b7bb3a5b8f942b1b78fca86942928d8"
          ]
        },
        "outputId": "3000f155-b903-4ce1-fb51-02394a187ae2"
      },
      "source": [
        "df1 = pd.DataFrame(dev)\n",
        "df1= df1.T\n",
        "TOTAL_DATA=df1.shape[0]\n",
        "tst = np.zeros((TOTAL_DATA,PAD_COLS, PAD_ROWS),dtype=np.float32)\n",
        "scaler = MinMaxScaler(feature_range=(0.1, 1))\n",
        "\n",
        "\n",
        "for i in tqdm_notebook(range(TOTAL_DATA)):\n",
        "    x = np.array(df1['features'][i])[:PAD_COLS,:]\n",
        "    [r,c] = x.shape\n",
        "    tst[i,:r,:c] = scaler.fit_transform(x)   # Scale to [0,1] range\n",
        "    \n",
        "print(tst.shape)"
      ],
      "execution_count": 42,
      "outputs": [
        {
          "output_type": "display_data",
          "data": {
            "application/vnd.jupyter.widget-view+json": {
              "model_id": "e0f30242ce564467bbb28f10febbc5b3",
              "version_minor": 0,
              "version_major": 2
            },
            "text/plain": [
              "HBox(children=(IntProgress(value=0, max=3342), HTML(value='')))"
            ]
          },
          "metadata": {
            "tags": []
          }
        },
        {
          "output_type": "stream",
          "text": [
            "\n",
            "(3342, 600, 26)\n"
          ],
          "name": "stdout"
        }
      ]
    },
    {
      "cell_type": "code",
      "metadata": {
        "id": "RjVS3HhF3o-G",
        "colab_type": "code",
        "colab": {}
      },
      "source": [
        "pred = model.predict(tst)\n",
        "y_label=np.argmax(y_test, axis=1)\n",
        "pred=np.argmax(pred, axis=1)"
      ],
      "execution_count": 0,
      "outputs": []
    },
    {
      "cell_type": "code",
      "metadata": {
        "id": "qR-UiaTv9fcp",
        "colab_type": "code",
        "colab": {
          "base_uri": "https://localhost:8080/",
          "height": 66,
          "referenced_widgets": [
            "71a3d483d682445daea40b8fa49b89ec",
            "e731996affce4116b52dd21acf5cd358",
            "8cf46416b95d4964929183a7028082fd",
            "2eb25984d17c479b8b5b5f9098b514f2",
            "29918cf1912943eaa17ee0204ad1cc9e",
            "6ce03fb9ec7d424c84123a0a8c901bfb",
            "ac614258e2e74b0bae807063e2791a54",
            "01e71b741610472da2b3157107751da0"
          ]
        },
        "outputId": "9b9b6c88-200a-482c-bf4c-397593907132"
      },
      "source": [
        "res=pd.DataFrame(np.zeros((TOTAL_DATA,2),dtype=np.int),columns=['valence','activation'])\n",
        "\n",
        "## Prepare output file : Decipher predicted code to valence and activation values\n",
        "for i in tqdm_notebook(range(TOTAL_DATA)):\n",
        "    \n",
        "    x=pred[i]\n",
        "    if x==0:        \n",
        "       v=0\n",
        "       a=0\n",
        "    elif x==1:\n",
        "        v=0\n",
        "        a=1\n",
        "    elif x==2:\n",
        "        v=1\n",
        "        a=0\n",
        "    elif x==3:\n",
        "        v=1\n",
        "        a=1\n",
        "    res['valence'][i] = v\n",
        "    res['activation'][i] = a"
      ],
      "execution_count": 44,
      "outputs": [
        {
          "output_type": "display_data",
          "data": {
            "application/vnd.jupyter.widget-view+json": {
              "model_id": "71a3d483d682445daea40b8fa49b89ec",
              "version_minor": 0,
              "version_major": 2
            },
            "text/plain": [
              "HBox(children=(IntProgress(value=0, max=3342), HTML(value='')))"
            ]
          },
          "metadata": {
            "tags": []
          }
        },
        {
          "output_type": "stream",
          "text": [
            "\n"
          ],
          "name": "stdout"
        }
      ]
    },
    {
      "cell_type": "code",
      "metadata": {
        "id": "gK-MqbP5dOwe",
        "colab_type": "code",
        "colab": {}
      },
      "source": [
        "res.to_json('drive/My Drive/DL Dataset/NLU/res98.json',orient='index')"
      ],
      "execution_count": 0,
      "outputs": []
    },
    {
      "cell_type": "code",
      "metadata": {
        "id": "PZtkWPErZaTF",
        "colab_type": "code",
        "colab": {}
      },
      "source": [
        "model.fit(X_train, y_train, verbose=1, initial_epoch=380, epochs=1000, validation_data=(X_test, y_test), shuffle=True, callbacks=[callbacks])  # train the model"
      ],
      "execution_count": 0,
      "outputs": []
    },
    {
      "cell_type": "code",
      "metadata": {
        "id": "3gpUk35zZtas",
        "colab_type": "code",
        "colab": {}
      },
      "source": [
        "model.summary()"
      ],
      "execution_count": 0,
      "outputs": []
    },
    {
      "cell_type": "code",
      "metadata": {
        "id": "BYF6vj6cH9Di",
        "colab_type": "code",
        "colab": {}
      },
      "source": [
        "feat_merged=np.concatenate((feat, feat1), axis=1)"
      ],
      "execution_count": 0,
      "outputs": []
    },
    {
      "cell_type": "code",
      "metadata": {
        "id": "mOwYBj9vrZ0i",
        "colab_type": "code",
        "colab": {}
      },
      "source": [
        "feat_merged.shape"
      ],
      "execution_count": 0,
      "outputs": []
    },
    {
      "cell_type": "code",
      "metadata": {
        "id": "_NLYHhLSrbOt",
        "colab_type": "code",
        "colab": {}
      },
      "source": [
        ""
      ],
      "execution_count": 0,
      "outputs": []
    }
  ]
}