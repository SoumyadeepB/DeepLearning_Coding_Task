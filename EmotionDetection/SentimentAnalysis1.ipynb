{
  "nbformat": 4,
  "nbformat_minor": 0,
  "metadata": {
    "colab": {
      "name": "SentimentAnalysis.ipynb",
      "provenance": [],
      "collapsed_sections": []
    },
    "kernelspec": {
      "name": "python3",
      "display_name": "Python 3"
    },
    "accelerator": "GPU",
    "widgets": {
      "application/vnd.jupyter.widget-state+json": {
        "20f03b726bbc4e5bb41ad1164b3a6b6c": {
          "model_module": "@jupyter-widgets/controls",
          "model_name": "HBoxModel",
          "state": {
            "_view_name": "HBoxView",
            "_dom_classes": [],
            "_model_name": "HBoxModel",
            "_view_module": "@jupyter-widgets/controls",
            "_model_module_version": "1.5.0",
            "_view_count": null,
            "_view_module_version": "1.5.0",
            "box_style": "",
            "layout": "IPY_MODEL_84e6b811441249c6a5a892db726b5120",
            "_model_module": "@jupyter-widgets/controls",
            "children": [
              "IPY_MODEL_5d84dc368f7347cd992553924b395bdd",
              "IPY_MODEL_f3d1b4a5e359427398b1ccef21391d52"
            ]
          }
        },
        "84e6b811441249c6a5a892db726b5120": {
          "model_module": "@jupyter-widgets/base",
          "model_name": "LayoutModel",
          "state": {
            "_view_name": "LayoutView",
            "grid_template_rows": null,
            "right": null,
            "justify_content": null,
            "_view_module": "@jupyter-widgets/base",
            "overflow": null,
            "_model_module_version": "1.2.0",
            "_view_count": null,
            "flex_flow": null,
            "width": null,
            "min_width": null,
            "border": null,
            "align_items": null,
            "bottom": null,
            "_model_module": "@jupyter-widgets/base",
            "top": null,
            "grid_column": null,
            "overflow_y": null,
            "overflow_x": null,
            "grid_auto_flow": null,
            "grid_area": null,
            "grid_template_columns": null,
            "flex": null,
            "_model_name": "LayoutModel",
            "justify_items": null,
            "grid_row": null,
            "max_height": null,
            "align_content": null,
            "visibility": null,
            "align_self": null,
            "height": null,
            "min_height": null,
            "padding": null,
            "grid_auto_rows": null,
            "grid_gap": null,
            "max_width": null,
            "order": null,
            "_view_module_version": "1.2.0",
            "grid_template_areas": null,
            "object_position": null,
            "object_fit": null,
            "grid_auto_columns": null,
            "margin": null,
            "display": null,
            "left": null
          }
        },
        "5d84dc368f7347cd992553924b395bdd": {
          "model_module": "@jupyter-widgets/controls",
          "model_name": "IntProgressModel",
          "state": {
            "_view_name": "ProgressView",
            "style": "IPY_MODEL_50d5a225ba114b078c3838e4ae76c782",
            "_dom_classes": [],
            "description": "",
            "_model_name": "IntProgressModel",
            "bar_style": "success",
            "max": 7800,
            "_view_module": "@jupyter-widgets/controls",
            "_model_module_version": "1.5.0",
            "value": 7800,
            "_view_count": null,
            "_view_module_version": "1.5.0",
            "orientation": "horizontal",
            "min": 0,
            "description_tooltip": null,
            "_model_module": "@jupyter-widgets/controls",
            "layout": "IPY_MODEL_afe5f793197141c0af17dbe6389795c7"
          }
        },
        "f3d1b4a5e359427398b1ccef21391d52": {
          "model_module": "@jupyter-widgets/controls",
          "model_name": "HTMLModel",
          "state": {
            "_view_name": "HTMLView",
            "style": "IPY_MODEL_137e257e17414a0aaedf906d2f41c0e2",
            "_dom_classes": [],
            "description": "",
            "_model_name": "HTMLModel",
            "placeholder": "​",
            "_view_module": "@jupyter-widgets/controls",
            "_model_module_version": "1.5.0",
            "value": "100% 7800/7800 [00:07&lt;00:00, 1034.75it/s]",
            "_view_count": null,
            "_view_module_version": "1.5.0",
            "description_tooltip": null,
            "_model_module": "@jupyter-widgets/controls",
            "layout": "IPY_MODEL_169893a9db544641a098f5d4219f8f2a"
          }
        },
        "50d5a225ba114b078c3838e4ae76c782": {
          "model_module": "@jupyter-widgets/controls",
          "model_name": "ProgressStyleModel",
          "state": {
            "_view_name": "StyleView",
            "_model_name": "ProgressStyleModel",
            "description_width": "",
            "_view_module": "@jupyter-widgets/base",
            "_model_module_version": "1.5.0",
            "_view_count": null,
            "_view_module_version": "1.2.0",
            "bar_color": null,
            "_model_module": "@jupyter-widgets/controls"
          }
        },
        "afe5f793197141c0af17dbe6389795c7": {
          "model_module": "@jupyter-widgets/base",
          "model_name": "LayoutModel",
          "state": {
            "_view_name": "LayoutView",
            "grid_template_rows": null,
            "right": null,
            "justify_content": null,
            "_view_module": "@jupyter-widgets/base",
            "overflow": null,
            "_model_module_version": "1.2.0",
            "_view_count": null,
            "flex_flow": null,
            "width": null,
            "min_width": null,
            "border": null,
            "align_items": null,
            "bottom": null,
            "_model_module": "@jupyter-widgets/base",
            "top": null,
            "grid_column": null,
            "overflow_y": null,
            "overflow_x": null,
            "grid_auto_flow": null,
            "grid_area": null,
            "grid_template_columns": null,
            "flex": null,
            "_model_name": "LayoutModel",
            "justify_items": null,
            "grid_row": null,
            "max_height": null,
            "align_content": null,
            "visibility": null,
            "align_self": null,
            "height": null,
            "min_height": null,
            "padding": null,
            "grid_auto_rows": null,
            "grid_gap": null,
            "max_width": null,
            "order": null,
            "_view_module_version": "1.2.0",
            "grid_template_areas": null,
            "object_position": null,
            "object_fit": null,
            "grid_auto_columns": null,
            "margin": null,
            "display": null,
            "left": null
          }
        },
        "137e257e17414a0aaedf906d2f41c0e2": {
          "model_module": "@jupyter-widgets/controls",
          "model_name": "DescriptionStyleModel",
          "state": {
            "_view_name": "StyleView",
            "_model_name": "DescriptionStyleModel",
            "description_width": "",
            "_view_module": "@jupyter-widgets/base",
            "_model_module_version": "1.5.0",
            "_view_count": null,
            "_view_module_version": "1.2.0",
            "_model_module": "@jupyter-widgets/controls"
          }
        },
        "169893a9db544641a098f5d4219f8f2a": {
          "model_module": "@jupyter-widgets/base",
          "model_name": "LayoutModel",
          "state": {
            "_view_name": "LayoutView",
            "grid_template_rows": null,
            "right": null,
            "justify_content": null,
            "_view_module": "@jupyter-widgets/base",
            "overflow": null,
            "_model_module_version": "1.2.0",
            "_view_count": null,
            "flex_flow": null,
            "width": null,
            "min_width": null,
            "border": null,
            "align_items": null,
            "bottom": null,
            "_model_module": "@jupyter-widgets/base",
            "top": null,
            "grid_column": null,
            "overflow_y": null,
            "overflow_x": null,
            "grid_auto_flow": null,
            "grid_area": null,
            "grid_template_columns": null,
            "flex": null,
            "_model_name": "LayoutModel",
            "justify_items": null,
            "grid_row": null,
            "max_height": null,
            "align_content": null,
            "visibility": null,
            "align_self": null,
            "height": null,
            "min_height": null,
            "padding": null,
            "grid_auto_rows": null,
            "grid_gap": null,
            "max_width": null,
            "order": null,
            "_view_module_version": "1.2.0",
            "grid_template_areas": null,
            "object_position": null,
            "object_fit": null,
            "grid_auto_columns": null,
            "margin": null,
            "display": null,
            "left": null
          }
        }
      }
    }
  },
  "cells": [
    {
      "cell_type": "code",
      "metadata": {
        "id": "zgaPRUmsoiJS",
        "colab_type": "code",
        "outputId": "88f0bed1-e547-4e62-ab44-9d80e10d54f0",
        "colab": {
          "base_uri": "https://localhost:8080/",
          "height": 120
        }
      },
      "source": [
        "from google.colab import drive\n",
        "drive.mount('/content/drive')"
      ],
      "execution_count": 0,
      "outputs": [
        {
          "output_type": "stream",
          "text": [
            "Go to this URL in a browser: https://accounts.google.com/o/oauth2/auth?client_id=947318989803-6bn6qk8qdgf4n4g3pfee6491hc0brc4i.apps.googleusercontent.com&redirect_uri=urn%3aietf%3awg%3aoauth%3a2.0%3aoob&response_type=code&scope=email%20https%3a%2f%2fwww.googleapis.com%2fauth%2fdocs.test%20https%3a%2f%2fwww.googleapis.com%2fauth%2fdrive%20https%3a%2f%2fwww.googleapis.com%2fauth%2fdrive.photos.readonly%20https%3a%2f%2fwww.googleapis.com%2fauth%2fpeopleapi.readonly\n",
            "\n",
            "Enter your authorization code:\n",
            "··········\n",
            "Mounted at /content/drive\n"
          ],
          "name": "stdout"
        }
      ]
    },
    {
      "cell_type": "code",
      "metadata": {
        "id": "KLxb3VrbopC9",
        "colab_type": "code",
        "outputId": "df482806-f66a-44c9-e3f1-73a0f05acb39",
        "colab": {
          "base_uri": "https://localhost:8080/",
          "height": 79
        }
      },
      "source": [
        "import tensorflow as tf\n",
        "import keras\n",
        "import numpy as np\n",
        "import pandas as pd\n",
        "import matplotlib.pyplot as plt\n",
        "import nltk\n",
        "from nltk.stem import WordNetLemmatizer\n",
        "from sklearn.feature_extraction.text import CountVectorizer\n",
        "from keras.layers import Dense, Input, Flatten, Conv2D,Conv1D, MaxPooling2D,MaxPooling1D,GlobalMaxPooling1D,GlobalMaxPooling2D\n",
        "from keras.layers import Reshape, Dropout, Concatenate, LSTM,Bidirectional,BatchNormalization\n",
        "from keras.layers import Flatten,Activation,CuDNNGRU,CuDNNLSTM\n",
        "from keras.models import Model\n",
        "from keras.models import Sequential\n",
        "from keras import regularizers,optimizers\n",
        "from sklearn.model_selection import train_test_split\n",
        "from sklearn.preprocessing import normalize\n",
        "from sklearn.metrics import accuracy_score\n",
        "import os\n",
        "import json\n",
        "from IPython.core.display import display, HTML\n",
        "from tqdm import tqdm_notebook\n",
        "import warnings\n",
        "warnings.filterwarnings(\"ignore\")\n",
        "%matplotlib inline\n"
      ],
      "execution_count": 0,
      "outputs": [
        {
          "output_type": "display_data",
          "data": {
            "text/html": [
              "<p style=\"color: red;\">\n",
              "The default version of TensorFlow in Colab will soon switch to TensorFlow 2.x.<br>\n",
              "We recommend you <a href=\"https://www.tensorflow.org/guide/migrate\" target=\"_blank\">upgrade</a> now \n",
              "or ensure your notebook will continue to use TensorFlow 1.x via the <code>%tensorflow_version 1.x</code> magic:\n",
              "<a href=\"https://colab.research.google.com/notebooks/tensorflow_version.ipynb\" target=\"_blank\">more info</a>.</p>\n"
            ],
            "text/plain": [
              "<IPython.core.display.HTML object>"
            ]
          },
          "metadata": {
            "tags": []
          }
        },
        {
          "output_type": "stream",
          "text": [
            "Using TensorFlow backend.\n"
          ],
          "name": "stderr"
        }
      ]
    },
    {
      "cell_type": "code",
      "metadata": {
        "id": "IKSFTiwQJLlP",
        "colab_type": "code",
        "colab": {}
      },
      "source": [
        "os.environ['TF_CPP_MIN_LOG_LEVEL'] = '2'"
      ],
      "execution_count": 0,
      "outputs": []
    },
    {
      "cell_type": "code",
      "metadata": {
        "id": "aLNJXypcszSg",
        "colab_type": "code",
        "colab": {}
      },
      "source": [
        "PAD_ROWS=26 \n",
        "PAD_COLS=1800"
      ],
      "execution_count": 0,
      "outputs": []
    },
    {
      "cell_type": "code",
      "metadata": {
        "id": "hQHtEDhMtH7O",
        "colab_type": "code",
        "outputId": "49aaedee-8cd1-4025-a513-d7c559b2678f",
        "colab": {
          "base_uri": "https://localhost:8080/",
          "height": 33
        }
      },
      "source": [
        "print(os.listdir('drive/My Drive/DL Dataset'))\n",
        "dir = 'drive/My Drive/DL Dataset/'\n",
        "f = open(os.path.join(dir, 'train.json'), encoding=\"utf8\")\n",
        "data = json.load(f)"
      ],
      "execution_count": 0,
      "outputs": [
        {
          "output_type": "stream",
          "text": [
            "['dev.json', 'train.json', 'valence_1000.h5']\n"
          ],
          "name": "stdout"
        }
      ]
    },
    {
      "cell_type": "code",
      "metadata": {
        "id": "h9CahNNwtLtY",
        "colab_type": "code",
        "outputId": "a96900cc-5d36-4def-ff21-ad596d1471e0",
        "colab": {
          "base_uri": "https://localhost:8080/",
          "height": 198
        }
      },
      "source": [
        "df = pd.DataFrame(data)\n",
        "df= df.T\n",
        "TOTAL_DATA=df.shape[0]\n",
        "df.head()"
      ],
      "execution_count": 0,
      "outputs": [
        {
          "output_type": "execute_result",
          "data": {
            "text/html": [
              "<div>\n",
              "<style scoped>\n",
              "    .dataframe tbody tr th:only-of-type {\n",
              "        vertical-align: middle;\n",
              "    }\n",
              "\n",
              "    .dataframe tbody tr th {\n",
              "        vertical-align: top;\n",
              "    }\n",
              "\n",
              "    .dataframe thead th {\n",
              "        text-align: right;\n",
              "    }\n",
              "</style>\n",
              "<table border=\"1\" class=\"dataframe\">\n",
              "  <thead>\n",
              "    <tr style=\"text-align: right;\">\n",
              "      <th></th>\n",
              "      <th>valence</th>\n",
              "      <th>activation</th>\n",
              "      <th>features</th>\n",
              "    </tr>\n",
              "  </thead>\n",
              "  <tbody>\n",
              "    <tr>\n",
              "      <th>0</th>\n",
              "      <td>0</td>\n",
              "      <td>1</td>\n",
              "      <td>[[5.502810676891276, 5.389630715979907, 5.8907...</td>\n",
              "    </tr>\n",
              "    <tr>\n",
              "      <th>1</th>\n",
              "      <td>1</td>\n",
              "      <td>1</td>\n",
              "      <td>[[5.059076172970736, 5.288492317702101, 4.2633...</td>\n",
              "    </tr>\n",
              "    <tr>\n",
              "      <th>2</th>\n",
              "      <td>0</td>\n",
              "      <td>1</td>\n",
              "      <td>[[4.218546271669202, 4.961436495859291, 3.6650...</td>\n",
              "    </tr>\n",
              "    <tr>\n",
              "      <th>3</th>\n",
              "      <td>1</td>\n",
              "      <td>0</td>\n",
              "      <td>[[4.650364321573866, 4.523905028353254, 5.0168...</td>\n",
              "    </tr>\n",
              "    <tr>\n",
              "      <th>4</th>\n",
              "      <td>0</td>\n",
              "      <td>1</td>\n",
              "      <td>[[3.900221957277269, 2.7325726489808124, 2.565...</td>\n",
              "    </tr>\n",
              "  </tbody>\n",
              "</table>\n",
              "</div>"
            ],
            "text/plain": [
              "  valence activation                                           features\n",
              "0       0          1  [[5.502810676891276, 5.389630715979907, 5.8907...\n",
              "1       1          1  [[5.059076172970736, 5.288492317702101, 4.2633...\n",
              "2       0          1  [[4.218546271669202, 4.961436495859291, 3.6650...\n",
              "3       1          0  [[4.650364321573866, 4.523905028353254, 5.0168...\n",
              "4       0          1  [[3.900221957277269, 2.7325726489808124, 2.565..."
            ]
          },
          "metadata": {
            "tags": []
          },
          "execution_count": 7
        }
      ]
    },
    {
      "cell_type": "code",
      "metadata": {
        "id": "m4Z4Q91MtPG0",
        "colab_type": "code",
        "outputId": "104e341e-022e-4896-fcf8-146d0b91e882",
        "colab": {
          "base_uri": "https://localhost:8080/",
          "height": 198
        }
      },
      "source": [
        "df['labels'] = df[['valence', 'activation']].values.tolist()\n",
        "df.head()"
      ],
      "execution_count": 0,
      "outputs": [
        {
          "output_type": "execute_result",
          "data": {
            "text/html": [
              "<div>\n",
              "<style scoped>\n",
              "    .dataframe tbody tr th:only-of-type {\n",
              "        vertical-align: middle;\n",
              "    }\n",
              "\n",
              "    .dataframe tbody tr th {\n",
              "        vertical-align: top;\n",
              "    }\n",
              "\n",
              "    .dataframe thead th {\n",
              "        text-align: right;\n",
              "    }\n",
              "</style>\n",
              "<table border=\"1\" class=\"dataframe\">\n",
              "  <thead>\n",
              "    <tr style=\"text-align: right;\">\n",
              "      <th></th>\n",
              "      <th>valence</th>\n",
              "      <th>activation</th>\n",
              "      <th>features</th>\n",
              "      <th>labels</th>\n",
              "    </tr>\n",
              "  </thead>\n",
              "  <tbody>\n",
              "    <tr>\n",
              "      <th>0</th>\n",
              "      <td>0</td>\n",
              "      <td>1</td>\n",
              "      <td>[[5.502810676891276, 5.389630715979907, 5.8907...</td>\n",
              "      <td>[0, 1]</td>\n",
              "    </tr>\n",
              "    <tr>\n",
              "      <th>1</th>\n",
              "      <td>1</td>\n",
              "      <td>1</td>\n",
              "      <td>[[5.059076172970736, 5.288492317702101, 4.2633...</td>\n",
              "      <td>[1, 1]</td>\n",
              "    </tr>\n",
              "    <tr>\n",
              "      <th>2</th>\n",
              "      <td>0</td>\n",
              "      <td>1</td>\n",
              "      <td>[[4.218546271669202, 4.961436495859291, 3.6650...</td>\n",
              "      <td>[0, 1]</td>\n",
              "    </tr>\n",
              "    <tr>\n",
              "      <th>3</th>\n",
              "      <td>1</td>\n",
              "      <td>0</td>\n",
              "      <td>[[4.650364321573866, 4.523905028353254, 5.0168...</td>\n",
              "      <td>[1, 0]</td>\n",
              "    </tr>\n",
              "    <tr>\n",
              "      <th>4</th>\n",
              "      <td>0</td>\n",
              "      <td>1</td>\n",
              "      <td>[[3.900221957277269, 2.7325726489808124, 2.565...</td>\n",
              "      <td>[0, 1]</td>\n",
              "    </tr>\n",
              "  </tbody>\n",
              "</table>\n",
              "</div>"
            ],
            "text/plain": [
              "  valence activation                                           features  labels\n",
              "0       0          1  [[5.502810676891276, 5.389630715979907, 5.8907...  [0, 1]\n",
              "1       1          1  [[5.059076172970736, 5.288492317702101, 4.2633...  [1, 1]\n",
              "2       0          1  [[4.218546271669202, 4.961436495859291, 3.6650...  [0, 1]\n",
              "3       1          0  [[4.650364321573866, 4.523905028353254, 5.0168...  [1, 0]\n",
              "4       0          1  [[3.900221957277269, 2.7325726489808124, 2.565...  [0, 1]"
            ]
          },
          "metadata": {
            "tags": []
          },
          "execution_count": 8
        }
      ]
    },
    {
      "cell_type": "code",
      "metadata": {
        "id": "O0wyXXFltQ4A",
        "colab_type": "code",
        "outputId": "84fc40a6-9c30-4530-ac60-ccf8ed9c909c",
        "colab": {
          "base_uri": "https://localhost:8080/",
          "height": 66,
          "referenced_widgets": [
            "20f03b726bbc4e5bb41ad1164b3a6b6c",
            "84e6b811441249c6a5a892db726b5120",
            "5d84dc368f7347cd992553924b395bdd",
            "f3d1b4a5e359427398b1ccef21391d52",
            "50d5a225ba114b078c3838e4ae76c782",
            "afe5f793197141c0af17dbe6389795c7",
            "137e257e17414a0aaedf906d2f41c0e2",
            "169893a9db544641a098f5d4219f8f2a"
          ]
        }
      },
      "source": [
        "feat = np.zeros((TOTAL_DATA,PAD_ROWS,PAD_COLS),dtype=np.float32)\n",
        "\n",
        "feature_set=pd.DataFrame(np.zeros((TOTAL_DATA,2),dtype=np.float32),columns=['features','label'])\n",
        "feature_set['features']=df['features']\n",
        "code=0\n",
        "for i in tqdm_notebook(range(TOTAL_DATA)):\n",
        "    \n",
        "    [r,c]=np.array(df['features'][i]).T.shape\n",
        "    feat[i,:r,:c]=np.array((df['features'][i])).T  # For input to lstm : samples, time ,features\n",
        "    feature_set['features'][i]=feat[i]\n",
        "    v=df['valence'][i]\n",
        "    a=df['activation'][i]\n",
        "    \n",
        "    if v==0 and a==0:\n",
        "        code=0\n",
        "    elif v==0 and a==1:\n",
        "        code=1\n",
        "    elif v==1 and a==0:\n",
        "        code=2\n",
        "    elif v==1 and a==1:\n",
        "        code=3\n",
        "    feature_set['label'][i]=code"
      ],
      "execution_count": 0,
      "outputs": [
        {
          "output_type": "display_data",
          "data": {
            "application/vnd.jupyter.widget-view+json": {
              "model_id": "20f03b726bbc4e5bb41ad1164b3a6b6c",
              "version_minor": 0,
              "version_major": 2
            },
            "text/plain": [
              "HBox(children=(IntProgress(value=0, max=7800), HTML(value='')))"
            ]
          },
          "metadata": {
            "tags": []
          }
        },
        {
          "output_type": "stream",
          "text": [
            "\n"
          ],
          "name": "stdout"
        }
      ]
    },
    {
      "cell_type": "markdown",
      "metadata": {
        "id": "Ya-Cd9sItUke",
        "colab_type": "text"
      },
      "source": [
        "<h4> Create Separate Labelset for **Valence** and **Activation** </h4>\n"
      ]
    },
    {
      "cell_type": "code",
      "metadata": {
        "id": "IIEhkZI2tV3N",
        "colab_type": "code",
        "colab": {}
      },
      "source": [
        "labels=feature_set['label'].astype(int)\n",
        "labels = pd.get_dummies(feature_set['label']).values.tolist()"
      ],
      "execution_count": 0,
      "outputs": []
    },
    {
      "cell_type": "code",
      "metadata": {
        "id": "34JkzbVOtbCF",
        "colab_type": "code",
        "outputId": "6e8b1e12-8a3c-4736-fc47-45ce2cd437ab",
        "colab": {
          "base_uri": "https://localhost:8080/",
          "height": 133
        }
      },
      "source": [
        "X = feat\n",
        "Y = np.array(labels)\n",
        "print(Y)"
      ],
      "execution_count": 0,
      "outputs": [
        {
          "output_type": "stream",
          "text": [
            "[[0 1 0 0]\n",
            " [0 0 0 1]\n",
            " [0 1 0 0]\n",
            " ...\n",
            " [0 1 0 0]\n",
            " [0 1 0 0]\n",
            " [0 0 0 1]]\n"
          ],
          "name": "stdout"
        }
      ]
    },
    {
      "cell_type": "code",
      "metadata": {
        "id": "aFVGMLCDtdTl",
        "colab_type": "code",
        "colab": {}
      },
      "source": [
        "\n",
        "X_train, X_test, y_train, y_test = train_test_split(X, Y, test_size=0.10, random_state=96)\n",
        "input_dim=X_train[0].shape"
      ],
      "execution_count": 0,
      "outputs": []
    },
    {
      "cell_type": "code",
      "metadata": {
        "id": "3VMDsNkz9IxV",
        "colab_type": "code",
        "outputId": "975d53d3-7054-4419-ebe0-2a2f29d1cf27",
        "colab": {
          "base_uri": "https://localhost:8080/",
          "height": 33
        }
      },
      "source": [
        "X_train.shape"
      ],
      "execution_count": 0,
      "outputs": [
        {
          "output_type": "execute_result",
          "data": {
            "text/plain": [
              "(7020, 26, 1800)"
            ]
          },
          "metadata": {
            "tags": []
          },
          "execution_count": 13
        }
      ]
    },
    {
      "cell_type": "code",
      "metadata": {
        "id": "aVGIJDd0IlIr",
        "colab_type": "code",
        "outputId": "7615c061-2fcf-470b-e09d-f362c4388373",
        "colab": {
          "base_uri": "https://localhost:8080/",
          "height": 83
        }
      },
      "source": [
        "print(X_train.shape)\n",
        "print(X_test.shape)\n",
        "print(y_train.shape)\n",
        "print(y_test.shape)"
      ],
      "execution_count": 0,
      "outputs": [
        {
          "output_type": "stream",
          "text": [
            "(7020, 26, 1800)\n",
            "(780, 26, 1800)\n",
            "(7020, 4)\n",
            "(780, 4)\n"
          ],
          "name": "stdout"
        }
      ]
    },
    {
      "cell_type": "code",
      "metadata": {
        "id": "0pI1bEbUcJmD",
        "colab_type": "code",
        "outputId": "25f77690-c5fb-40c1-84c0-468e381e6111",
        "colab": {
          "base_uri": "https://localhost:8080/",
          "height": 220
        }
      },
      "source": [
        "# #CNN + LSTM (45.25% : 212 epochs)\n",
        "\n",
        "# model = Sequential()\n",
        "# model.add(Conv1D(filters=128, kernel_size=9, activation='relu', padding='same',input_shape=input_dim,name='Conv1'))\n",
        "# model.add(Conv1D(filters=128, kernel_size=6, activation='relu',padding='same',name='Conv2'))\n",
        "# model.add(CuDNNLSTM(1024, return_sequences=False,input_shape=input_dim,name=\"LSTM1\"))\n",
        "# model.add(Dropout(0.2))\n",
        "# model.add(Dense(100, activation='relu',name='Dense1'))\n",
        "# model.add(BatchNormalization())\n",
        "# model.add(Dropout(0.4))\n",
        "# model.add(Dense(24, activation='relu',name='Dense2'))\n",
        "# model.add(BatchNormalization())\n",
        "# model.add(Dropout(0.4))\n",
        "# model.add(Dense(4, activation='softmax'))\n",
        "\n",
        "# model = Sequential()\n",
        "\n",
        "# model.add(Conv1D(filters=128, kernel_size=9, activation='relu', input_shape=input_dim))\n",
        "# model.add(BatchNormalization())\n",
        "# model.add(Conv1D(filters=64, kernel_size=6, activation='relu'))\n",
        "# model.add(Dropout(0.4))\n",
        "# model.add(Conv1D(filters=64, kernel_size=6, activation='relu'))\n",
        "# model.add(Dropout(0.4))\n",
        "# model.add(Conv1D(filters=32, kernel_size=3, activation='relu'))\n",
        "# model.add(Dropout(0.4))\n",
        "# model.add(CuDNNGRU(32))\n",
        "\n",
        "\n",
        "# model.add(Dense(512, activation='relu'))\n",
        "# model.add(BatchNormalization())\n",
        "# model.add(Dropout(0.4))\n",
        "# model.add(Dense(512, activation='relu'))\n",
        "# model.add(BatchNormalization())\n",
        "# model.add(Dropout(0.4))\n",
        "# model.add(Dense(128, activation='relu'))\n",
        "# model.add(BatchNormalization())\n",
        "# model.add(Dropout(0.4))\n",
        "# model.add(Dense(1, activation='sigmoid',name='Output'))\n",
        "\n",
        "\n",
        "model = Sequential()\n",
        "model.add(Conv1D(filters=128, kernel_size=9, activation='relu', padding='same',input_shape=input_dim,name='Conv1'))\n",
        "model.add(Conv1D(filters=128, kernel_size=6, activation='relu',padding='same',name='Conv2'))\n",
        "model.add(CuDNNLSTM(1024, return_sequences=False,name=\"LSTM1\"))\n",
        "model.add(Dropout(0.2))\n",
        "model.add(Dense(100, activation='relu',name='Dense1'))\n",
        "model.add(BatchNormalization())\n",
        "model.add(Dropout(0.4))\n",
        "model.add(Dense(24, activation='relu',name='Dense2'))\n",
        "model.add(BatchNormalization())\n",
        "model.add(Dropout(0.4))\n",
        "model.add(Dense(4, activation='softmax'))"
      ],
      "execution_count": 0,
      "outputs": [
        {
          "output_type": "stream",
          "text": [
            "WARNING:tensorflow:From /usr/local/lib/python3.6/dist-packages/keras/backend/tensorflow_backend.py:66: The name tf.get_default_graph is deprecated. Please use tf.compat.v1.get_default_graph instead.\n",
            "\n",
            "WARNING:tensorflow:From /usr/local/lib/python3.6/dist-packages/keras/backend/tensorflow_backend.py:541: The name tf.placeholder is deprecated. Please use tf.compat.v1.placeholder instead.\n",
            "\n",
            "WARNING:tensorflow:From /usr/local/lib/python3.6/dist-packages/keras/backend/tensorflow_backend.py:4432: The name tf.random_uniform is deprecated. Please use tf.random.uniform instead.\n",
            "\n",
            "WARNING:tensorflow:From /usr/local/lib/python3.6/dist-packages/keras/backend/tensorflow_backend.py:148: The name tf.placeholder_with_default is deprecated. Please use tf.compat.v1.placeholder_with_default instead.\n",
            "\n",
            "WARNING:tensorflow:From /usr/local/lib/python3.6/dist-packages/keras/backend/tensorflow_backend.py:3733: calling dropout (from tensorflow.python.ops.nn_ops) with keep_prob is deprecated and will be removed in a future version.\n",
            "Instructions for updating:\n",
            "Please use `rate` instead of `keep_prob`. Rate should be set to `rate = 1 - keep_prob`.\n"
          ],
          "name": "stdout"
        }
      ]
    },
    {
      "cell_type": "code",
      "metadata": {
        "id": "xRxjHOug8sSa",
        "colab_type": "code",
        "outputId": "eeb602d6-27c3-48e2-fdf4-b713b016b9e3",
        "colab": {
          "base_uri": "https://localhost:8080/",
          "height": 618
        }
      },
      "source": [
        "model.summary()"
      ],
      "execution_count": 0,
      "outputs": [
        {
          "output_type": "stream",
          "text": [
            "Model: \"sequential_5\"\n",
            "_________________________________________________________________\n",
            "Layer (type)                 Output Shape              Param #   \n",
            "=================================================================\n",
            "LSTM1 (CuDNNLSTM)            (None, 1024)              11575296  \n",
            "_________________________________________________________________\n",
            "Dense1 (Dense)               (None, 128)               131200    \n",
            "_________________________________________________________________\n",
            "batch_normalization_11 (Batc (None, 128)               512       \n",
            "_________________________________________________________________\n",
            "dropout_20 (Dropout)         (None, 128)               0         \n",
            "_________________________________________________________________\n",
            "Dense2 (Dense)               (None, 128)               16512     \n",
            "_________________________________________________________________\n",
            "batch_normalization_12 (Batc (None, 128)               512       \n",
            "_________________________________________________________________\n",
            "dropout_21 (Dropout)         (None, 128)               0         \n",
            "_________________________________________________________________\n",
            "Dense3 (Dense)               (None, 128)               16512     \n",
            "_________________________________________________________________\n",
            "batch_normalization_13 (Batc (None, 128)               512       \n",
            "_________________________________________________________________\n",
            "dropout_22 (Dropout)         (None, 128)               0         \n",
            "_________________________________________________________________\n",
            "Dense4 (Dense)               (None, 128)               16512     \n",
            "_________________________________________________________________\n",
            "batch_normalization_14 (Batc (None, 128)               512       \n",
            "_________________________________________________________________\n",
            "dropout_23 (Dropout)         (None, 128)               0         \n",
            "_________________________________________________________________\n",
            "Output (Dense)               (None, 4)                 516       \n",
            "=================================================================\n",
            "Total params: 11,758,596\n",
            "Trainable params: 11,757,572\n",
            "Non-trainable params: 1,024\n",
            "_________________________________________________________________\n"
          ],
          "name": "stdout"
        }
      ]
    },
    {
      "cell_type": "markdown",
      "metadata": {
        "colab_type": "text",
        "id": "wfVeth-G9Iae"
      },
      "source": [
        "If validation loss >> training loss : overfitting.\n",
        "\n",
        "If validation loss  > training loss : some overfitting.\n",
        "\n",
        "If validation loss  < training loss: some underfitting.\n",
        "\n",
        "If validation loss << training loss : underfitting."
      ]
    },
    {
      "cell_type": "code",
      "metadata": {
        "id": "rPvy_Egxtg1z",
        "colab_type": "code",
        "colab": {}
      },
      "source": [
        "warnings.filterwarnings(\"ignore\")\n",
        "model = Sequential()\n",
        "\n",
        "model.add(CuDNNLSTM(1024, return_sequences=False,input_shape=input_dim,name=\"LSTM1\"))\n",
        "model.add(Dense(128,activation='relu',name='Dense1'))\n",
        "model.add(BatchNormalization())\n",
        "model.add(Dropout(0.2))\n",
        "model.add(Dense(128,activation='relu',name='Dense2'))\n",
        "model.add(BatchNormalization())\n",
        "model.add(Dropout(0.2))\n",
        "model.add(Dense(128,activation='relu',name='Dense3'))\n",
        "model.add(BatchNormalization())\n",
        "model.add(Dropout(0.2))\n",
        "model.add(Dense(128,activation='relu',name='Dense4'))\n",
        "model.add(BatchNormalization())\n",
        "model.add(Dropout(0.2))\n",
        "model.add(Dense(4, activation='softmax',name='Output'))"
      ],
      "execution_count": 0,
      "outputs": []
    },
    {
      "cell_type": "code",
      "metadata": {
        "id": "ZOs1XRUg0Vkw",
        "colab_type": "code",
        "colab": {}
      },
      "source": [
        "warnings.filterwarnings(\"ignore\")\n",
        "model = Sequential()\n",
        "\n",
        "model.add(CuDNNGRU(1024, return_sequences=True,input_shape=input_dim,name=\"LSTM1\"))\n",
        "model.add(Dropout(0.2))\n",
        "model.add(CuDNNGRU(1024, return_sequences=True,name=\"LSTM2\"))\n",
        "model.add(Dropout(0.2))\n",
        "model.add(CuDNNGRU(512, return_sequences=False,name=\"LSTM3\"))\n",
        "model.add(Dropout(0.2))\n",
        "model.add(Dense(128,activation='relu',name='Dense1'))\n",
        "model.add(BatchNormalization())\n",
        "model.add(Dropout(0.2))\n",
        "model.add(Dense(4, activation='softmax',name='Output'))"
      ],
      "execution_count": 0,
      "outputs": []
    },
    {
      "cell_type": "code",
      "metadata": {
        "id": "x6c9wDXItjIp",
        "colab_type": "code",
        "colab": {}
      },
      "source": [
        "\n",
        "sgd = optimizers.SGD(lr=0.001, decay=1e-6, momentum=0.9, nesterov=True)\n",
        "model.compile(optimizer=sgd,loss='categorical_crossentropy',metrics=['categorical_accuracy'])\n"
      ],
      "execution_count": 0,
      "outputs": []
    },
    {
      "cell_type": "code",
      "metadata": {
        "id": "5V9wLQQYtqD0",
        "colab_type": "code",
        "outputId": "cb972234-0b1c-4220-9a01-0fe11226dc46",
        "colab": {
          "base_uri": "https://localhost:8080/",
          "height": 1000
        }
      },
      "source": [
        "warnings.filterwarnings(\"ignore\")\n",
        "model.fit(X_train, y_train, verbose=1, epochs=300,validation_data=(X_test, y_test), shuffle=True)  # train the model\n"
      ],
      "execution_count": 0,
      "outputs": [
        {
          "output_type": "stream",
          "text": [
            "Train on 7020 samples, validate on 780 samples\n",
            "Epoch 1/300\n",
            "7020/7020 [==============================] - 10s 1ms/step - loss: 1.3146 - categorical_accuracy: 0.3934 - val_loss: 1.2881 - val_categorical_accuracy: 0.3577\n",
            "Epoch 2/300\n",
            "7020/7020 [==============================] - 10s 1ms/step - loss: 1.2652 - categorical_accuracy: 0.4057 - val_loss: 1.2528 - val_categorical_accuracy: 0.3949\n",
            "Epoch 3/300\n",
            "7020/7020 [==============================] - 10s 1ms/step - loss: 1.2450 - categorical_accuracy: 0.4080 - val_loss: 1.2454 - val_categorical_accuracy: 0.4167\n",
            "Epoch 4/300\n",
            "7020/7020 [==============================] - 10s 1ms/step - loss: 1.2176 - categorical_accuracy: 0.4259 - val_loss: 1.2399 - val_categorical_accuracy: 0.4167\n",
            "Epoch 5/300\n",
            "7020/7020 [==============================] - 10s 1ms/step - loss: 1.2080 - categorical_accuracy: 0.4342 - val_loss: 1.2175 - val_categorical_accuracy: 0.4321\n",
            "Epoch 6/300\n",
            "7020/7020 [==============================] - 10s 1ms/step - loss: 1.1961 - categorical_accuracy: 0.4308 - val_loss: 1.2167 - val_categorical_accuracy: 0.4077\n",
            "Epoch 7/300\n",
            "7020/7020 [==============================] - 10s 1ms/step - loss: 1.1886 - categorical_accuracy: 0.4415 - val_loss: 1.2051 - val_categorical_accuracy: 0.4244\n",
            "Epoch 8/300\n",
            "7020/7020 [==============================] - 10s 1ms/step - loss: 1.1880 - categorical_accuracy: 0.4437 - val_loss: 1.2029 - val_categorical_accuracy: 0.4282\n",
            "Epoch 9/300\n",
            "7020/7020 [==============================] - 10s 1ms/step - loss: 1.1855 - categorical_accuracy: 0.4365 - val_loss: 1.2260 - val_categorical_accuracy: 0.3987\n",
            "Epoch 10/300\n",
            "7020/7020 [==============================] - 10s 1ms/step - loss: 1.1810 - categorical_accuracy: 0.4420 - val_loss: 1.2227 - val_categorical_accuracy: 0.4282\n",
            "Epoch 11/300\n",
            "7020/7020 [==============================] - 10s 1ms/step - loss: 1.1759 - categorical_accuracy: 0.4457 - val_loss: 1.2205 - val_categorical_accuracy: 0.4115\n",
            "Epoch 12/300\n",
            "7020/7020 [==============================] - 10s 1ms/step - loss: 1.1715 - categorical_accuracy: 0.4450 - val_loss: 1.2106 - val_categorical_accuracy: 0.4564\n",
            "Epoch 13/300\n",
            "7020/7020 [==============================] - 10s 1ms/step - loss: 1.1631 - categorical_accuracy: 0.4574 - val_loss: 1.2001 - val_categorical_accuracy: 0.4321\n",
            "Epoch 14/300\n",
            "7020/7020 [==============================] - 10s 1ms/step - loss: 1.1709 - categorical_accuracy: 0.4520 - val_loss: 1.1937 - val_categorical_accuracy: 0.4385\n",
            "Epoch 15/300\n",
            "7020/7020 [==============================] - 10s 1ms/step - loss: 1.1581 - categorical_accuracy: 0.4516 - val_loss: 1.2195 - val_categorical_accuracy: 0.4244\n",
            "Epoch 16/300\n",
            "7020/7020 [==============================] - 10s 1ms/step - loss: 1.1632 - categorical_accuracy: 0.4550 - val_loss: 1.2063 - val_categorical_accuracy: 0.4115\n",
            "Epoch 17/300\n",
            "7020/7020 [==============================] - 10s 1ms/step - loss: 1.1581 - categorical_accuracy: 0.4575 - val_loss: 1.1996 - val_categorical_accuracy: 0.4333\n",
            "Epoch 18/300\n",
            "7020/7020 [==============================] - 10s 1ms/step - loss: 1.1528 - categorical_accuracy: 0.4598 - val_loss: 1.2773 - val_categorical_accuracy: 0.3795\n",
            "Epoch 19/300\n",
            "7020/7020 [==============================] - 10s 1ms/step - loss: 1.1514 - categorical_accuracy: 0.4607 - val_loss: 1.2038 - val_categorical_accuracy: 0.4333\n",
            "Epoch 20/300\n",
            "7020/7020 [==============================] - 10s 1ms/step - loss: 1.1511 - categorical_accuracy: 0.4650 - val_loss: 1.1953 - val_categorical_accuracy: 0.4410\n",
            "Epoch 21/300\n",
            "7020/7020 [==============================] - 10s 1ms/step - loss: 1.1500 - categorical_accuracy: 0.4610 - val_loss: 1.1948 - val_categorical_accuracy: 0.4321\n",
            "Epoch 22/300\n",
            "7020/7020 [==============================] - 10s 1ms/step - loss: 1.1466 - categorical_accuracy: 0.4611 - val_loss: 1.2058 - val_categorical_accuracy: 0.4346\n",
            "Epoch 23/300\n",
            "7020/7020 [==============================] - 10s 1ms/step - loss: 1.1417 - categorical_accuracy: 0.4648 - val_loss: 1.2004 - val_categorical_accuracy: 0.4359\n",
            "Epoch 24/300\n",
            "7020/7020 [==============================] - 10s 1ms/step - loss: 1.1363 - categorical_accuracy: 0.4701 - val_loss: 1.2151 - val_categorical_accuracy: 0.4346\n",
            "Epoch 25/300\n",
            "7020/7020 [==============================] - 10s 1ms/step - loss: 1.1349 - categorical_accuracy: 0.4717 - val_loss: 1.2007 - val_categorical_accuracy: 0.4410\n",
            "Epoch 26/300\n",
            "7020/7020 [==============================] - 10s 1ms/step - loss: 1.1386 - categorical_accuracy: 0.4699 - val_loss: 1.2275 - val_categorical_accuracy: 0.3833\n",
            "Epoch 27/300\n",
            "7020/7020 [==============================] - 10s 1ms/step - loss: 1.1394 - categorical_accuracy: 0.4695 - val_loss: 1.2184 - val_categorical_accuracy: 0.4333\n",
            "Epoch 28/300\n",
            "7020/7020 [==============================] - 10s 1ms/step - loss: 1.1333 - categorical_accuracy: 0.4755 - val_loss: 1.2289 - val_categorical_accuracy: 0.4192\n",
            "Epoch 29/300\n",
            "7020/7020 [==============================] - 10s 1ms/step - loss: 1.1308 - categorical_accuracy: 0.4729 - val_loss: 1.2051 - val_categorical_accuracy: 0.4346\n",
            "Epoch 30/300\n",
            "7020/7020 [==============================] - 10s 1ms/step - loss: 1.1254 - categorical_accuracy: 0.4658 - val_loss: 1.2017 - val_categorical_accuracy: 0.4256\n",
            "Epoch 31/300\n",
            "7020/7020 [==============================] - 10s 1ms/step - loss: 1.1271 - categorical_accuracy: 0.4748 - val_loss: 1.2024 - val_categorical_accuracy: 0.4513\n",
            "Epoch 32/300\n",
            "7020/7020 [==============================] - 10s 1ms/step - loss: 1.1250 - categorical_accuracy: 0.4779 - val_loss: 1.1978 - val_categorical_accuracy: 0.4526\n",
            "Epoch 33/300\n",
            "7020/7020 [==============================] - 10s 1ms/step - loss: 1.1255 - categorical_accuracy: 0.4745 - val_loss: 1.2142 - val_categorical_accuracy: 0.4269\n",
            "Epoch 34/300\n",
            "7020/7020 [==============================] - 10s 1ms/step - loss: 1.1180 - categorical_accuracy: 0.4754 - val_loss: 1.3348 - val_categorical_accuracy: 0.4026\n",
            "Epoch 35/300\n",
            "7020/7020 [==============================] - 10s 1ms/step - loss: 1.1184 - categorical_accuracy: 0.4741 - val_loss: 1.2375 - val_categorical_accuracy: 0.4103\n",
            "Epoch 36/300\n",
            "7020/7020 [==============================] - 10s 1ms/step - loss: 1.1151 - categorical_accuracy: 0.4852 - val_loss: 1.2136 - val_categorical_accuracy: 0.4218\n",
            "Epoch 37/300\n",
            "7020/7020 [==============================] - 10s 1ms/step - loss: 1.1122 - categorical_accuracy: 0.4865 - val_loss: 1.2222 - val_categorical_accuracy: 0.4103\n",
            "Epoch 38/300\n",
            "7020/7020 [==============================] - 10s 1ms/step - loss: 1.1030 - categorical_accuracy: 0.4880 - val_loss: 1.2151 - val_categorical_accuracy: 0.4462\n",
            "Epoch 39/300\n",
            "7020/7020 [==============================] - 10s 1ms/step - loss: 1.1060 - categorical_accuracy: 0.4892 - val_loss: 1.2187 - val_categorical_accuracy: 0.4051\n",
            "Epoch 40/300\n",
            "7020/7020 [==============================] - 10s 1ms/step - loss: 1.1034 - categorical_accuracy: 0.4954 - val_loss: 1.1988 - val_categorical_accuracy: 0.4436\n",
            "Epoch 41/300\n",
            "7020/7020 [==============================] - 10s 1ms/step - loss: 1.1016 - categorical_accuracy: 0.4886 - val_loss: 1.2212 - val_categorical_accuracy: 0.4231\n",
            "Epoch 42/300\n",
            "7020/7020 [==============================] - 10s 1ms/step - loss: 1.1012 - categorical_accuracy: 0.4902 - val_loss: 1.2150 - val_categorical_accuracy: 0.4385\n",
            "Epoch 43/300\n",
            "7020/7020 [==============================] - 10s 1ms/step - loss: 1.1052 - categorical_accuracy: 0.4889 - val_loss: 1.2155 - val_categorical_accuracy: 0.4218\n",
            "Epoch 44/300\n",
            "7020/7020 [==============================] - 10s 1ms/step - loss: 1.0960 - categorical_accuracy: 0.4983 - val_loss: 1.2889 - val_categorical_accuracy: 0.3808\n",
            "Epoch 45/300\n",
            "7020/7020 [==============================] - 10s 1ms/step - loss: 1.0944 - categorical_accuracy: 0.4933 - val_loss: 1.2205 - val_categorical_accuracy: 0.4256\n",
            "Epoch 46/300\n",
            "7020/7020 [==============================] - 10s 1ms/step - loss: 1.0949 - categorical_accuracy: 0.4949 - val_loss: 1.2439 - val_categorical_accuracy: 0.4231\n",
            "Epoch 47/300\n",
            "7020/7020 [==============================] - 10s 1ms/step - loss: 1.0907 - categorical_accuracy: 0.4997 - val_loss: 1.2290 - val_categorical_accuracy: 0.4372\n",
            "Epoch 48/300\n",
            "7020/7020 [==============================] - 10s 1ms/step - loss: 1.0861 - categorical_accuracy: 0.4973 - val_loss: 1.2632 - val_categorical_accuracy: 0.4205\n",
            "Epoch 49/300\n",
            "7020/7020 [==============================] - 10s 1ms/step - loss: 1.0833 - categorical_accuracy: 0.5000 - val_loss: 1.2538 - val_categorical_accuracy: 0.3974\n",
            "Epoch 50/300\n",
            "7020/7020 [==============================] - 10s 1ms/step - loss: 1.0862 - categorical_accuracy: 0.5027 - val_loss: 1.2163 - val_categorical_accuracy: 0.4282\n",
            "Epoch 51/300\n",
            "7020/7020 [==============================] - 10s 1ms/step - loss: 1.0735 - categorical_accuracy: 0.5014 - val_loss: 1.2236 - val_categorical_accuracy: 0.4269\n",
            "Epoch 52/300\n",
            "7020/7020 [==============================] - 10s 1ms/step - loss: 1.0728 - categorical_accuracy: 0.5130 - val_loss: 1.2319 - val_categorical_accuracy: 0.4372\n",
            "Epoch 53/300\n",
            "7020/7020 [==============================] - 10s 1ms/step - loss: 1.0793 - categorical_accuracy: 0.5053 - val_loss: 1.2522 - val_categorical_accuracy: 0.3987\n",
            "Epoch 54/300\n",
            "7020/7020 [==============================] - 10s 1ms/step - loss: 1.0662 - categorical_accuracy: 0.5188 - val_loss: 1.2900 - val_categorical_accuracy: 0.3923\n",
            "Epoch 55/300\n",
            "7020/7020 [==============================] - 10s 1ms/step - loss: 1.0642 - categorical_accuracy: 0.5155 - val_loss: 1.2587 - val_categorical_accuracy: 0.4346\n",
            "Epoch 56/300\n",
            "7020/7020 [==============================] - 10s 1ms/step - loss: 1.0603 - categorical_accuracy: 0.5165 - val_loss: 1.2842 - val_categorical_accuracy: 0.4256\n",
            "Epoch 57/300\n",
            "7020/7020 [==============================] - 10s 1ms/step - loss: 1.0605 - categorical_accuracy: 0.5195 - val_loss: 1.2488 - val_categorical_accuracy: 0.3949\n",
            "Epoch 58/300\n",
            "7020/7020 [==============================] - 10s 1ms/step - loss: 1.0529 - categorical_accuracy: 0.5217 - val_loss: 1.2698 - val_categorical_accuracy: 0.3987\n",
            "Epoch 59/300\n",
            "7020/7020 [==============================] - 10s 1ms/step - loss: 1.0482 - categorical_accuracy: 0.5181 - val_loss: 1.2342 - val_categorical_accuracy: 0.4115\n",
            "Epoch 60/300\n",
            "7020/7020 [==============================] - 10s 1ms/step - loss: 1.0425 - categorical_accuracy: 0.5308 - val_loss: 1.2893 - val_categorical_accuracy: 0.3859\n",
            "Epoch 61/300\n",
            "7020/7020 [==============================] - 10s 1ms/step - loss: 1.0499 - categorical_accuracy: 0.5308 - val_loss: 1.3067 - val_categorical_accuracy: 0.4256\n",
            "Epoch 62/300\n",
            "7020/7020 [==============================] - 10s 1ms/step - loss: 1.0436 - categorical_accuracy: 0.5222 - val_loss: 1.2572 - val_categorical_accuracy: 0.4192\n",
            "Epoch 63/300\n",
            "7020/7020 [==============================] - 10s 1ms/step - loss: 1.0375 - categorical_accuracy: 0.5342 - val_loss: 1.3347 - val_categorical_accuracy: 0.4128\n",
            "Epoch 64/300\n",
            "7020/7020 [==============================] - 10s 1ms/step - loss: 1.0448 - categorical_accuracy: 0.5242 - val_loss: 1.2618 - val_categorical_accuracy: 0.4013\n",
            "Epoch 65/300\n",
            "7020/7020 [==============================] - 10s 1ms/step - loss: 1.0351 - categorical_accuracy: 0.5407 - val_loss: 1.2721 - val_categorical_accuracy: 0.4410\n",
            "Epoch 66/300\n",
            "7020/7020 [==============================] - 10s 1ms/step - loss: 1.0434 - categorical_accuracy: 0.5293 - val_loss: 1.2595 - val_categorical_accuracy: 0.4205\n",
            "Epoch 67/300\n",
            "7020/7020 [==============================] - 10s 1ms/step - loss: 1.0266 - categorical_accuracy: 0.5459 - val_loss: 1.2828 - val_categorical_accuracy: 0.4295\n",
            "Epoch 68/300\n",
            "7020/7020 [==============================] - 10s 1ms/step - loss: 1.0262 - categorical_accuracy: 0.5494 - val_loss: 1.2855 - val_categorical_accuracy: 0.3744\n",
            "Epoch 69/300\n",
            "7020/7020 [==============================] - 10s 1ms/step - loss: 1.0312 - categorical_accuracy: 0.5362 - val_loss: 1.2511 - val_categorical_accuracy: 0.4385\n",
            "Epoch 70/300\n",
            "7020/7020 [==============================] - 10s 1ms/step - loss: 1.0304 - categorical_accuracy: 0.5400 - val_loss: 1.2331 - val_categorical_accuracy: 0.4487\n",
            "Epoch 71/300\n",
            "7020/7020 [==============================] - 10s 1ms/step - loss: 1.0188 - categorical_accuracy: 0.5427 - val_loss: 1.2629 - val_categorical_accuracy: 0.4513\n",
            "Epoch 72/300\n",
            "7020/7020 [==============================] - 10s 1ms/step - loss: 1.0248 - categorical_accuracy: 0.5480 - val_loss: 1.3500 - val_categorical_accuracy: 0.3974\n",
            "Epoch 73/300\n",
            "7020/7020 [==============================] - 10s 1ms/step - loss: 1.0274 - categorical_accuracy: 0.5402 - val_loss: 1.3094 - val_categorical_accuracy: 0.3808\n",
            "Epoch 74/300\n",
            "7020/7020 [==============================] - 10s 1ms/step - loss: 1.0255 - categorical_accuracy: 0.5456 - val_loss: 1.2530 - val_categorical_accuracy: 0.4295\n",
            "Epoch 75/300\n",
            "7020/7020 [==============================] - 10s 1ms/step - loss: 1.0075 - categorical_accuracy: 0.5553 - val_loss: 1.3236 - val_categorical_accuracy: 0.3641\n",
            "Epoch 76/300\n",
            "7020/7020 [==============================] - 10s 1ms/step - loss: 1.0108 - categorical_accuracy: 0.5510 - val_loss: 1.3117 - val_categorical_accuracy: 0.4013\n",
            "Epoch 77/300\n",
            "7020/7020 [==============================] - 10s 1ms/step - loss: 1.0145 - categorical_accuracy: 0.5454 - val_loss: 1.2774 - val_categorical_accuracy: 0.4231\n",
            "Epoch 78/300\n",
            "7020/7020 [==============================] - 10s 1ms/step - loss: 1.0028 - categorical_accuracy: 0.5573 - val_loss: 1.3254 - val_categorical_accuracy: 0.3897\n",
            "Epoch 79/300\n",
            "7020/7020 [==============================] - 10s 1ms/step - loss: 1.0038 - categorical_accuracy: 0.5593 - val_loss: 1.2789 - val_categorical_accuracy: 0.4077\n",
            "Epoch 80/300\n",
            "7020/7020 [==============================] - 10s 1ms/step - loss: 0.9945 - categorical_accuracy: 0.5654 - val_loss: 1.2546 - val_categorical_accuracy: 0.4167\n",
            "Epoch 81/300\n",
            "7020/7020 [==============================] - 10s 1ms/step - loss: 1.0021 - categorical_accuracy: 0.5574 - val_loss: 1.3892 - val_categorical_accuracy: 0.3936\n",
            "Epoch 82/300\n",
            "7020/7020 [==============================] - 10s 1ms/step - loss: 1.0002 - categorical_accuracy: 0.5561 - val_loss: 1.2574 - val_categorical_accuracy: 0.4179\n",
            "Epoch 83/300\n",
            "7020/7020 [==============================] - 10s 1ms/step - loss: 0.9896 - categorical_accuracy: 0.5642 - val_loss: 1.2501 - val_categorical_accuracy: 0.4410\n",
            "Epoch 84/300\n",
            "7020/7020 [==============================] - 10s 1ms/step - loss: 0.9964 - categorical_accuracy: 0.5590 - val_loss: 1.2747 - val_categorical_accuracy: 0.4192\n",
            "Epoch 85/300\n",
            "7020/7020 [==============================] - 10s 1ms/step - loss: 0.9777 - categorical_accuracy: 0.5744 - val_loss: 1.2544 - val_categorical_accuracy: 0.4295\n",
            "Epoch 86/300\n",
            "7020/7020 [==============================] - 10s 1ms/step - loss: 0.9903 - categorical_accuracy: 0.5600 - val_loss: 1.4260 - val_categorical_accuracy: 0.3962\n",
            "Epoch 87/300\n",
            "7020/7020 [==============================] - 10s 1ms/step - loss: 0.9801 - categorical_accuracy: 0.5729 - val_loss: 1.3188 - val_categorical_accuracy: 0.4372\n",
            "Epoch 88/300\n",
            "7020/7020 [==============================] - 10s 1ms/step - loss: 0.9866 - categorical_accuracy: 0.5642 - val_loss: 1.3708 - val_categorical_accuracy: 0.3718\n",
            "Epoch 89/300\n",
            "7020/7020 [==============================] - 10s 1ms/step - loss: 0.9882 - categorical_accuracy: 0.5611 - val_loss: 1.3383 - val_categorical_accuracy: 0.3910\n",
            "Epoch 90/300\n",
            "7020/7020 [==============================] - 10s 1ms/step - loss: 0.9754 - categorical_accuracy: 0.5734 - val_loss: 1.3951 - val_categorical_accuracy: 0.3628\n",
            "Epoch 91/300\n",
            "7020/7020 [==============================] - 10s 1ms/step - loss: 0.9881 - categorical_accuracy: 0.5688 - val_loss: 1.4658 - val_categorical_accuracy: 0.3987\n",
            "Epoch 92/300\n",
            "7020/7020 [==============================] - 10s 1ms/step - loss: 0.9773 - categorical_accuracy: 0.5722 - val_loss: 1.3230 - val_categorical_accuracy: 0.3808\n",
            "Epoch 93/300\n",
            "7020/7020 [==============================] - 10s 1ms/step - loss: 0.9834 - categorical_accuracy: 0.5668 - val_loss: 1.3512 - val_categorical_accuracy: 0.3962\n",
            "Epoch 94/300\n",
            "7020/7020 [==============================] - 10s 1ms/step - loss: 0.9744 - categorical_accuracy: 0.5785 - val_loss: 1.3552 - val_categorical_accuracy: 0.3731\n",
            "Epoch 95/300\n",
            "7020/7020 [==============================] - 10s 1ms/step - loss: 0.9781 - categorical_accuracy: 0.5708 - val_loss: 1.2698 - val_categorical_accuracy: 0.3897\n",
            "Epoch 96/300\n",
            "7020/7020 [==============================] - 10s 1ms/step - loss: 0.9772 - categorical_accuracy: 0.5744 - val_loss: 1.3623 - val_categorical_accuracy: 0.3808\n",
            "Epoch 97/300\n",
            "7020/7020 [==============================] - 10s 1ms/step - loss: 0.9639 - categorical_accuracy: 0.5811 - val_loss: 1.3275 - val_categorical_accuracy: 0.3923\n",
            "Epoch 98/300\n",
            "7020/7020 [==============================] - 10s 1ms/step - loss: 0.9636 - categorical_accuracy: 0.5793 - val_loss: 1.3450 - val_categorical_accuracy: 0.3897\n",
            "Epoch 99/300\n",
            "7020/7020 [==============================] - 10s 1ms/step - loss: 0.9709 - categorical_accuracy: 0.5776 - val_loss: 1.3283 - val_categorical_accuracy: 0.4064\n",
            "Epoch 100/300\n",
            "7020/7020 [==============================] - 10s 1ms/step - loss: 0.9650 - categorical_accuracy: 0.5801 - val_loss: 1.5141 - val_categorical_accuracy: 0.4026\n",
            "Epoch 101/300\n",
            "7020/7020 [==============================] - 10s 1ms/step - loss: 0.9658 - categorical_accuracy: 0.5801 - val_loss: 1.3097 - val_categorical_accuracy: 0.3795\n",
            "Epoch 102/300\n",
            "7020/7020 [==============================] - 10s 1ms/step - loss: 0.9484 - categorical_accuracy: 0.5870 - val_loss: 1.3903 - val_categorical_accuracy: 0.3423\n",
            "Epoch 103/300\n",
            "7020/7020 [==============================] - 10s 1ms/step - loss: 0.9617 - categorical_accuracy: 0.5776 - val_loss: 1.4999 - val_categorical_accuracy: 0.4013\n",
            "Epoch 104/300\n",
            "7020/7020 [==============================] - 9s 1ms/step - loss: 0.9391 - categorical_accuracy: 0.5977 - val_loss: 1.2861 - val_categorical_accuracy: 0.3744\n",
            "Epoch 105/300\n",
            "7020/7020 [==============================] - 10s 1ms/step - loss: 0.9360 - categorical_accuracy: 0.5973 - val_loss: 1.3275 - val_categorical_accuracy: 0.4064\n",
            "Epoch 106/300\n",
            "7020/7020 [==============================] - 10s 1ms/step - loss: 0.9315 - categorical_accuracy: 0.5974 - val_loss: 1.4074 - val_categorical_accuracy: 0.3923\n",
            "Epoch 107/300\n",
            "7020/7020 [==============================] - 10s 1ms/step - loss: 0.9391 - categorical_accuracy: 0.5976 - val_loss: 1.3658 - val_categorical_accuracy: 0.3782\n",
            "Epoch 108/300\n",
            "7020/7020 [==============================] - 10s 1ms/step - loss: 0.9429 - categorical_accuracy: 0.5940 - val_loss: 1.3650 - val_categorical_accuracy: 0.3936\n",
            "Epoch 109/300\n",
            "7020/7020 [==============================] - 10s 1ms/step - loss: 0.9350 - categorical_accuracy: 0.5984 - val_loss: 1.4198 - val_categorical_accuracy: 0.3987\n",
            "Epoch 110/300\n",
            "7020/7020 [==============================] - 10s 1ms/step - loss: 0.9516 - categorical_accuracy: 0.5835 - val_loss: 1.3258 - val_categorical_accuracy: 0.3923\n",
            "Epoch 111/300\n",
            "7020/7020 [==============================] - 10s 1ms/step - loss: 0.9520 - categorical_accuracy: 0.5845 - val_loss: 1.4166 - val_categorical_accuracy: 0.3731\n",
            "Epoch 112/300\n",
            "7020/7020 [==============================] - 10s 1ms/step - loss: 0.9377 - categorical_accuracy: 0.5873 - val_loss: 1.3411 - val_categorical_accuracy: 0.4038\n",
            "Epoch 113/300\n",
            "7020/7020 [==============================] - 10s 1ms/step - loss: 0.9344 - categorical_accuracy: 0.5899 - val_loss: 1.3696 - val_categorical_accuracy: 0.4038\n",
            "Epoch 114/300\n",
            "7020/7020 [==============================] - 10s 1ms/step - loss: 0.9310 - categorical_accuracy: 0.5974 - val_loss: 1.3670 - val_categorical_accuracy: 0.4141\n",
            "Epoch 115/300\n",
            "7020/7020 [==============================] - 10s 1ms/step - loss: 0.9315 - categorical_accuracy: 0.5954 - val_loss: 1.4161 - val_categorical_accuracy: 0.4115\n",
            "Epoch 116/300\n",
            "7020/7020 [==============================] - 10s 1ms/step - loss: 0.9324 - categorical_accuracy: 0.5972 - val_loss: 1.3714 - val_categorical_accuracy: 0.4141\n",
            "Epoch 117/300\n",
            "7020/7020 [==============================] - 10s 1ms/step - loss: 0.9200 - categorical_accuracy: 0.5997 - val_loss: 1.3278 - val_categorical_accuracy: 0.3885\n",
            "Epoch 118/300\n",
            "7020/7020 [==============================] - 10s 1ms/step - loss: 0.9314 - categorical_accuracy: 0.5994 - val_loss: 1.3627 - val_categorical_accuracy: 0.3577\n",
            "Epoch 119/300\n",
            "7020/7020 [==============================] - 10s 1ms/step - loss: 0.9072 - categorical_accuracy: 0.6121 - val_loss: 1.3842 - val_categorical_accuracy: 0.3974\n",
            "Epoch 120/300\n",
            "7020/7020 [==============================] - 10s 1ms/step - loss: 0.9261 - categorical_accuracy: 0.6028 - val_loss: 1.3787 - val_categorical_accuracy: 0.3654\n",
            "Epoch 121/300\n",
            "7020/7020 [==============================] - 10s 1ms/step - loss: 0.9142 - categorical_accuracy: 0.6050 - val_loss: 1.4348 - val_categorical_accuracy: 0.4000\n",
            "Epoch 122/300\n",
            "7020/7020 [==============================] - 10s 1ms/step - loss: 0.9112 - categorical_accuracy: 0.6063 - val_loss: 1.3203 - val_categorical_accuracy: 0.4064\n",
            "Epoch 123/300\n",
            "7020/7020 [==============================] - 10s 1ms/step - loss: 0.9017 - categorical_accuracy: 0.6145 - val_loss: 1.3208 - val_categorical_accuracy: 0.3808\n",
            "Epoch 124/300\n",
            "7020/7020 [==============================] - 10s 1ms/step - loss: 0.9216 - categorical_accuracy: 0.6063 - val_loss: 1.3487 - val_categorical_accuracy: 0.3962\n",
            "Epoch 125/300\n",
            "7020/7020 [==============================] - 10s 1ms/step - loss: 0.9151 - categorical_accuracy: 0.6107 - val_loss: 1.3885 - val_categorical_accuracy: 0.3962\n",
            "Epoch 126/300\n",
            "7020/7020 [==============================] - 10s 1ms/step - loss: 0.9011 - categorical_accuracy: 0.6165 - val_loss: 1.4669 - val_categorical_accuracy: 0.3718\n",
            "Epoch 127/300\n",
            "7020/7020 [==============================] - 10s 1ms/step - loss: 0.8943 - categorical_accuracy: 0.6219 - val_loss: 1.4120 - val_categorical_accuracy: 0.3859\n",
            "Epoch 128/300\n",
            "7020/7020 [==============================] - 10s 1ms/step - loss: 0.8806 - categorical_accuracy: 0.6269 - val_loss: 1.3789 - val_categorical_accuracy: 0.3885\n",
            "Epoch 129/300\n",
            "7020/7020 [==============================] - 10s 1ms/step - loss: 0.8785 - categorical_accuracy: 0.6236 - val_loss: 1.4272 - val_categorical_accuracy: 0.4397\n",
            "Epoch 130/300\n",
            "7020/7020 [==============================] - 10s 1ms/step - loss: 0.8616 - categorical_accuracy: 0.6316 - val_loss: 1.4671 - val_categorical_accuracy: 0.4269\n",
            "Epoch 131/300\n",
            "7020/7020 [==============================] - 10s 1ms/step - loss: 0.8905 - categorical_accuracy: 0.6185 - val_loss: 1.3785 - val_categorical_accuracy: 0.3910\n",
            "Epoch 132/300\n",
            "7020/7020 [==============================] - 10s 1ms/step - loss: 0.8650 - categorical_accuracy: 0.6333 - val_loss: 1.3564 - val_categorical_accuracy: 0.4013\n",
            "Epoch 133/300\n",
            "7020/7020 [==============================] - 10s 1ms/step - loss: 0.8721 - categorical_accuracy: 0.6281 - val_loss: 1.3739 - val_categorical_accuracy: 0.4077\n",
            "Epoch 134/300\n",
            "7020/7020 [==============================] - 10s 1ms/step - loss: 0.8544 - categorical_accuracy: 0.6377 - val_loss: 1.5059 - val_categorical_accuracy: 0.3654\n",
            "Epoch 135/300\n",
            "7020/7020 [==============================] - 10s 1ms/step - loss: 0.8668 - categorical_accuracy: 0.6326 - val_loss: 1.3673 - val_categorical_accuracy: 0.3885\n",
            "Epoch 136/300\n",
            "7020/7020 [==============================] - 10s 1ms/step - loss: 0.8538 - categorical_accuracy: 0.6377 - val_loss: 1.4253 - val_categorical_accuracy: 0.3923\n",
            "Epoch 137/300\n",
            "7020/7020 [==============================] - 10s 1ms/step - loss: 0.8427 - categorical_accuracy: 0.6500 - val_loss: 1.4084 - val_categorical_accuracy: 0.4128\n",
            "Epoch 138/300\n",
            "7020/7020 [==============================] - 10s 1ms/step - loss: 0.8443 - categorical_accuracy: 0.6460 - val_loss: 1.5170 - val_categorical_accuracy: 0.3526\n",
            "Epoch 139/300\n",
            "7020/7020 [==============================] - 10s 1ms/step - loss: 0.8344 - categorical_accuracy: 0.6501 - val_loss: 1.4198 - val_categorical_accuracy: 0.3795\n",
            "Epoch 140/300\n",
            "7020/7020 [==============================] - 10s 1ms/step - loss: 0.8271 - categorical_accuracy: 0.6474 - val_loss: 1.3714 - val_categorical_accuracy: 0.4115\n",
            "Epoch 141/300\n",
            "7020/7020 [==============================] - 10s 1ms/step - loss: 0.8184 - categorical_accuracy: 0.6591 - val_loss: 1.4148 - val_categorical_accuracy: 0.4167\n",
            "Epoch 142/300\n",
            "7020/7020 [==============================] - 10s 1ms/step - loss: 0.8570 - categorical_accuracy: 0.6427 - val_loss: 1.5494 - val_categorical_accuracy: 0.4218\n",
            "Epoch 143/300\n",
            "7020/7020 [==============================] - 10s 1ms/step - loss: 0.8193 - categorical_accuracy: 0.6560 - val_loss: 1.6117 - val_categorical_accuracy: 0.4038\n",
            "Epoch 144/300\n",
            "7020/7020 [==============================] - 10s 1ms/step - loss: 0.8304 - categorical_accuracy: 0.6493 - val_loss: 1.3744 - val_categorical_accuracy: 0.4141\n",
            "Epoch 145/300\n",
            "7020/7020 [==============================] - 10s 1ms/step - loss: 0.8308 - categorical_accuracy: 0.6454 - val_loss: 1.4492 - val_categorical_accuracy: 0.3936\n",
            "Epoch 146/300\n",
            "7020/7020 [==============================] - 10s 1ms/step - loss: 0.8330 - categorical_accuracy: 0.6523 - val_loss: 1.4129 - val_categorical_accuracy: 0.4064\n",
            "Epoch 147/300\n",
            "7020/7020 [==============================] - 10s 1ms/step - loss: 0.8153 - categorical_accuracy: 0.6615 - val_loss: 1.4235 - val_categorical_accuracy: 0.4397\n",
            "Epoch 148/300\n",
            "7020/7020 [==============================] - 10s 1ms/step - loss: 0.8091 - categorical_accuracy: 0.6651 - val_loss: 1.5238 - val_categorical_accuracy: 0.4256\n",
            "Epoch 149/300\n",
            "7020/7020 [==============================] - 10s 1ms/step - loss: 0.7832 - categorical_accuracy: 0.6764 - val_loss: 1.5218 - val_categorical_accuracy: 0.3692\n",
            "Epoch 150/300\n",
            "7020/7020 [==============================] - 10s 1ms/step - loss: 0.8287 - categorical_accuracy: 0.6574 - val_loss: 1.4312 - val_categorical_accuracy: 0.3859\n",
            "Epoch 151/300\n",
            "7020/7020 [==============================] - 10s 1ms/step - loss: 0.7983 - categorical_accuracy: 0.6601 - val_loss: 1.4801 - val_categorical_accuracy: 0.3987\n",
            "Epoch 152/300\n",
            "7020/7020 [==============================] - 10s 1ms/step - loss: 0.8123 - categorical_accuracy: 0.6624 - val_loss: 1.5515 - val_categorical_accuracy: 0.4013\n",
            "Epoch 153/300\n",
            "7020/7020 [==============================] - 10s 1ms/step - loss: 0.7769 - categorical_accuracy: 0.6873 - val_loss: 1.5561 - val_categorical_accuracy: 0.4000\n",
            "Epoch 154/300\n",
            "7020/7020 [==============================] - 10s 1ms/step - loss: 0.7893 - categorical_accuracy: 0.6755 - val_loss: 1.4687 - val_categorical_accuracy: 0.3821\n",
            "Epoch 155/300\n",
            "7020/7020 [==============================] - 10s 1ms/step - loss: 0.7923 - categorical_accuracy: 0.6681 - val_loss: 1.4957 - val_categorical_accuracy: 0.3821\n",
            "Epoch 156/300\n",
            "7020/7020 [==============================] - 10s 1ms/step - loss: 0.7760 - categorical_accuracy: 0.6795 - val_loss: 1.4525 - val_categorical_accuracy: 0.4244\n",
            "Epoch 157/300\n",
            "7020/7020 [==============================] - 10s 1ms/step - loss: 0.7760 - categorical_accuracy: 0.6774 - val_loss: 1.5285 - val_categorical_accuracy: 0.3987\n",
            "Epoch 158/300\n",
            "7020/7020 [==============================] - 10s 1ms/step - loss: 0.7756 - categorical_accuracy: 0.6742 - val_loss: 1.4686 - val_categorical_accuracy: 0.4103\n",
            "Epoch 159/300\n",
            "7020/7020 [==============================] - 10s 1ms/step - loss: 0.7525 - categorical_accuracy: 0.6950 - val_loss: 1.5039 - val_categorical_accuracy: 0.4179\n",
            "Epoch 160/300\n",
            "7020/7020 [==============================] - 10s 1ms/step - loss: 0.7692 - categorical_accuracy: 0.6846 - val_loss: 1.4666 - val_categorical_accuracy: 0.3885\n",
            "Epoch 161/300\n",
            "7020/7020 [==============================] - 10s 1ms/step - loss: 0.7381 - categorical_accuracy: 0.6954 - val_loss: 1.5349 - val_categorical_accuracy: 0.4000\n",
            "Epoch 162/300\n",
            "7020/7020 [==============================] - 10s 1ms/step - loss: 0.7294 - categorical_accuracy: 0.6996 - val_loss: 1.5024 - val_categorical_accuracy: 0.4179\n",
            "Epoch 163/300\n",
            "7020/7020 [==============================] - 10s 1ms/step - loss: 0.7499 - categorical_accuracy: 0.6927 - val_loss: 1.5338 - val_categorical_accuracy: 0.3910\n",
            "Epoch 164/300\n",
            "7020/7020 [==============================] - 10s 1ms/step - loss: 0.7380 - categorical_accuracy: 0.7000 - val_loss: 1.5597 - val_categorical_accuracy: 0.3974\n",
            "Epoch 165/300\n",
            "7020/7020 [==============================] - 10s 1ms/step - loss: 0.7488 - categorical_accuracy: 0.6915 - val_loss: 1.6847 - val_categorical_accuracy: 0.4128\n",
            "Epoch 166/300\n",
            "7020/7020 [==============================] - 10s 1ms/step - loss: 0.7309 - categorical_accuracy: 0.7095 - val_loss: 1.5229 - val_categorical_accuracy: 0.4115\n",
            "Epoch 167/300\n",
            "7020/7020 [==============================] - 10s 1ms/step - loss: 0.7405 - categorical_accuracy: 0.6954 - val_loss: 1.6438 - val_categorical_accuracy: 0.3910\n",
            "Epoch 168/300\n",
            "7020/7020 [==============================] - 10s 1ms/step - loss: 0.7131 - categorical_accuracy: 0.7064 - val_loss: 1.6181 - val_categorical_accuracy: 0.3577\n",
            "Epoch 169/300\n",
            "7020/7020 [==============================] - 10s 1ms/step - loss: 0.7360 - categorical_accuracy: 0.6963 - val_loss: 1.4773 - val_categorical_accuracy: 0.4103\n",
            "Epoch 170/300\n",
            "7020/7020 [==============================] - 10s 1ms/step - loss: 0.7187 - categorical_accuracy: 0.7061 - val_loss: 1.6210 - val_categorical_accuracy: 0.4205\n",
            "Epoch 171/300\n",
            "7020/7020 [==============================] - 10s 1ms/step - loss: 0.7113 - categorical_accuracy: 0.7134 - val_loss: 1.5076 - val_categorical_accuracy: 0.3795\n",
            "Epoch 172/300\n",
            "7020/7020 [==============================] - 10s 1ms/step - loss: 0.6975 - categorical_accuracy: 0.7140 - val_loss: 1.6421 - val_categorical_accuracy: 0.3795\n",
            "Epoch 173/300\n",
            "7020/7020 [==============================] - 10s 1ms/step - loss: 0.7052 - categorical_accuracy: 0.7144 - val_loss: 1.5844 - val_categorical_accuracy: 0.4064\n",
            "Epoch 174/300\n",
            "7020/7020 [==============================] - 10s 1ms/step - loss: 0.6956 - categorical_accuracy: 0.7118 - val_loss: 1.5604 - val_categorical_accuracy: 0.4090\n",
            "Epoch 175/300\n",
            "7020/7020 [==============================] - 10s 1ms/step - loss: 0.6723 - categorical_accuracy: 0.7276 - val_loss: 1.7470 - val_categorical_accuracy: 0.3769\n",
            "Epoch 176/300\n",
            "7020/7020 [==============================] - 10s 1ms/step - loss: 0.6699 - categorical_accuracy: 0.7308 - val_loss: 1.5184 - val_categorical_accuracy: 0.4038\n",
            "Epoch 177/300\n",
            "7020/7020 [==============================] - 10s 1ms/step - loss: 0.6816 - categorical_accuracy: 0.7154 - val_loss: 1.6838 - val_categorical_accuracy: 0.4115\n",
            "Epoch 178/300\n",
            "7020/7020 [==============================] - 10s 1ms/step - loss: 0.6695 - categorical_accuracy: 0.7274 - val_loss: 1.8408 - val_categorical_accuracy: 0.4167\n",
            "Epoch 179/300\n",
            "7020/7020 [==============================] - 10s 1ms/step - loss: 0.6799 - categorical_accuracy: 0.7249 - val_loss: 1.6314 - val_categorical_accuracy: 0.4128\n",
            "Epoch 180/300\n",
            "7020/7020 [==============================] - 10s 1ms/step - loss: 0.6647 - categorical_accuracy: 0.7325 - val_loss: 1.5567 - val_categorical_accuracy: 0.4179\n",
            "Epoch 181/300\n",
            "7020/7020 [==============================] - 10s 1ms/step - loss: 0.6469 - categorical_accuracy: 0.7395 - val_loss: 1.6683 - val_categorical_accuracy: 0.4256\n",
            "Epoch 182/300\n",
            "7020/7020 [==============================] - 10s 1ms/step - loss: 0.6723 - categorical_accuracy: 0.7231 - val_loss: 1.6395 - val_categorical_accuracy: 0.4051\n",
            "Epoch 183/300\n",
            "7020/7020 [==============================] - 10s 1ms/step - loss: 0.6614 - categorical_accuracy: 0.7302 - val_loss: 1.5904 - val_categorical_accuracy: 0.3769\n",
            "Epoch 184/300\n",
            "7020/7020 [==============================] - 10s 1ms/step - loss: 0.6556 - categorical_accuracy: 0.7340 - val_loss: 1.8653 - val_categorical_accuracy: 0.4115\n",
            "Epoch 185/300\n",
            "7020/7020 [==============================] - 10s 1ms/step - loss: 0.6377 - categorical_accuracy: 0.7476 - val_loss: 1.5973 - val_categorical_accuracy: 0.4141\n",
            "Epoch 186/300\n",
            "7020/7020 [==============================] - 10s 1ms/step - loss: 0.6289 - categorical_accuracy: 0.7473 - val_loss: 1.8026 - val_categorical_accuracy: 0.4064\n",
            "Epoch 187/300\n",
            "7020/7020 [==============================] - 10s 1ms/step - loss: 0.6230 - categorical_accuracy: 0.7499 - val_loss: 1.8243 - val_categorical_accuracy: 0.3833\n",
            "Epoch 188/300\n",
            "7020/7020 [==============================] - 10s 1ms/step - loss: 0.6468 - categorical_accuracy: 0.7372 - val_loss: 1.6337 - val_categorical_accuracy: 0.3910\n",
            "Epoch 189/300\n",
            "7020/7020 [==============================] - 10s 1ms/step - loss: 0.6471 - categorical_accuracy: 0.7423 - val_loss: 1.7343 - val_categorical_accuracy: 0.3872\n",
            "Epoch 190/300\n",
            "7020/7020 [==============================] - 10s 1ms/step - loss: 0.6006 - categorical_accuracy: 0.7621 - val_loss: 1.8879 - val_categorical_accuracy: 0.3551\n",
            "Epoch 191/300\n",
            "7020/7020 [==============================] - 10s 1ms/step - loss: 0.6064 - categorical_accuracy: 0.7590 - val_loss: 1.6902 - val_categorical_accuracy: 0.3641\n",
            "Epoch 192/300\n",
            "7020/7020 [==============================] - 10s 1ms/step - loss: 0.6064 - categorical_accuracy: 0.7647 - val_loss: 1.5642 - val_categorical_accuracy: 0.4115\n",
            "Epoch 193/300\n",
            "7020/7020 [==============================] - 10s 1ms/step - loss: 0.5834 - categorical_accuracy: 0.7642 - val_loss: 1.9018 - val_categorical_accuracy: 0.3910\n",
            "Epoch 194/300\n",
            "7020/7020 [==============================] - 10s 1ms/step - loss: 0.6086 - categorical_accuracy: 0.7567 - val_loss: 1.7436 - val_categorical_accuracy: 0.4077\n",
            "Epoch 195/300\n",
            "7020/7020 [==============================] - 10s 1ms/step - loss: 0.6117 - categorical_accuracy: 0.7583 - val_loss: 1.6684 - val_categorical_accuracy: 0.4051\n",
            "Epoch 196/300\n",
            "7020/7020 [==============================] - 10s 1ms/step - loss: 0.5866 - categorical_accuracy: 0.7715 - val_loss: 1.6805 - val_categorical_accuracy: 0.3974\n",
            "Epoch 197/300\n",
            "7020/7020 [==============================] - 10s 1ms/step - loss: 0.5855 - categorical_accuracy: 0.7721 - val_loss: 1.6535 - val_categorical_accuracy: 0.4051\n",
            "Epoch 198/300\n",
            "7020/7020 [==============================] - 10s 1ms/step - loss: 0.6042 - categorical_accuracy: 0.7581 - val_loss: 1.7728 - val_categorical_accuracy: 0.4269\n",
            "Epoch 199/300\n",
            "7020/7020 [==============================] - 10s 1ms/step - loss: 0.5794 - categorical_accuracy: 0.7734 - val_loss: 1.6514 - val_categorical_accuracy: 0.4192\n",
            "Epoch 200/300\n",
            "7020/7020 [==============================] - 10s 1ms/step - loss: 0.5694 - categorical_accuracy: 0.7748 - val_loss: 2.1699 - val_categorical_accuracy: 0.3949\n",
            "Epoch 201/300\n",
            "7020/7020 [==============================] - 10s 1ms/step - loss: 0.5524 - categorical_accuracy: 0.7826 - val_loss: 1.7781 - val_categorical_accuracy: 0.3885\n",
            "Epoch 202/300\n",
            "7020/7020 [==============================] - 10s 1ms/step - loss: 0.5532 - categorical_accuracy: 0.7833 - val_loss: 1.7290 - val_categorical_accuracy: 0.4090\n",
            "Epoch 203/300\n",
            "7020/7020 [==============================] - 10s 1ms/step - loss: 0.5516 - categorical_accuracy: 0.7875 - val_loss: 1.8320 - val_categorical_accuracy: 0.4000\n",
            "Epoch 204/300\n",
            "7020/7020 [==============================] - 10s 1ms/step - loss: 0.5705 - categorical_accuracy: 0.7736 - val_loss: 1.8310 - val_categorical_accuracy: 0.4141\n",
            "Epoch 205/300\n",
            "7020/7020 [==============================] - 10s 1ms/step - loss: 0.5900 - categorical_accuracy: 0.7671 - val_loss: 1.8840 - val_categorical_accuracy: 0.3949\n",
            "Epoch 206/300\n",
            "7020/7020 [==============================] - 10s 1ms/step - loss: 0.5619 - categorical_accuracy: 0.7801 - val_loss: 1.7333 - val_categorical_accuracy: 0.4372\n",
            "Epoch 207/300\n",
            "7020/7020 [==============================] - 10s 1ms/step - loss: 0.5695 - categorical_accuracy: 0.7728 - val_loss: 1.8508 - val_categorical_accuracy: 0.4038\n",
            "Epoch 208/300\n",
            "7020/7020 [==============================] - 10s 1ms/step - loss: 0.5608 - categorical_accuracy: 0.7789 - val_loss: 1.6996 - val_categorical_accuracy: 0.4179\n",
            "Epoch 209/300\n",
            "7020/7020 [==============================] - 10s 1ms/step - loss: 0.5513 - categorical_accuracy: 0.7843 - val_loss: 1.8205 - val_categorical_accuracy: 0.4000\n",
            "Epoch 210/300\n",
            "7020/7020 [==============================] - 10s 1ms/step - loss: 0.5643 - categorical_accuracy: 0.7739 - val_loss: 1.7836 - val_categorical_accuracy: 0.3949\n",
            "Epoch 211/300\n",
            "7020/7020 [==============================] - 10s 1ms/step - loss: 0.5471 - categorical_accuracy: 0.7839 - val_loss: 1.8394 - val_categorical_accuracy: 0.3872\n",
            "Epoch 212/300\n",
            "7020/7020 [==============================] - 10s 1ms/step - loss: 0.5266 - categorical_accuracy: 0.7927 - val_loss: 1.8090 - val_categorical_accuracy: 0.4013\n",
            "Epoch 213/300\n",
            "7020/7020 [==============================] - 10s 1ms/step - loss: 0.5479 - categorical_accuracy: 0.7873 - val_loss: 1.9888 - val_categorical_accuracy: 0.4103\n",
            "Epoch 214/300\n",
            "7020/7020 [==============================] - 10s 1ms/step - loss: 0.5220 - categorical_accuracy: 0.7996 - val_loss: 1.7530 - val_categorical_accuracy: 0.3872\n",
            "Epoch 215/300\n",
            "7020/7020 [==============================] - 10s 1ms/step - loss: 0.5179 - categorical_accuracy: 0.8006 - val_loss: 1.7457 - val_categorical_accuracy: 0.4295\n",
            "Epoch 216/300\n",
            "7020/7020 [==============================] - 10s 1ms/step - loss: 0.5286 - categorical_accuracy: 0.7949 - val_loss: 1.8937 - val_categorical_accuracy: 0.4103\n",
            "Epoch 217/300\n",
            "7020/7020 [==============================] - 10s 1ms/step - loss: 0.5280 - categorical_accuracy: 0.7909 - val_loss: 2.0194 - val_categorical_accuracy: 0.4218\n",
            "Epoch 218/300\n",
            "7020/7020 [==============================] - 10s 1ms/step - loss: 0.4942 - categorical_accuracy: 0.8038 - val_loss: 1.9071 - val_categorical_accuracy: 0.3859\n",
            "Epoch 219/300\n",
            "7020/7020 [==============================] - 10s 1ms/step - loss: 0.5192 - categorical_accuracy: 0.7993 - val_loss: 1.8980 - val_categorical_accuracy: 0.4141\n",
            "Epoch 220/300\n",
            "7020/7020 [==============================] - 10s 1ms/step - loss: 0.4932 - categorical_accuracy: 0.8108 - val_loss: 1.9371 - val_categorical_accuracy: 0.3897\n",
            "Epoch 221/300\n",
            "7020/7020 [==============================] - 10s 1ms/step - loss: 0.5081 - categorical_accuracy: 0.8001 - val_loss: 1.9226 - val_categorical_accuracy: 0.4231\n",
            "Epoch 222/300\n",
            "7020/7020 [==============================] - 10s 1ms/step - loss: 0.5109 - categorical_accuracy: 0.8000 - val_loss: 2.0277 - val_categorical_accuracy: 0.4103\n",
            "Epoch 223/300\n",
            "7020/7020 [==============================] - 10s 1ms/step - loss: 0.5069 - categorical_accuracy: 0.8026 - val_loss: 1.9810 - val_categorical_accuracy: 0.4154\n",
            "Epoch 224/300\n",
            "7020/7020 [==============================] - 10s 1ms/step - loss: 0.5129 - categorical_accuracy: 0.7990 - val_loss: 1.8195 - val_categorical_accuracy: 0.4295\n",
            "Epoch 225/300\n",
            "7020/7020 [==============================] - 10s 1ms/step - loss: 0.4937 - categorical_accuracy: 0.8067 - val_loss: 2.0228 - val_categorical_accuracy: 0.3987\n",
            "Epoch 226/300\n",
            "7020/7020 [==============================] - 10s 1ms/step - loss: 0.4884 - categorical_accuracy: 0.8124 - val_loss: 1.9620 - val_categorical_accuracy: 0.4038\n",
            "Epoch 227/300\n",
            "7020/7020 [==============================] - 10s 1ms/step - loss: 0.4698 - categorical_accuracy: 0.8187 - val_loss: 1.9119 - val_categorical_accuracy: 0.4231\n",
            "Epoch 228/300\n",
            "7020/7020 [==============================] - 10s 1ms/step - loss: 0.4928 - categorical_accuracy: 0.8123 - val_loss: 1.9526 - val_categorical_accuracy: 0.4256\n",
            "Epoch 229/300\n",
            "7020/7020 [==============================] - 10s 1ms/step - loss: 0.4649 - categorical_accuracy: 0.8264 - val_loss: 1.9116 - val_categorical_accuracy: 0.4321\n",
            "Epoch 230/300\n",
            "7020/7020 [==============================] - 10s 1ms/step - loss: 0.4614 - categorical_accuracy: 0.8211 - val_loss: 2.0374 - val_categorical_accuracy: 0.4115\n",
            "Epoch 231/300\n",
            "7020/7020 [==============================] - 10s 1ms/step - loss: 0.4725 - categorical_accuracy: 0.8135 - val_loss: 2.0356 - val_categorical_accuracy: 0.4308\n",
            "Epoch 232/300\n",
            "7020/7020 [==============================] - 10s 1ms/step - loss: 0.4908 - categorical_accuracy: 0.8137 - val_loss: 1.8325 - val_categorical_accuracy: 0.4077\n",
            "Epoch 233/300\n",
            "7020/7020 [==============================] - 10s 1ms/step - loss: 0.4727 - categorical_accuracy: 0.8168 - val_loss: 2.0708 - val_categorical_accuracy: 0.4038\n",
            "Epoch 234/300\n",
            "7020/7020 [==============================] - 10s 1ms/step - loss: 0.4820 - categorical_accuracy: 0.8167 - val_loss: 1.9857 - val_categorical_accuracy: 0.3962\n",
            "Epoch 235/300\n",
            "7020/7020 [==============================] - 10s 1ms/step - loss: 0.4547 - categorical_accuracy: 0.8228 - val_loss: 1.8983 - val_categorical_accuracy: 0.4474\n",
            "Epoch 236/300\n",
            "7020/7020 [==============================] - 10s 1ms/step - loss: 0.4583 - categorical_accuracy: 0.8222 - val_loss: 2.0020 - val_categorical_accuracy: 0.3923\n",
            "Epoch 237/300\n",
            "7020/7020 [==============================] - 10s 1ms/step - loss: 0.4435 - categorical_accuracy: 0.8323 - val_loss: 2.0356 - val_categorical_accuracy: 0.4038\n",
            "Epoch 238/300\n",
            "7020/7020 [==============================] - 10s 1ms/step - loss: 0.4464 - categorical_accuracy: 0.8248 - val_loss: 2.0118 - val_categorical_accuracy: 0.4231\n",
            "Epoch 239/300\n",
            "7020/7020 [==============================] - 10s 1ms/step - loss: 0.4541 - categorical_accuracy: 0.8234 - val_loss: 2.0652 - val_categorical_accuracy: 0.3692\n",
            "Epoch 240/300\n",
            "7020/7020 [==============================] - 10s 1ms/step - loss: 0.4117 - categorical_accuracy: 0.8443 - val_loss: 1.9965 - val_categorical_accuracy: 0.4103\n",
            "Epoch 241/300\n",
            "7020/7020 [==============================] - 10s 1ms/step - loss: 0.4354 - categorical_accuracy: 0.8319 - val_loss: 1.9579 - val_categorical_accuracy: 0.3910\n",
            "Epoch 242/300\n",
            "7020/7020 [==============================] - 10s 1ms/step - loss: 0.4364 - categorical_accuracy: 0.8353 - val_loss: 2.1299 - val_categorical_accuracy: 0.4064\n",
            "Epoch 243/300\n",
            "7020/7020 [==============================] - 10s 1ms/step - loss: 0.4163 - categorical_accuracy: 0.8413 - val_loss: 2.0629 - val_categorical_accuracy: 0.4103\n",
            "Epoch 244/300\n",
            "7020/7020 [==============================] - 10s 1ms/step - loss: 0.4328 - categorical_accuracy: 0.8333 - val_loss: 2.1759 - val_categorical_accuracy: 0.3795\n",
            "Epoch 245/300\n",
            "7020/7020 [==============================] - 10s 1ms/step - loss: 0.4053 - categorical_accuracy: 0.8432 - val_loss: 2.0574 - val_categorical_accuracy: 0.4256\n",
            "Epoch 246/300\n",
            "7020/7020 [==============================] - 10s 1ms/step - loss: 0.4265 - categorical_accuracy: 0.8318 - val_loss: 2.1508 - val_categorical_accuracy: 0.3808\n",
            "Epoch 247/300\n",
            "7020/7020 [==============================] - 10s 1ms/step - loss: 0.3921 - categorical_accuracy: 0.8520 - val_loss: 2.1249 - val_categorical_accuracy: 0.4256\n",
            "Epoch 248/300\n",
            "7020/7020 [==============================] - 10s 1ms/step - loss: 0.3877 - categorical_accuracy: 0.8511 - val_loss: 2.5430 - val_categorical_accuracy: 0.3962\n",
            "Epoch 249/300\n",
            "7020/7020 [==============================] - 10s 1ms/step - loss: 0.3990 - categorical_accuracy: 0.8453 - val_loss: 2.1835 - val_categorical_accuracy: 0.4269\n",
            "Epoch 250/300\n",
            "7020/7020 [==============================] - 10s 1ms/step - loss: 0.4146 - categorical_accuracy: 0.8389 - val_loss: 2.1116 - val_categorical_accuracy: 0.4205\n",
            "Epoch 251/300\n",
            "7020/7020 [==============================] - 10s 1ms/step - loss: 0.3889 - categorical_accuracy: 0.8537 - val_loss: 2.2889 - val_categorical_accuracy: 0.4231\n",
            "Epoch 252/300\n",
            "7020/7020 [==============================] - 10s 1ms/step - loss: 0.4022 - categorical_accuracy: 0.8434 - val_loss: 2.0678 - val_categorical_accuracy: 0.3936\n",
            "Epoch 253/300\n",
            "7020/7020 [==============================] - 10s 1ms/step - loss: 0.4123 - categorical_accuracy: 0.8425 - val_loss: 2.1263 - val_categorical_accuracy: 0.4167\n",
            "Epoch 254/300\n",
            "7020/7020 [==============================] - 10s 1ms/step - loss: 0.3964 - categorical_accuracy: 0.8494 - val_loss: 2.0575 - val_categorical_accuracy: 0.4051\n",
            "Epoch 255/300\n",
            "7020/7020 [==============================] - 10s 1ms/step - loss: 0.3782 - categorical_accuracy: 0.8581 - val_loss: 2.2208 - val_categorical_accuracy: 0.4064\n",
            "Epoch 256/300\n",
            "7020/7020 [==============================] - 10s 1ms/step - loss: 0.4331 - categorical_accuracy: 0.8350 - val_loss: 2.0627 - val_categorical_accuracy: 0.4090\n",
            "Epoch 257/300\n",
            "7020/7020 [==============================] - 10s 1ms/step - loss: 0.3821 - categorical_accuracy: 0.8551 - val_loss: 2.1889 - val_categorical_accuracy: 0.4141\n",
            "Epoch 258/300\n",
            "7020/7020 [==============================] - 10s 1ms/step - loss: 0.3822 - categorical_accuracy: 0.8530 - val_loss: 2.1261 - val_categorical_accuracy: 0.4372\n",
            "Epoch 259/300\n",
            "7020/7020 [==============================] - 10s 1ms/step - loss: 0.3594 - categorical_accuracy: 0.8638 - val_loss: 2.2342 - val_categorical_accuracy: 0.3936\n",
            "Epoch 260/300\n",
            "7020/7020 [==============================] - 10s 1ms/step - loss: 0.3876 - categorical_accuracy: 0.8534 - val_loss: 2.0771 - val_categorical_accuracy: 0.4064\n",
            "Epoch 261/300\n",
            "7020/7020 [==============================] - 10s 1ms/step - loss: 0.4148 - categorical_accuracy: 0.8452 - val_loss: 2.0406 - val_categorical_accuracy: 0.4372\n",
            "Epoch 262/300\n",
            "7020/7020 [==============================] - 10s 1ms/step - loss: 0.3485 - categorical_accuracy: 0.8658 - val_loss: 2.2041 - val_categorical_accuracy: 0.3833\n",
            "Epoch 263/300\n",
            "7020/7020 [==============================] - 10s 1ms/step - loss: 0.3754 - categorical_accuracy: 0.8610 - val_loss: 2.1172 - val_categorical_accuracy: 0.3923\n",
            "Epoch 264/300\n",
            "7020/7020 [==============================] - 10s 1ms/step - loss: 0.3558 - categorical_accuracy: 0.8607 - val_loss: 2.2179 - val_categorical_accuracy: 0.4346\n",
            "Epoch 265/300\n",
            "7020/7020 [==============================] - 10s 1ms/step - loss: 0.3594 - categorical_accuracy: 0.8625 - val_loss: 2.2441 - val_categorical_accuracy: 0.3923\n",
            "Epoch 266/300\n",
            "7020/7020 [==============================] - 10s 1ms/step - loss: 0.3850 - categorical_accuracy: 0.8575 - val_loss: 2.0049 - val_categorical_accuracy: 0.4167\n",
            "Epoch 267/300\n",
            "7020/7020 [==============================] - 10s 1ms/step - loss: 0.3608 - categorical_accuracy: 0.8611 - val_loss: 2.2197 - val_categorical_accuracy: 0.4128\n",
            "Epoch 268/300\n",
            "7020/7020 [==============================] - 10s 1ms/step - loss: 0.3666 - categorical_accuracy: 0.8623 - val_loss: 2.1475 - val_categorical_accuracy: 0.4090\n",
            "Epoch 269/300\n",
            "7020/7020 [==============================] - 10s 1ms/step - loss: 0.3609 - categorical_accuracy: 0.8585 - val_loss: 2.3932 - val_categorical_accuracy: 0.3936\n",
            "Epoch 270/300\n",
            "7020/7020 [==============================] - 10s 1ms/step - loss: 0.3760 - categorical_accuracy: 0.8536 - val_loss: 2.1809 - val_categorical_accuracy: 0.4359\n",
            "Epoch 271/300\n",
            "7020/7020 [==============================] - 10s 1ms/step - loss: 0.3277 - categorical_accuracy: 0.8748 - val_loss: 2.3195 - val_categorical_accuracy: 0.4000\n",
            "Epoch 272/300\n",
            "7020/7020 [==============================] - 10s 1ms/step - loss: 0.3989 - categorical_accuracy: 0.8500 - val_loss: 2.1126 - val_categorical_accuracy: 0.4090\n",
            "Epoch 273/300\n",
            "7020/7020 [==============================] - 10s 1ms/step - loss: 0.3243 - categorical_accuracy: 0.8806 - val_loss: 2.2850 - val_categorical_accuracy: 0.4013\n",
            "Epoch 274/300\n",
            "7020/7020 [==============================] - 10s 1ms/step - loss: 0.3674 - categorical_accuracy: 0.8601 - val_loss: 2.2139 - val_categorical_accuracy: 0.4295\n",
            "Epoch 275/300\n",
            "7020/7020 [==============================] - 10s 1ms/step - loss: 0.3012 - categorical_accuracy: 0.8895 - val_loss: 2.3277 - val_categorical_accuracy: 0.4244\n",
            "Epoch 276/300\n",
            "7020/7020 [==============================] - 10s 1ms/step - loss: 0.3539 - categorical_accuracy: 0.8620 - val_loss: 2.2072 - val_categorical_accuracy: 0.4013\n",
            "Epoch 277/300\n",
            "7020/7020 [==============================] - 10s 1ms/step - loss: 0.3237 - categorical_accuracy: 0.8806 - val_loss: 2.3040 - val_categorical_accuracy: 0.4103\n",
            "Epoch 278/300\n",
            "7020/7020 [==============================] - 10s 1ms/step - loss: 0.3684 - categorical_accuracy: 0.8618 - val_loss: 2.3049 - val_categorical_accuracy: 0.4141\n",
            "Epoch 279/300\n",
            "7020/7020 [==============================] - 10s 1ms/step - loss: 0.3457 - categorical_accuracy: 0.8725 - val_loss: 2.2230 - val_categorical_accuracy: 0.4372\n",
            "Epoch 280/300\n",
            "7020/7020 [==============================] - 10s 1ms/step - loss: 0.3132 - categorical_accuracy: 0.8795 - val_loss: 2.4172 - val_categorical_accuracy: 0.4064\n",
            "Epoch 281/300\n",
            "7020/7020 [==============================] - 10s 1ms/step - loss: 0.3434 - categorical_accuracy: 0.8712 - val_loss: 2.1588 - val_categorical_accuracy: 0.4218\n",
            "Epoch 282/300\n",
            "7020/7020 [==============================] - 10s 1ms/step - loss: 0.2756 - categorical_accuracy: 0.8979 - val_loss: 2.3939 - val_categorical_accuracy: 0.4218\n",
            "Epoch 283/300\n",
            "7020/7020 [==============================] - 10s 1ms/step - loss: 0.2839 - categorical_accuracy: 0.8926 - val_loss: 2.4560 - val_categorical_accuracy: 0.4115\n",
            "Epoch 284/300\n",
            "7020/7020 [==============================] - 10s 1ms/step - loss: 0.3172 - categorical_accuracy: 0.8764 - val_loss: 2.3164 - val_categorical_accuracy: 0.3936\n",
            "Epoch 285/300\n",
            "7020/7020 [==============================] - 10s 1ms/step - loss: 0.3803 - categorical_accuracy: 0.8597 - val_loss: 2.2892 - val_categorical_accuracy: 0.4000\n",
            "Epoch 286/300\n",
            "7020/7020 [==============================] - 10s 1ms/step - loss: 0.3134 - categorical_accuracy: 0.8781 - val_loss: 2.3578 - val_categorical_accuracy: 0.3974\n",
            "Epoch 287/300\n",
            "7020/7020 [==============================] - 10s 1ms/step - loss: 0.3529 - categorical_accuracy: 0.8695 - val_loss: 2.4077 - val_categorical_accuracy: 0.4026\n",
            "Epoch 288/300\n",
            "7020/7020 [==============================] - 10s 1ms/step - loss: 0.3005 - categorical_accuracy: 0.8896 - val_loss: 2.3286 - val_categorical_accuracy: 0.4256\n",
            "Epoch 289/300\n",
            "7020/7020 [==============================] - 10s 1ms/step - loss: 0.2904 - categorical_accuracy: 0.8919 - val_loss: 2.4403 - val_categorical_accuracy: 0.4205\n",
            "Epoch 290/300\n",
            "7020/7020 [==============================] - 10s 1ms/step - loss: 0.2954 - categorical_accuracy: 0.8882 - val_loss: 2.2776 - val_categorical_accuracy: 0.4385\n",
            "Epoch 291/300\n",
            "7020/7020 [==============================] - 10s 1ms/step - loss: 0.3595 - categorical_accuracy: 0.8628 - val_loss: 2.2798 - val_categorical_accuracy: 0.4167\n",
            "Epoch 292/300\n",
            "7020/7020 [==============================] - 10s 1ms/step - loss: 0.2717 - categorical_accuracy: 0.8997 - val_loss: 2.3770 - val_categorical_accuracy: 0.4077\n",
            "Epoch 293/300\n",
            "7020/7020 [==============================] - 10s 1ms/step - loss: 0.2931 - categorical_accuracy: 0.8923 - val_loss: 2.4699 - val_categorical_accuracy: 0.4154\n",
            "Epoch 294/300\n",
            "7020/7020 [==============================] - 10s 1ms/step - loss: 0.2951 - categorical_accuracy: 0.8903 - val_loss: 2.5514 - val_categorical_accuracy: 0.4051\n",
            "Epoch 295/300\n",
            "7020/7020 [==============================] - 10s 1ms/step - loss: 0.3336 - categorical_accuracy: 0.8726 - val_loss: 2.2951 - val_categorical_accuracy: 0.4269\n",
            "Epoch 296/300\n",
            "7020/7020 [==============================] - 10s 1ms/step - loss: 0.2806 - categorical_accuracy: 0.8967 - val_loss: 2.3935 - val_categorical_accuracy: 0.4359\n",
            "Epoch 297/300\n",
            "7020/7020 [==============================] - 10s 1ms/step - loss: 0.3011 - categorical_accuracy: 0.8850 - val_loss: 2.4371 - val_categorical_accuracy: 0.4077\n",
            "Epoch 298/300\n",
            "7020/7020 [==============================] - 10s 1ms/step - loss: 0.3025 - categorical_accuracy: 0.8853 - val_loss: 2.3488 - val_categorical_accuracy: 0.4205\n",
            "Epoch 299/300\n",
            "7020/7020 [==============================] - 10s 1ms/step - loss: 0.2862 - categorical_accuracy: 0.8929 - val_loss: 2.3873 - val_categorical_accuracy: 0.4244\n",
            "Epoch 300/300\n",
            "7020/7020 [==============================] - 10s 1ms/step - loss: 0.3220 - categorical_accuracy: 0.8813 - val_loss: 2.4868 - val_categorical_accuracy: 0.3821\n"
          ],
          "name": "stdout"
        },
        {
          "output_type": "execute_result",
          "data": {
            "text/plain": [
              "<keras.callbacks.History at 0x7fa4d812b400>"
            ]
          },
          "metadata": {
            "tags": []
          },
          "execution_count": 26
        }
      ]
    },
    {
      "cell_type": "code",
      "metadata": {
        "id": "Myy_KRPCP6ao",
        "colab_type": "code",
        "colab": {}
      },
      "source": [
        "model.fit(X_train, y_train, verbose=1, epochs=20,validation_data=(X_test, y_test), shuffle=True)  # train the model"
      ],
      "execution_count": 0,
      "outputs": []
    },
    {
      "cell_type": "code",
      "metadata": {
        "id": "mUz-CM3ItsKR",
        "colab_type": "code",
        "outputId": "6761757c-d8a2-4a1b-b3ba-6c05028bf5b6",
        "colab": {
          "base_uri": "https://localhost:8080/"
        }
      },
      "source": [
        "model.summary()"
      ],
      "execution_count": 0,
      "outputs": [
        {
          "output_type": "stream",
          "text": [
            "Model: \"sequential_5\"\n",
            "_________________________________________________________________\n",
            "Layer (type)                 Output Shape              Param #   \n",
            "=================================================================\n",
            "LSTM1 (CuDNNLSTM)            (None, 1024)              11575296  \n",
            "_________________________________________________________________\n",
            "Dense1 (Dense)               (None, 128)               131200    \n",
            "_________________________________________________________________\n",
            "batch_normalization_11 (Batc (None, 128)               512       \n",
            "_________________________________________________________________\n",
            "dropout_20 (Dropout)         (None, 128)               0         \n",
            "_________________________________________________________________\n",
            "Dense2 (Dense)               (None, 128)               16512     \n",
            "_________________________________________________________________\n",
            "batch_normalization_12 (Batc (None, 128)               512       \n",
            "_________________________________________________________________\n",
            "dropout_21 (Dropout)         (None, 128)               0         \n",
            "_________________________________________________________________\n",
            "Dense3 (Dense)               (None, 128)               16512     \n",
            "_________________________________________________________________\n",
            "batch_normalization_13 (Batc (None, 128)               512       \n",
            "_________________________________________________________________\n",
            "dropout_22 (Dropout)         (None, 128)               0         \n",
            "_________________________________________________________________\n",
            "Dense4 (Dense)               (None, 128)               16512     \n",
            "_________________________________________________________________\n",
            "batch_normalization_14 (Batc (None, 128)               512       \n",
            "_________________________________________________________________\n",
            "dropout_23 (Dropout)         (None, 128)               0         \n",
            "_________________________________________________________________\n",
            "Output (Dense)               (None, 4)                 516       \n",
            "=================================================================\n",
            "Total params: 11,758,596\n",
            "Trainable params: 11,757,572\n",
            "Non-trainable params: 1,024\n",
            "_________________________________________________________________\n"
          ],
          "name": "stdout"
        }
      ]
    },
    {
      "cell_type": "code",
      "metadata": {
        "id": "g8WbKwiWtvTI",
        "colab_type": "code",
        "colab": {}
      },
      "source": [
        "pred = model.predict(X_test)\n",
        "pred = np.argmax(pred, axis=1)\n",
        "y_label = np.argmax(y_test, axis=1)\n",
        "accuracy_score(y_label.tolist(), pred.tolist())\n"
      ],
      "execution_count": 0,
      "outputs": []
    },
    {
      "cell_type": "code",
      "metadata": {
        "id": "ZC5xJFh7HgXA",
        "colab_type": "code",
        "colab": {}
      },
      "source": [
        ""
      ],
      "execution_count": 0,
      "outputs": []
    },
    {
      "cell_type": "code",
      "metadata": {
        "id": "7qDcMDBSMtoL",
        "colab_type": "code",
        "colab": {}
      },
      "source": [
        "#pred = model.predict(X_train)\n",
        "# pred= np.array((pred>0.5).tolist()).astype(int).flatten()\n",
        "# accuracy_score(y_test.tolist(), pred.tolist())"
      ],
      "execution_count": 0,
      "outputs": []
    },
    {
      "cell_type": "code",
      "metadata": {
        "id": "n3ge5h-geSWg",
        "colab_type": "code",
        "colab": {}
      },
      "source": [
        "pred"
      ],
      "execution_count": 0,
      "outputs": []
    },
    {
      "cell_type": "code",
      "metadata": {
        "id": "C5hxyTwKeXta",
        "colab_type": "code",
        "colab": {}
      },
      "source": [
        "from keras.models import load_model"
      ],
      "execution_count": 0,
      "outputs": []
    },
    {
      "cell_type": "code",
      "metadata": {
        "id": "wNpKTC80ewzL",
        "colab_type": "code",
        "colab": {}
      },
      "source": [
        "model.save('drive/My Drive/DL Dataset/valence_1000.h5')"
      ],
      "execution_count": 0,
      "outputs": []
    },
    {
      "cell_type": "code",
      "metadata": {
        "id": "A1wunnJ9z9KS",
        "colab_type": "code",
        "colab": {}
      },
      "source": [
        "model1 = Sequential()\n",
        "\n",
        "model1.add(Conv1D(filters=128, kernel_size=9, activation='relu', input_shape=input_dim))\n",
        "model1.add(BatchNormalization())\n",
        "model1.add(Conv1D(filters=64, kernel_size=6, activation='relu'))\n",
        "model1.add(Dropout(0.4))\n",
        "model1.add(Conv1D(filters=64, kernel_size=6, activation='relu'))\n",
        "model1.add(Dropout(0.4))\n",
        "model1.add(Conv1D(filters=32, kernel_size=3, activation='relu'))\n",
        "model1.add(Dropout(0.4))\n",
        "model1.add(CuDNNGRU(32))\n",
        "\n",
        "\n",
        "model1.add(Dense(512, activation='relu'))\n",
        "model1.add(BatchNormalization())\n",
        "model1.add(Dropout(0.4))\n",
        "model1.add(Dense(512, activation='relu'))\n",
        "model1.add(BatchNormalization())\n",
        "model1.add(Dropout(0.4))\n",
        "model1.add(Dense(128, activation='relu'))\n",
        "model1.add(BatchNormalization())\n",
        "model1.add(Dropout(0.4))\n",
        "model1.add(Dense(1, activation='sigmoid',name='Output'))"
      ],
      "execution_count": 0,
      "outputs": []
    }
  ]
}