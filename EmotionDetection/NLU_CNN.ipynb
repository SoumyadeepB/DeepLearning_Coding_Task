{
  "nbformat": 4,
  "nbformat_minor": 0,
  "metadata": {
    "colab": {
      "name": "NewNLU_CNN.ipynb",
      "provenance": [],
      "collapsed_sections": []
    },
    "kernelspec": {
      "name": "python3",
      "display_name": "Python 3"
    },
    "accelerator": "GPU",
    "widgets": {
      "application/vnd.jupyter.widget-state+json": {
        "510853e85dc64acdbdc0d0d7b56e825e": {
          "model_module": "@jupyter-widgets/controls",
          "model_name": "HBoxModel",
          "state": {
            "_view_name": "HBoxView",
            "_dom_classes": [],
            "_model_name": "HBoxModel",
            "_view_module": "@jupyter-widgets/controls",
            "_model_module_version": "1.5.0",
            "_view_count": null,
            "_view_module_version": "1.5.0",
            "box_style": "",
            "layout": "IPY_MODEL_b7d1a99949764ec19edc3d5a64d31c66",
            "_model_module": "@jupyter-widgets/controls",
            "children": [
              "IPY_MODEL_bf780a165d2f4cfba0b42a80b1495d98",
              "IPY_MODEL_cad227e3defd421fb09af86180bdb5f3"
            ]
          }
        },
        "b7d1a99949764ec19edc3d5a64d31c66": {
          "model_module": "@jupyter-widgets/base",
          "model_name": "LayoutModel",
          "state": {
            "_view_name": "LayoutView",
            "grid_template_rows": null,
            "right": null,
            "justify_content": null,
            "_view_module": "@jupyter-widgets/base",
            "overflow": null,
            "_model_module_version": "1.2.0",
            "_view_count": null,
            "flex_flow": null,
            "width": null,
            "min_width": null,
            "border": null,
            "align_items": null,
            "bottom": null,
            "_model_module": "@jupyter-widgets/base",
            "top": null,
            "grid_column": null,
            "overflow_y": null,
            "overflow_x": null,
            "grid_auto_flow": null,
            "grid_area": null,
            "grid_template_columns": null,
            "flex": null,
            "_model_name": "LayoutModel",
            "justify_items": null,
            "grid_row": null,
            "max_height": null,
            "align_content": null,
            "visibility": null,
            "align_self": null,
            "height": null,
            "min_height": null,
            "padding": null,
            "grid_auto_rows": null,
            "grid_gap": null,
            "max_width": null,
            "order": null,
            "_view_module_version": "1.2.0",
            "grid_template_areas": null,
            "object_position": null,
            "object_fit": null,
            "grid_auto_columns": null,
            "margin": null,
            "display": null,
            "left": null
          }
        },
        "bf780a165d2f4cfba0b42a80b1495d98": {
          "model_module": "@jupyter-widgets/controls",
          "model_name": "IntProgressModel",
          "state": {
            "_view_name": "ProgressView",
            "style": "IPY_MODEL_401c0985fa6a448d9c3b645f07fb4ea2",
            "_dom_classes": [],
            "description": "",
            "_model_name": "IntProgressModel",
            "bar_style": "success",
            "max": 1,
            "_view_module": "@jupyter-widgets/controls",
            "_model_module_version": "1.5.0",
            "value": 1,
            "_view_count": null,
            "_view_module_version": "1.5.0",
            "orientation": "horizontal",
            "min": 0,
            "description_tooltip": null,
            "_model_module": "@jupyter-widgets/controls",
            "layout": "IPY_MODEL_ebf64043817f414182b8eac01a592c67"
          }
        },
        "cad227e3defd421fb09af86180bdb5f3": {
          "model_module": "@jupyter-widgets/controls",
          "model_name": "HTMLModel",
          "state": {
            "_view_name": "HTMLView",
            "style": "IPY_MODEL_49eb628da0f04fecbb2b5585fedd81db",
            "_dom_classes": [],
            "description": "",
            "_model_name": "HTMLModel",
            "placeholder": "​",
            "_view_module": "@jupyter-widgets/controls",
            "_model_module_version": "1.5.0",
            "value": "7800it [00:04, 1869.63it/s]",
            "_view_count": null,
            "_view_module_version": "1.5.0",
            "description_tooltip": null,
            "_model_module": "@jupyter-widgets/controls",
            "layout": "IPY_MODEL_23e42bd214dd4b25980a57ff65a6ed9f"
          }
        },
        "401c0985fa6a448d9c3b645f07fb4ea2": {
          "model_module": "@jupyter-widgets/controls",
          "model_name": "ProgressStyleModel",
          "state": {
            "_view_name": "StyleView",
            "_model_name": "ProgressStyleModel",
            "description_width": "",
            "_view_module": "@jupyter-widgets/base",
            "_model_module_version": "1.5.0",
            "_view_count": null,
            "_view_module_version": "1.2.0",
            "bar_color": null,
            "_model_module": "@jupyter-widgets/controls"
          }
        },
        "ebf64043817f414182b8eac01a592c67": {
          "model_module": "@jupyter-widgets/base",
          "model_name": "LayoutModel",
          "state": {
            "_view_name": "LayoutView",
            "grid_template_rows": null,
            "right": null,
            "justify_content": null,
            "_view_module": "@jupyter-widgets/base",
            "overflow": null,
            "_model_module_version": "1.2.0",
            "_view_count": null,
            "flex_flow": null,
            "width": null,
            "min_width": null,
            "border": null,
            "align_items": null,
            "bottom": null,
            "_model_module": "@jupyter-widgets/base",
            "top": null,
            "grid_column": null,
            "overflow_y": null,
            "overflow_x": null,
            "grid_auto_flow": null,
            "grid_area": null,
            "grid_template_columns": null,
            "flex": null,
            "_model_name": "LayoutModel",
            "justify_items": null,
            "grid_row": null,
            "max_height": null,
            "align_content": null,
            "visibility": null,
            "align_self": null,
            "height": null,
            "min_height": null,
            "padding": null,
            "grid_auto_rows": null,
            "grid_gap": null,
            "max_width": null,
            "order": null,
            "_view_module_version": "1.2.0",
            "grid_template_areas": null,
            "object_position": null,
            "object_fit": null,
            "grid_auto_columns": null,
            "margin": null,
            "display": null,
            "left": null
          }
        },
        "49eb628da0f04fecbb2b5585fedd81db": {
          "model_module": "@jupyter-widgets/controls",
          "model_name": "DescriptionStyleModel",
          "state": {
            "_view_name": "StyleView",
            "_model_name": "DescriptionStyleModel",
            "description_width": "",
            "_view_module": "@jupyter-widgets/base",
            "_model_module_version": "1.5.0",
            "_view_count": null,
            "_view_module_version": "1.2.0",
            "_model_module": "@jupyter-widgets/controls"
          }
        },
        "23e42bd214dd4b25980a57ff65a6ed9f": {
          "model_module": "@jupyter-widgets/base",
          "model_name": "LayoutModel",
          "state": {
            "_view_name": "LayoutView",
            "grid_template_rows": null,
            "right": null,
            "justify_content": null,
            "_view_module": "@jupyter-widgets/base",
            "overflow": null,
            "_model_module_version": "1.2.0",
            "_view_count": null,
            "flex_flow": null,
            "width": null,
            "min_width": null,
            "border": null,
            "align_items": null,
            "bottom": null,
            "_model_module": "@jupyter-widgets/base",
            "top": null,
            "grid_column": null,
            "overflow_y": null,
            "overflow_x": null,
            "grid_auto_flow": null,
            "grid_area": null,
            "grid_template_columns": null,
            "flex": null,
            "_model_name": "LayoutModel",
            "justify_items": null,
            "grid_row": null,
            "max_height": null,
            "align_content": null,
            "visibility": null,
            "align_self": null,
            "height": null,
            "min_height": null,
            "padding": null,
            "grid_auto_rows": null,
            "grid_gap": null,
            "max_width": null,
            "order": null,
            "_view_module_version": "1.2.0",
            "grid_template_areas": null,
            "object_position": null,
            "object_fit": null,
            "grid_auto_columns": null,
            "margin": null,
            "display": null,
            "left": null
          }
        },
        "11273fb2e91042e2b30fbc17b3790e97": {
          "model_module": "@jupyter-widgets/controls",
          "model_name": "HBoxModel",
          "state": {
            "_view_name": "HBoxView",
            "_dom_classes": [],
            "_model_name": "HBoxModel",
            "_view_module": "@jupyter-widgets/controls",
            "_model_module_version": "1.5.0",
            "_view_count": null,
            "_view_module_version": "1.5.0",
            "box_style": "",
            "layout": "IPY_MODEL_b4bd2ff2b86f4e3697da164b4c48eb03",
            "_model_module": "@jupyter-widgets/controls",
            "children": [
              "IPY_MODEL_d5fe1d82d3f64f228a75e3f3c4aa1df4",
              "IPY_MODEL_59c9c4232b324629965bc4e0a92abf86"
            ]
          }
        },
        "b4bd2ff2b86f4e3697da164b4c48eb03": {
          "model_module": "@jupyter-widgets/base",
          "model_name": "LayoutModel",
          "state": {
            "_view_name": "LayoutView",
            "grid_template_rows": null,
            "right": null,
            "justify_content": null,
            "_view_module": "@jupyter-widgets/base",
            "overflow": null,
            "_model_module_version": "1.2.0",
            "_view_count": null,
            "flex_flow": null,
            "width": null,
            "min_width": null,
            "border": null,
            "align_items": null,
            "bottom": null,
            "_model_module": "@jupyter-widgets/base",
            "top": null,
            "grid_column": null,
            "overflow_y": null,
            "overflow_x": null,
            "grid_auto_flow": null,
            "grid_area": null,
            "grid_template_columns": null,
            "flex": null,
            "_model_name": "LayoutModel",
            "justify_items": null,
            "grid_row": null,
            "max_height": null,
            "align_content": null,
            "visibility": null,
            "align_self": null,
            "height": null,
            "min_height": null,
            "padding": null,
            "grid_auto_rows": null,
            "grid_gap": null,
            "max_width": null,
            "order": null,
            "_view_module_version": "1.2.0",
            "grid_template_areas": null,
            "object_position": null,
            "object_fit": null,
            "grid_auto_columns": null,
            "margin": null,
            "display": null,
            "left": null
          }
        },
        "d5fe1d82d3f64f228a75e3f3c4aa1df4": {
          "model_module": "@jupyter-widgets/controls",
          "model_name": "IntProgressModel",
          "state": {
            "_view_name": "ProgressView",
            "style": "IPY_MODEL_6df9461fa02e46b7a9b1ccb16e1974b9",
            "_dom_classes": [],
            "description": "",
            "_model_name": "IntProgressModel",
            "bar_style": "success",
            "max": 7800,
            "_view_module": "@jupyter-widgets/controls",
            "_model_module_version": "1.5.0",
            "value": 7800,
            "_view_count": null,
            "_view_module_version": "1.5.0",
            "orientation": "horizontal",
            "min": 0,
            "description_tooltip": null,
            "_model_module": "@jupyter-widgets/controls",
            "layout": "IPY_MODEL_56d9365a85ec465f87e34d22aa72dff0"
          }
        },
        "59c9c4232b324629965bc4e0a92abf86": {
          "model_module": "@jupyter-widgets/controls",
          "model_name": "HTMLModel",
          "state": {
            "_view_name": "HTMLView",
            "style": "IPY_MODEL_5c2c8792ef7342db851a2a8ac12bcfb3",
            "_dom_classes": [],
            "description": "",
            "_model_name": "HTMLModel",
            "placeholder": "​",
            "_view_module": "@jupyter-widgets/controls",
            "_model_module_version": "1.5.0",
            "value": "100% 7800/7800 [00:08&lt;00:00, 907.03it/s]",
            "_view_count": null,
            "_view_module_version": "1.5.0",
            "description_tooltip": null,
            "_model_module": "@jupyter-widgets/controls",
            "layout": "IPY_MODEL_602ef84eecf14421b0434cb6f178fb7b"
          }
        },
        "6df9461fa02e46b7a9b1ccb16e1974b9": {
          "model_module": "@jupyter-widgets/controls",
          "model_name": "ProgressStyleModel",
          "state": {
            "_view_name": "StyleView",
            "_model_name": "ProgressStyleModel",
            "description_width": "",
            "_view_module": "@jupyter-widgets/base",
            "_model_module_version": "1.5.0",
            "_view_count": null,
            "_view_module_version": "1.2.0",
            "bar_color": null,
            "_model_module": "@jupyter-widgets/controls"
          }
        },
        "56d9365a85ec465f87e34d22aa72dff0": {
          "model_module": "@jupyter-widgets/base",
          "model_name": "LayoutModel",
          "state": {
            "_view_name": "LayoutView",
            "grid_template_rows": null,
            "right": null,
            "justify_content": null,
            "_view_module": "@jupyter-widgets/base",
            "overflow": null,
            "_model_module_version": "1.2.0",
            "_view_count": null,
            "flex_flow": null,
            "width": null,
            "min_width": null,
            "border": null,
            "align_items": null,
            "bottom": null,
            "_model_module": "@jupyter-widgets/base",
            "top": null,
            "grid_column": null,
            "overflow_y": null,
            "overflow_x": null,
            "grid_auto_flow": null,
            "grid_area": null,
            "grid_template_columns": null,
            "flex": null,
            "_model_name": "LayoutModel",
            "justify_items": null,
            "grid_row": null,
            "max_height": null,
            "align_content": null,
            "visibility": null,
            "align_self": null,
            "height": null,
            "min_height": null,
            "padding": null,
            "grid_auto_rows": null,
            "grid_gap": null,
            "max_width": null,
            "order": null,
            "_view_module_version": "1.2.0",
            "grid_template_areas": null,
            "object_position": null,
            "object_fit": null,
            "grid_auto_columns": null,
            "margin": null,
            "display": null,
            "left": null
          }
        },
        "5c2c8792ef7342db851a2a8ac12bcfb3": {
          "model_module": "@jupyter-widgets/controls",
          "model_name": "DescriptionStyleModel",
          "state": {
            "_view_name": "StyleView",
            "_model_name": "DescriptionStyleModel",
            "description_width": "",
            "_view_module": "@jupyter-widgets/base",
            "_model_module_version": "1.5.0",
            "_view_count": null,
            "_view_module_version": "1.2.0",
            "_model_module": "@jupyter-widgets/controls"
          }
        },
        "602ef84eecf14421b0434cb6f178fb7b": {
          "model_module": "@jupyter-widgets/base",
          "model_name": "LayoutModel",
          "state": {
            "_view_name": "LayoutView",
            "grid_template_rows": null,
            "right": null,
            "justify_content": null,
            "_view_module": "@jupyter-widgets/base",
            "overflow": null,
            "_model_module_version": "1.2.0",
            "_view_count": null,
            "flex_flow": null,
            "width": null,
            "min_width": null,
            "border": null,
            "align_items": null,
            "bottom": null,
            "_model_module": "@jupyter-widgets/base",
            "top": null,
            "grid_column": null,
            "overflow_y": null,
            "overflow_x": null,
            "grid_auto_flow": null,
            "grid_area": null,
            "grid_template_columns": null,
            "flex": null,
            "_model_name": "LayoutModel",
            "justify_items": null,
            "grid_row": null,
            "max_height": null,
            "align_content": null,
            "visibility": null,
            "align_self": null,
            "height": null,
            "min_height": null,
            "padding": null,
            "grid_auto_rows": null,
            "grid_gap": null,
            "max_width": null,
            "order": null,
            "_view_module_version": "1.2.0",
            "grid_template_areas": null,
            "object_position": null,
            "object_fit": null,
            "grid_auto_columns": null,
            "margin": null,
            "display": null,
            "left": null
          }
        },
        "d074b936030e4eb6a68584b4955f8262": {
          "model_module": "@jupyter-widgets/controls",
          "model_name": "HBoxModel",
          "state": {
            "_view_name": "HBoxView",
            "_dom_classes": [],
            "_model_name": "HBoxModel",
            "_view_module": "@jupyter-widgets/controls",
            "_model_module_version": "1.5.0",
            "_view_count": null,
            "_view_module_version": "1.5.0",
            "box_style": "",
            "layout": "IPY_MODEL_4ec2f4af18aa424cbb97aec3abada900",
            "_model_module": "@jupyter-widgets/controls",
            "children": [
              "IPY_MODEL_0a2e976ca8344d60a5ad687ff4e53190",
              "IPY_MODEL_8c6b8de1f0804187a9fb13a8c08b49a6"
            ]
          }
        },
        "4ec2f4af18aa424cbb97aec3abada900": {
          "model_module": "@jupyter-widgets/base",
          "model_name": "LayoutModel",
          "state": {
            "_view_name": "LayoutView",
            "grid_template_rows": null,
            "right": null,
            "justify_content": null,
            "_view_module": "@jupyter-widgets/base",
            "overflow": null,
            "_model_module_version": "1.2.0",
            "_view_count": null,
            "flex_flow": null,
            "width": null,
            "min_width": null,
            "border": null,
            "align_items": null,
            "bottom": null,
            "_model_module": "@jupyter-widgets/base",
            "top": null,
            "grid_column": null,
            "overflow_y": null,
            "overflow_x": null,
            "grid_auto_flow": null,
            "grid_area": null,
            "grid_template_columns": null,
            "flex": null,
            "_model_name": "LayoutModel",
            "justify_items": null,
            "grid_row": null,
            "max_height": null,
            "align_content": null,
            "visibility": null,
            "align_self": null,
            "height": null,
            "min_height": null,
            "padding": null,
            "grid_auto_rows": null,
            "grid_gap": null,
            "max_width": null,
            "order": null,
            "_view_module_version": "1.2.0",
            "grid_template_areas": null,
            "object_position": null,
            "object_fit": null,
            "grid_auto_columns": null,
            "margin": null,
            "display": null,
            "left": null
          }
        },
        "0a2e976ca8344d60a5ad687ff4e53190": {
          "model_module": "@jupyter-widgets/controls",
          "model_name": "IntProgressModel",
          "state": {
            "_view_name": "ProgressView",
            "style": "IPY_MODEL_c02a097280cf44529b48464781fcedb1",
            "_dom_classes": [],
            "description": "",
            "_model_name": "IntProgressModel",
            "bar_style": "success",
            "max": 3342,
            "_view_module": "@jupyter-widgets/controls",
            "_model_module_version": "1.5.0",
            "value": 3342,
            "_view_count": null,
            "_view_module_version": "1.5.0",
            "orientation": "horizontal",
            "min": 0,
            "description_tooltip": null,
            "_model_module": "@jupyter-widgets/controls",
            "layout": "IPY_MODEL_5a6a6c2a182f44198906c150c5347d4c"
          }
        },
        "8c6b8de1f0804187a9fb13a8c08b49a6": {
          "model_module": "@jupyter-widgets/controls",
          "model_name": "HTMLModel",
          "state": {
            "_view_name": "HTMLView",
            "style": "IPY_MODEL_3fbfa1fee33d4821a3aea6a25b44467e",
            "_dom_classes": [],
            "description": "",
            "_model_name": "HTMLModel",
            "placeholder": "​",
            "_view_module": "@jupyter-widgets/controls",
            "_model_module_version": "1.5.0",
            "value": "100% 3342/3342 [00:02&lt;00:00, 1388.64it/s]",
            "_view_count": null,
            "_view_module_version": "1.5.0",
            "description_tooltip": null,
            "_model_module": "@jupyter-widgets/controls",
            "layout": "IPY_MODEL_3cae58ac205f4656997f1733f22d2150"
          }
        },
        "c02a097280cf44529b48464781fcedb1": {
          "model_module": "@jupyter-widgets/controls",
          "model_name": "ProgressStyleModel",
          "state": {
            "_view_name": "StyleView",
            "_model_name": "ProgressStyleModel",
            "description_width": "",
            "_view_module": "@jupyter-widgets/base",
            "_model_module_version": "1.5.0",
            "_view_count": null,
            "_view_module_version": "1.2.0",
            "bar_color": null,
            "_model_module": "@jupyter-widgets/controls"
          }
        },
        "5a6a6c2a182f44198906c150c5347d4c": {
          "model_module": "@jupyter-widgets/base",
          "model_name": "LayoutModel",
          "state": {
            "_view_name": "LayoutView",
            "grid_template_rows": null,
            "right": null,
            "justify_content": null,
            "_view_module": "@jupyter-widgets/base",
            "overflow": null,
            "_model_module_version": "1.2.0",
            "_view_count": null,
            "flex_flow": null,
            "width": null,
            "min_width": null,
            "border": null,
            "align_items": null,
            "bottom": null,
            "_model_module": "@jupyter-widgets/base",
            "top": null,
            "grid_column": null,
            "overflow_y": null,
            "overflow_x": null,
            "grid_auto_flow": null,
            "grid_area": null,
            "grid_template_columns": null,
            "flex": null,
            "_model_name": "LayoutModel",
            "justify_items": null,
            "grid_row": null,
            "max_height": null,
            "align_content": null,
            "visibility": null,
            "align_self": null,
            "height": null,
            "min_height": null,
            "padding": null,
            "grid_auto_rows": null,
            "grid_gap": null,
            "max_width": null,
            "order": null,
            "_view_module_version": "1.2.0",
            "grid_template_areas": null,
            "object_position": null,
            "object_fit": null,
            "grid_auto_columns": null,
            "margin": null,
            "display": null,
            "left": null
          }
        },
        "3fbfa1fee33d4821a3aea6a25b44467e": {
          "model_module": "@jupyter-widgets/controls",
          "model_name": "DescriptionStyleModel",
          "state": {
            "_view_name": "StyleView",
            "_model_name": "DescriptionStyleModel",
            "description_width": "",
            "_view_module": "@jupyter-widgets/base",
            "_model_module_version": "1.5.0",
            "_view_count": null,
            "_view_module_version": "1.2.0",
            "_model_module": "@jupyter-widgets/controls"
          }
        },
        "3cae58ac205f4656997f1733f22d2150": {
          "model_module": "@jupyter-widgets/base",
          "model_name": "LayoutModel",
          "state": {
            "_view_name": "LayoutView",
            "grid_template_rows": null,
            "right": null,
            "justify_content": null,
            "_view_module": "@jupyter-widgets/base",
            "overflow": null,
            "_model_module_version": "1.2.0",
            "_view_count": null,
            "flex_flow": null,
            "width": null,
            "min_width": null,
            "border": null,
            "align_items": null,
            "bottom": null,
            "_model_module": "@jupyter-widgets/base",
            "top": null,
            "grid_column": null,
            "overflow_y": null,
            "overflow_x": null,
            "grid_auto_flow": null,
            "grid_area": null,
            "grid_template_columns": null,
            "flex": null,
            "_model_name": "LayoutModel",
            "justify_items": null,
            "grid_row": null,
            "max_height": null,
            "align_content": null,
            "visibility": null,
            "align_self": null,
            "height": null,
            "min_height": null,
            "padding": null,
            "grid_auto_rows": null,
            "grid_gap": null,
            "max_width": null,
            "order": null,
            "_view_module_version": "1.2.0",
            "grid_template_areas": null,
            "object_position": null,
            "object_fit": null,
            "grid_auto_columns": null,
            "margin": null,
            "display": null,
            "left": null
          }
        },
        "23e5bdc8a48048e8b3cd1351bb49e826": {
          "model_module": "@jupyter-widgets/controls",
          "model_name": "HBoxModel",
          "state": {
            "_view_name": "HBoxView",
            "_dom_classes": [],
            "_model_name": "HBoxModel",
            "_view_module": "@jupyter-widgets/controls",
            "_model_module_version": "1.5.0",
            "_view_count": null,
            "_view_module_version": "1.5.0",
            "box_style": "",
            "layout": "IPY_MODEL_d77f704d72cc455d9fb272ef968f690e",
            "_model_module": "@jupyter-widgets/controls",
            "children": [
              "IPY_MODEL_03ea358b9d504d208ccd7ac3f6b8dc48",
              "IPY_MODEL_35b5e2d6c63947dcbdb83f73d2813ae5"
            ]
          }
        },
        "d77f704d72cc455d9fb272ef968f690e": {
          "model_module": "@jupyter-widgets/base",
          "model_name": "LayoutModel",
          "state": {
            "_view_name": "LayoutView",
            "grid_template_rows": null,
            "right": null,
            "justify_content": null,
            "_view_module": "@jupyter-widgets/base",
            "overflow": null,
            "_model_module_version": "1.2.0",
            "_view_count": null,
            "flex_flow": null,
            "width": null,
            "min_width": null,
            "border": null,
            "align_items": null,
            "bottom": null,
            "_model_module": "@jupyter-widgets/base",
            "top": null,
            "grid_column": null,
            "overflow_y": null,
            "overflow_x": null,
            "grid_auto_flow": null,
            "grid_area": null,
            "grid_template_columns": null,
            "flex": null,
            "_model_name": "LayoutModel",
            "justify_items": null,
            "grid_row": null,
            "max_height": null,
            "align_content": null,
            "visibility": null,
            "align_self": null,
            "height": null,
            "min_height": null,
            "padding": null,
            "grid_auto_rows": null,
            "grid_gap": null,
            "max_width": null,
            "order": null,
            "_view_module_version": "1.2.0",
            "grid_template_areas": null,
            "object_position": null,
            "object_fit": null,
            "grid_auto_columns": null,
            "margin": null,
            "display": null,
            "left": null
          }
        },
        "03ea358b9d504d208ccd7ac3f6b8dc48": {
          "model_module": "@jupyter-widgets/controls",
          "model_name": "IntProgressModel",
          "state": {
            "_view_name": "ProgressView",
            "style": "IPY_MODEL_ad69191cec4e4b948906b5540a17f248",
            "_dom_classes": [],
            "description": "",
            "_model_name": "IntProgressModel",
            "bar_style": "success",
            "max": 3342,
            "_view_module": "@jupyter-widgets/controls",
            "_model_module_version": "1.5.0",
            "value": 3342,
            "_view_count": null,
            "_view_module_version": "1.5.0",
            "orientation": "horizontal",
            "min": 0,
            "description_tooltip": null,
            "_model_module": "@jupyter-widgets/controls",
            "layout": "IPY_MODEL_a77cd342b78b4b25a5592c367d66f990"
          }
        },
        "35b5e2d6c63947dcbdb83f73d2813ae5": {
          "model_module": "@jupyter-widgets/controls",
          "model_name": "HTMLModel",
          "state": {
            "_view_name": "HTMLView",
            "style": "IPY_MODEL_659810d729124bc1956d9e2a42e65f07",
            "_dom_classes": [],
            "description": "",
            "_model_name": "HTMLModel",
            "placeholder": "​",
            "_view_module": "@jupyter-widgets/controls",
            "_model_module_version": "1.5.0",
            "value": "100% 3342/3342 [00:00&lt;00:00, 4989.44it/s]",
            "_view_count": null,
            "_view_module_version": "1.5.0",
            "description_tooltip": null,
            "_model_module": "@jupyter-widgets/controls",
            "layout": "IPY_MODEL_5e3b28b34f004b5c9267f70918240634"
          }
        },
        "ad69191cec4e4b948906b5540a17f248": {
          "model_module": "@jupyter-widgets/controls",
          "model_name": "ProgressStyleModel",
          "state": {
            "_view_name": "StyleView",
            "_model_name": "ProgressStyleModel",
            "description_width": "",
            "_view_module": "@jupyter-widgets/base",
            "_model_module_version": "1.5.0",
            "_view_count": null,
            "_view_module_version": "1.2.0",
            "bar_color": null,
            "_model_module": "@jupyter-widgets/controls"
          }
        },
        "a77cd342b78b4b25a5592c367d66f990": {
          "model_module": "@jupyter-widgets/base",
          "model_name": "LayoutModel",
          "state": {
            "_view_name": "LayoutView",
            "grid_template_rows": null,
            "right": null,
            "justify_content": null,
            "_view_module": "@jupyter-widgets/base",
            "overflow": null,
            "_model_module_version": "1.2.0",
            "_view_count": null,
            "flex_flow": null,
            "width": null,
            "min_width": null,
            "border": null,
            "align_items": null,
            "bottom": null,
            "_model_module": "@jupyter-widgets/base",
            "top": null,
            "grid_column": null,
            "overflow_y": null,
            "overflow_x": null,
            "grid_auto_flow": null,
            "grid_area": null,
            "grid_template_columns": null,
            "flex": null,
            "_model_name": "LayoutModel",
            "justify_items": null,
            "grid_row": null,
            "max_height": null,
            "align_content": null,
            "visibility": null,
            "align_self": null,
            "height": null,
            "min_height": null,
            "padding": null,
            "grid_auto_rows": null,
            "grid_gap": null,
            "max_width": null,
            "order": null,
            "_view_module_version": "1.2.0",
            "grid_template_areas": null,
            "object_position": null,
            "object_fit": null,
            "grid_auto_columns": null,
            "margin": null,
            "display": null,
            "left": null
          }
        },
        "659810d729124bc1956d9e2a42e65f07": {
          "model_module": "@jupyter-widgets/controls",
          "model_name": "DescriptionStyleModel",
          "state": {
            "_view_name": "StyleView",
            "_model_name": "DescriptionStyleModel",
            "description_width": "",
            "_view_module": "@jupyter-widgets/base",
            "_model_module_version": "1.5.0",
            "_view_count": null,
            "_view_module_version": "1.2.0",
            "_model_module": "@jupyter-widgets/controls"
          }
        },
        "5e3b28b34f004b5c9267f70918240634": {
          "model_module": "@jupyter-widgets/base",
          "model_name": "LayoutModel",
          "state": {
            "_view_name": "LayoutView",
            "grid_template_rows": null,
            "right": null,
            "justify_content": null,
            "_view_module": "@jupyter-widgets/base",
            "overflow": null,
            "_model_module_version": "1.2.0",
            "_view_count": null,
            "flex_flow": null,
            "width": null,
            "min_width": null,
            "border": null,
            "align_items": null,
            "bottom": null,
            "_model_module": "@jupyter-widgets/base",
            "top": null,
            "grid_column": null,
            "overflow_y": null,
            "overflow_x": null,
            "grid_auto_flow": null,
            "grid_area": null,
            "grid_template_columns": null,
            "flex": null,
            "_model_name": "LayoutModel",
            "justify_items": null,
            "grid_row": null,
            "max_height": null,
            "align_content": null,
            "visibility": null,
            "align_self": null,
            "height": null,
            "min_height": null,
            "padding": null,
            "grid_auto_rows": null,
            "grid_gap": null,
            "max_width": null,
            "order": null,
            "_view_module_version": "1.2.0",
            "grid_template_areas": null,
            "object_position": null,
            "object_fit": null,
            "grid_auto_columns": null,
            "margin": null,
            "display": null,
            "left": null
          }
        }
      }
    }
  },
  "cells": [
    {
      "cell_type": "code",
      "metadata": {
        "id": "TrPRj5wzw1A6",
        "colab_type": "code",
        "outputId": "247c9403-cf6f-49cc-92b7-158309386c02",
        "colab": {
          "base_uri": "https://localhost:8080/",
          "height": 120
        }
      },
      "source": [
        "from google.colab import drive\n",
        "drive.mount('/content/drive')"
      ],
      "execution_count": 1,
      "outputs": [
        {
          "output_type": "stream",
          "text": [
            "Go to this URL in a browser: https://accounts.google.com/o/oauth2/auth?client_id=947318989803-6bn6qk8qdgf4n4g3pfee6491hc0brc4i.apps.googleusercontent.com&redirect_uri=urn%3aietf%3awg%3aoauth%3a2.0%3aoob&response_type=code&scope=email%20https%3a%2f%2fwww.googleapis.com%2fauth%2fdocs.test%20https%3a%2f%2fwww.googleapis.com%2fauth%2fdrive%20https%3a%2f%2fwww.googleapis.com%2fauth%2fdrive.photos.readonly%20https%3a%2f%2fwww.googleapis.com%2fauth%2fpeopleapi.readonly\n",
            "\n",
            "Enter your authorization code:\n",
            "··········\n",
            "Mounted at /content/drive\n"
          ],
          "name": "stdout"
        }
      ]
    },
    {
      "cell_type": "code",
      "metadata": {
        "id": "WQPdeVWMw-E8",
        "colab_type": "code",
        "colab": {
          "base_uri": "https://localhost:8080/",
          "height": 79
        },
        "outputId": "a5505d0a-34f1-4a67-c471-32ff7fad9b7a"
      },
      "source": [
        "import tensorflow as tf\n",
        "import keras\n",
        "import numpy as np\n",
        "import pandas as pd\n",
        "import matplotlib.pyplot as plt\n",
        "import nltk\n",
        "from nltk.stem import WordNetLemmatizer\n",
        "from sklearn.feature_extraction.text import CountVectorizer\n",
        "from keras.layers import Dense, Input, Flatten, Conv2D,Conv1D, MaxPooling2D,MaxPooling1D,GlobalMaxPooling1D,GlobalMaxPooling2D\n",
        "from keras.layers import Reshape, Dropout, Concatenate, LSTM,Bidirectional,BatchNormalization\n",
        "from keras.layers import Flatten,Activation,CuDNNGRU,CuDNNLSTM,LeakyReLU\n",
        "from keras.models import Model\n",
        "from keras.models import Sequential\n",
        "from keras import regularizers,optimizers\n",
        "from sklearn.model_selection import train_test_split\n",
        "from sklearn.preprocessing import normalize, MinMaxScaler\n",
        "from sklearn.metrics import accuracy_score\n",
        "import os\n",
        "import json\n",
        "from IPython.core.display import display, HTML\n",
        "from tqdm import tqdm_notebook\n",
        "import warnings\n",
        "warnings.filterwarnings(\"ignore\")\n",
        "%matplotlib inline\n"
      ],
      "execution_count": 2,
      "outputs": [
        {
          "output_type": "display_data",
          "data": {
            "text/html": [
              "<p style=\"color: red;\">\n",
              "The default version of TensorFlow in Colab will soon switch to TensorFlow 2.x.<br>\n",
              "We recommend you <a href=\"https://www.tensorflow.org/guide/migrate\" target=\"_blank\">upgrade</a> now \n",
              "or ensure your notebook will continue to use TensorFlow 1.x via the <code>%tensorflow_version 1.x</code> magic:\n",
              "<a href=\"https://colab.research.google.com/notebooks/tensorflow_version.ipynb\" target=\"_blank\">more info</a>.</p>\n"
            ],
            "text/plain": [
              "<IPython.core.display.HTML object>"
            ]
          },
          "metadata": {
            "tags": []
          }
        },
        {
          "output_type": "stream",
          "text": [
            "Using TensorFlow backend.\n"
          ],
          "name": "stderr"
        }
      ]
    },
    {
      "cell_type": "code",
      "metadata": {
        "id": "WxF9DzgExGmL",
        "colab_type": "code",
        "colab": {}
      },
      "source": [
        "PAD_ROWS=26\n",
        "PAD_COLS=500"
      ],
      "execution_count": 0,
      "outputs": []
    },
    {
      "cell_type": "code",
      "metadata": {
        "id": "FEH1IbfnxLwT",
        "colab_type": "code",
        "outputId": "9dd4b800-5cce-482a-b7c4-66ed2b7584a2",
        "colab": {
          "base_uri": "https://localhost:8080/",
          "height": 33
        }
      },
      "source": [
        "print(os.listdir('drive/My Drive/DL Dataset'))\n",
        "dir = 'drive/My Drive/DL Dataset/'\n",
        "f = open(os.path.join(dir, 'train.json'), encoding=\"utf8\")\n",
        "data = json.load(f)"
      ],
      "execution_count": 4,
      "outputs": [
        {
          "output_type": "stream",
          "text": [
            "['dev.json', 'train.json', 'valence_1000.h5', 'model_cnn.h5']\n"
          ],
          "name": "stdout"
        }
      ]
    },
    {
      "cell_type": "code",
      "metadata": {
        "id": "W1GZV8TbxM4L",
        "colab_type": "code",
        "outputId": "0eb345a0-0eb2-4546-ce8c-af88ffc9edaf",
        "colab": {
          "base_uri": "https://localhost:8080/",
          "height": 198
        }
      },
      "source": [
        "df = pd.DataFrame(data)\n",
        "df= df.T\n",
        "TOTAL_DATA=df.shape[0]\n",
        "df['labels'] = df[['valence', 'activation']].values.tolist()\n",
        "df.head()"
      ],
      "execution_count": 31,
      "outputs": [
        {
          "output_type": "execute_result",
          "data": {
            "text/html": [
              "<div>\n",
              "<style scoped>\n",
              "    .dataframe tbody tr th:only-of-type {\n",
              "        vertical-align: middle;\n",
              "    }\n",
              "\n",
              "    .dataframe tbody tr th {\n",
              "        vertical-align: top;\n",
              "    }\n",
              "\n",
              "    .dataframe thead th {\n",
              "        text-align: right;\n",
              "    }\n",
              "</style>\n",
              "<table border=\"1\" class=\"dataframe\">\n",
              "  <thead>\n",
              "    <tr style=\"text-align: right;\">\n",
              "      <th></th>\n",
              "      <th>valence</th>\n",
              "      <th>activation</th>\n",
              "      <th>features</th>\n",
              "      <th>labels</th>\n",
              "    </tr>\n",
              "  </thead>\n",
              "  <tbody>\n",
              "    <tr>\n",
              "      <th>0</th>\n",
              "      <td>0</td>\n",
              "      <td>1</td>\n",
              "      <td>[[5.502810676891276, 5.389630715979907, 5.8907...</td>\n",
              "      <td>[0, 1]</td>\n",
              "    </tr>\n",
              "    <tr>\n",
              "      <th>1</th>\n",
              "      <td>1</td>\n",
              "      <td>1</td>\n",
              "      <td>[[5.059076172970736, 5.288492317702101, 4.2633...</td>\n",
              "      <td>[1, 1]</td>\n",
              "    </tr>\n",
              "    <tr>\n",
              "      <th>2</th>\n",
              "      <td>0</td>\n",
              "      <td>1</td>\n",
              "      <td>[[4.218546271669202, 4.961436495859291, 3.6650...</td>\n",
              "      <td>[0, 1]</td>\n",
              "    </tr>\n",
              "    <tr>\n",
              "      <th>3</th>\n",
              "      <td>1</td>\n",
              "      <td>0</td>\n",
              "      <td>[[4.650364321573866, 4.523905028353254, 5.0168...</td>\n",
              "      <td>[1, 0]</td>\n",
              "    </tr>\n",
              "    <tr>\n",
              "      <th>4</th>\n",
              "      <td>0</td>\n",
              "      <td>1</td>\n",
              "      <td>[[3.900221957277269, 2.7325726489808124, 2.565...</td>\n",
              "      <td>[0, 1]</td>\n",
              "    </tr>\n",
              "  </tbody>\n",
              "</table>\n",
              "</div>"
            ],
            "text/plain": [
              "  valence activation                                           features  labels\n",
              "0       0          1  [[5.502810676891276, 5.389630715979907, 5.8907...  [0, 1]\n",
              "1       1          1  [[5.059076172970736, 5.288492317702101, 4.2633...  [1, 1]\n",
              "2       0          1  [[4.218546271669202, 4.961436495859291, 3.6650...  [0, 1]\n",
              "3       1          0  [[4.650364321573866, 4.523905028353254, 5.0168...  [1, 0]\n",
              "4       0          1  [[3.900221957277269, 2.7325726489808124, 2.565...  [0, 1]"
            ]
          },
          "metadata": {
            "tags": []
          },
          "execution_count": 31
        }
      ]
    },
    {
      "cell_type": "code",
      "metadata": {
        "id": "lIVF3ocl0b4l",
        "colab_type": "code",
        "outputId": "790c20a4-419b-46f3-d663-3bfda4759055",
        "colab": {
          "base_uri": "https://localhost:8080/",
          "height": 247,
          "referenced_widgets": [
            "510853e85dc64acdbdc0d0d7b56e825e",
            "b7d1a99949764ec19edc3d5a64d31c66",
            "bf780a165d2f4cfba0b42a80b1495d98",
            "cad227e3defd421fb09af86180bdb5f3",
            "401c0985fa6a448d9c3b645f07fb4ea2",
            "ebf64043817f414182b8eac01a592c67",
            "49eb628da0f04fecbb2b5585fedd81db",
            "23e42bd214dd4b25980a57ff65a6ed9f"
          ]
        }
      },
      "source": [
        "sizes=np.array([])\n",
        "for index, row in tqdm_notebook(df.iterrows()):\n",
        "  sizes = np.append(sizes,np.array(row['features']).shape[0])\n",
        "\n",
        "#Sort according to size to minimize padding\n",
        "df['size']=sizes\n",
        "# df=df.sort_values('size')\n",
        "df.tail()"
      ],
      "execution_count": 32,
      "outputs": [
        {
          "output_type": "display_data",
          "data": {
            "application/vnd.jupyter.widget-view+json": {
              "model_id": "510853e85dc64acdbdc0d0d7b56e825e",
              "version_minor": 0,
              "version_major": 2
            },
            "text/plain": [
              "HBox(children=(IntProgress(value=1, bar_style='info', max=1), HTML(value='')))"
            ]
          },
          "metadata": {
            "tags": []
          }
        },
        {
          "output_type": "stream",
          "text": [
            "\n"
          ],
          "name": "stdout"
        },
        {
          "output_type": "execute_result",
          "data": {
            "text/html": [
              "<div>\n",
              "<style scoped>\n",
              "    .dataframe tbody tr th:only-of-type {\n",
              "        vertical-align: middle;\n",
              "    }\n",
              "\n",
              "    .dataframe tbody tr th {\n",
              "        vertical-align: top;\n",
              "    }\n",
              "\n",
              "    .dataframe thead th {\n",
              "        text-align: right;\n",
              "    }\n",
              "</style>\n",
              "<table border=\"1\" class=\"dataframe\">\n",
              "  <thead>\n",
              "    <tr style=\"text-align: right;\">\n",
              "      <th></th>\n",
              "      <th>valence</th>\n",
              "      <th>activation</th>\n",
              "      <th>features</th>\n",
              "      <th>labels</th>\n",
              "      <th>size</th>\n",
              "    </tr>\n",
              "  </thead>\n",
              "  <tbody>\n",
              "    <tr>\n",
              "      <th>7795</th>\n",
              "      <td>0</td>\n",
              "      <td>1</td>\n",
              "      <td>[[5.831977880602283, 7.114089905559089, 8.5546...</td>\n",
              "      <td>[0, 1]</td>\n",
              "      <td>373.0</td>\n",
              "    </tr>\n",
              "    <tr>\n",
              "      <th>7796</th>\n",
              "      <td>1</td>\n",
              "      <td>1</td>\n",
              "      <td>[[0.5258330439623891, 2.9272643183639397, 3.84...</td>\n",
              "      <td>[1, 1]</td>\n",
              "      <td>292.0</td>\n",
              "    </tr>\n",
              "    <tr>\n",
              "      <th>7797</th>\n",
              "      <td>0</td>\n",
              "      <td>1</td>\n",
              "      <td>[[4.143303134724048, 3.7911807963903073, 4.709...</td>\n",
              "      <td>[0, 1]</td>\n",
              "      <td>128.0</td>\n",
              "    </tr>\n",
              "    <tr>\n",
              "      <th>7798</th>\n",
              "      <td>0</td>\n",
              "      <td>1</td>\n",
              "      <td>[[5.172589067838509, 3.7146765808185527, 3.819...</td>\n",
              "      <td>[0, 1]</td>\n",
              "      <td>73.0</td>\n",
              "    </tr>\n",
              "    <tr>\n",
              "      <th>7799</th>\n",
              "      <td>1</td>\n",
              "      <td>1</td>\n",
              "      <td>[[2.9948686455027067, 5.909227387778969, 6.208...</td>\n",
              "      <td>[1, 1]</td>\n",
              "      <td>134.0</td>\n",
              "    </tr>\n",
              "  </tbody>\n",
              "</table>\n",
              "</div>"
            ],
            "text/plain": [
              "     valence activation  ...  labels   size\n",
              "7795       0          1  ...  [0, 1]  373.0\n",
              "7796       1          1  ...  [1, 1]  292.0\n",
              "7797       0          1  ...  [0, 1]  128.0\n",
              "7798       0          1  ...  [0, 1]   73.0\n",
              "7799       1          1  ...  [1, 1]  134.0\n",
              "\n",
              "[5 rows x 5 columns]"
            ]
          },
          "metadata": {
            "tags": []
          },
          "execution_count": 32
        }
      ]
    },
    {
      "cell_type": "code",
      "metadata": {
        "id": "s3ZxACKSarns",
        "colab_type": "code",
        "outputId": "fc2b496a-6c5e-4966-c1fd-dd46141087df",
        "colab": {
          "base_uri": "https://localhost:8080/",
          "height": 319
        }
      },
      "source": [
        "import matplotlib.pyplot as plt\n",
        "plt.hist(sizes, bins=5)\n",
        "#np.histogram(sizes,bins=10)"
      ],
      "execution_count": 33,
      "outputs": [
        {
          "output_type": "execute_result",
          "data": {
            "text/plain": [
              "(array([6.675e+03, 9.920e+02, 1.190e+02, 1.000e+01, 4.000e+00]),\n",
              " array([  30. ,  365.4,  700.8, 1036.2, 1371.6, 1707. ]),\n",
              " <a list of 5 Patch objects>)"
            ]
          },
          "metadata": {
            "tags": []
          },
          "execution_count": 33
        },
        {
          "output_type": "display_data",
          "data": {
            "image/png": "[encoded data removed]",
            "text/plain": [
              "<Figure size 432x288 with 1 Axes>"
            ]
          },
          "metadata": {
            "tags": []
          }
        }
      ]
    },
    {
      "cell_type": "code",
      "metadata": {
        "id": "n-JCVmG8Apea",
        "colab_type": "code",
        "colab": {}
      },
      "source": [
        ""
      ],
      "execution_count": 0,
      "outputs": []
    },
    {
      "cell_type": "code",
      "metadata": {
        "id": "bahMXkOdyKQS",
        "colab_type": "code",
        "outputId": "3ad6a3ca-2b6b-42ae-879a-e00d39e59ee2",
        "colab": {
          "base_uri": "https://localhost:8080/",
          "height": 83,
          "referenced_widgets": [
            "11273fb2e91042e2b30fbc17b3790e97",
            "b4bd2ff2b86f4e3697da164b4c48eb03",
            "d5fe1d82d3f64f228a75e3f3c4aa1df4",
            "59c9c4232b324629965bc4e0a92abf86",
            "6df9461fa02e46b7a9b1ccb16e1974b9",
            "56d9365a85ec465f87e34d22aa72dff0",
            "5c2c8792ef7342db851a2a8ac12bcfb3",
            "602ef84eecf14421b0434cb6f178fb7b"
          ]
        }
      },
      "source": [
        "# For input to CNN : Shape: (N x 26)\n",
        "feat = np.zeros((TOTAL_DATA,PAD_COLS, PAD_ROWS),dtype=np.float32)\n",
        "feature_set=pd.DataFrame(np.zeros((TOTAL_DATA,2),dtype=np.float32),columns=['features','label'])\n",
        "feature_set['features']=df['features']\n",
        "code=0\n",
        "split_index = int(TOTAL_DATA*0.9)\n",
        "scaler = MinMaxScaler()\n",
        "\n",
        "# Use only 800 features to learn, cropping the rest\n",
        "for i in tqdm_notebook(range(TOTAL_DATA)):\n",
        "    x = np.array(df['features'][i])[:PAD_COLS,:]\n",
        "    [r,c] = x.shape\n",
        "    feat[i,:r,:c] = scaler.fit_transform(x)   # Scale to [0,1] range\n",
        "    feature_set['features'][i] = feat[i]\n",
        "    v = df['valence'][i]\n",
        "    a = df['activation'][i]\n",
        "    \n",
        "    if v==0 and a==0:\n",
        "        code=0\n",
        "    elif v==0 and a==1:\n",
        "        code=1\n",
        "    elif v==1 and a==0:\n",
        "        code=2\n",
        "    elif v==1 and a==1:\n",
        "        code=3\n",
        "    feature_set['label'][i]=code\n",
        "print(feat.shape)"
      ],
      "execution_count": 57,
      "outputs": [
        {
          "output_type": "display_data",
          "data": {
            "application/vnd.jupyter.widget-view+json": {
              "model_id": "11273fb2e91042e2b30fbc17b3790e97",
              "version_minor": 0,
              "version_major": 2
            },
            "text/plain": [
              "HBox(children=(IntProgress(value=0, max=7800), HTML(value='')))"
            ]
          },
          "metadata": {
            "tags": []
          }
        },
        {
          "output_type": "stream",
          "text": [
            "\n",
            "(7800, 500, 26)\n"
          ],
          "name": "stdout"
        }
      ]
    },
    {
      "cell_type": "code",
      "metadata": {
        "id": "1C_lDZAq2sPk",
        "colab_type": "code",
        "colab": {}
      },
      "source": [
        "labels=feature_set['label'].astype(int)\n",
        "labels = pd.get_dummies(feature_set['label']).values.tolist()\n",
        "X = feat\n",
        "Y = np.array(labels)\n",
        "X_train, X_test, y_train, y_test = train_test_split(X, Y, test_size=0.01, random_state=96)\n",
        "input_dim=X[0].shape"
      ],
      "execution_count": 0,
      "outputs": []
    },
    {
      "cell_type": "code",
      "metadata": {
        "id": "u9oclfjVAeRK",
        "colab_type": "code",
        "outputId": "f7d33098-6106-484b-9af9-0dcc0c581f48",
        "colab": {
          "base_uri": "https://localhost:8080/",
          "height": 33
        }
      },
      "source": [
        "input_dim"
      ],
      "execution_count": 59,
      "outputs": [
        {
          "output_type": "execute_result",
          "data": {
            "text/plain": [
              "(500, 26)"
            ]
          },
          "metadata": {
            "tags": []
          },
          "execution_count": 59
        }
      ]
    },
    {
      "cell_type": "code",
      "metadata": {
        "id": "yofqZdHewh3r",
        "colab_type": "code",
        "outputId": "f87e3d6c-968d-478d-d2b9-5aa154558228",
        "colab": {
          "base_uri": "https://localhost:8080/",
          "height": 1000
        }
      },
      "source": [
        "warnings.filterwarnings(\"ignore\")\n",
        "model = Sequential()\n",
        "model.add(Conv1D(filters=256, kernel_size=9, padding='same',input_shape=input_dim,name='Conv1'))\n",
        "model.add(LeakyReLU(alpha=0.3))\n",
        "model.add(BatchNormalization())\n",
        "model.add(Conv1D(filters=256, kernel_size=6, padding='same',name='Conv2'))\n",
        "model.add(LeakyReLU(alpha=0.3))\n",
        "model.add(Dropout(0.5))\n",
        "model.add(BatchNormalization())\n",
        "model.add(Conv1D(filters=128, kernel_size=3, padding='same',name='Conv3'))\n",
        "model.add(LeakyReLU(alpha=0.3))\n",
        "model.add(Dropout(0.5))\n",
        "model.add(BatchNormalization())\n",
        "model.add(GlobalMaxPooling1D())\n",
        "model.add(Dense(4, activation='softmax'))\n",
        "\n",
        "sgd = optimizers.SGD(lr=0.001, decay=1e-4, momentum=0.9, nesterov=True)\n",
        "model.compile(optimizer=sgd,loss='categorical_crossentropy',metrics=['categorical_accuracy'])\n",
        "\n",
        "model.fit(X_train, y_train, verbose=1, epochs=200, validation_data=(X_test, y_test), shuffle=True)  # train the model\n",
        "#model.fit(X, Y, verbose=1, epochs=200, validation_data=(X_test, y_test), shuffle=True)  # train the model, verbose=1, epochs=100, shuffle=True)  # train the model"
      ],
      "execution_count": 0,
      "outputs": [
        {
          "output_type": "stream",
          "text": [
            "Train on 7410 samples, validate on 390 samples\n",
            "Epoch 1/200\n",
            "7410/7410 [==============================] - 7s 1ms/step - loss: 1.6957 - categorical_accuracy: 0.3617 - val_loss: 1.3319 - val_categorical_accuracy: 0.3000\n",
            "Epoch 2/200\n",
            "7410/7410 [==============================] - 5s 645us/step - loss: 1.3450 - categorical_accuracy: 0.3942 - val_loss: 1.3389 - val_categorical_accuracy: 0.3077\n",
            "Epoch 3/200\n",
            "7410/7410 [==============================] - 5s 643us/step - loss: 1.2748 - categorical_accuracy: 0.4117 - val_loss: 1.2904 - val_categorical_accuracy: 0.4436\n",
            "Epoch 4/200\n",
            "7410/7410 [==============================] - 5s 643us/step - loss: 1.2672 - categorical_accuracy: 0.4204 - val_loss: 1.2585 - val_categorical_accuracy: 0.4487\n",
            "Epoch 5/200\n",
            "7410/7410 [==============================] - 5s 646us/step - loss: 1.2580 - categorical_accuracy: 0.4201 - val_loss: 1.3550 - val_categorical_accuracy: 0.3410\n",
            "Epoch 6/200\n",
            "7410/7410 [==============================] - 5s 649us/step - loss: 1.2302 - categorical_accuracy: 0.4306 - val_loss: 1.2880 - val_categorical_accuracy: 0.3769\n",
            "Epoch 7/200\n",
            "7410/7410 [==============================] - 5s 648us/step - loss: 1.2191 - categorical_accuracy: 0.4387 - val_loss: 1.2254 - val_categorical_accuracy: 0.4462\n",
            "Epoch 8/200\n",
            "7410/7410 [==============================] - 5s 651us/step - loss: 1.1968 - categorical_accuracy: 0.4448 - val_loss: 1.2390 - val_categorical_accuracy: 0.4205\n",
            "Epoch 9/200\n",
            "7410/7410 [==============================] - 5s 653us/step - loss: 1.2084 - categorical_accuracy: 0.4362 - val_loss: 1.2225 - val_categorical_accuracy: 0.4462\n",
            "Epoch 10/200\n",
            "7410/7410 [==============================] - 5s 643us/step - loss: 1.1966 - categorical_accuracy: 0.4543 - val_loss: 1.2519 - val_categorical_accuracy: 0.4051\n",
            "Epoch 11/200\n",
            "7410/7410 [==============================] - 5s 634us/step - loss: 1.1938 - categorical_accuracy: 0.4568 - val_loss: 1.2537 - val_categorical_accuracy: 0.4077\n",
            "Epoch 12/200\n",
            "7410/7410 [==============================] - 5s 648us/step - loss: 1.1767 - categorical_accuracy: 0.4590 - val_loss: 1.2021 - val_categorical_accuracy: 0.4026\n",
            "Epoch 13/200\n",
            "7410/7410 [==============================] - 5s 636us/step - loss: 1.1792 - categorical_accuracy: 0.4621 - val_loss: 1.2761 - val_categorical_accuracy: 0.4000\n",
            "Epoch 14/200\n",
            "7410/7410 [==============================] - 5s 643us/step - loss: 1.1712 - categorical_accuracy: 0.4623 - val_loss: 1.2108 - val_categorical_accuracy: 0.4564\n",
            "Epoch 15/200\n",
            "7410/7410 [==============================] - 5s 637us/step - loss: 1.1658 - categorical_accuracy: 0.4669 - val_loss: 1.1972 - val_categorical_accuracy: 0.4026\n",
            "Epoch 16/200\n",
            "7410/7410 [==============================] - 5s 638us/step - loss: 1.1601 - categorical_accuracy: 0.4664 - val_loss: 1.1869 - val_categorical_accuracy: 0.4256\n",
            "Epoch 17/200\n",
            "7410/7410 [==============================] - 5s 636us/step - loss: 1.1586 - categorical_accuracy: 0.4688 - val_loss: 1.1786 - val_categorical_accuracy: 0.4513\n",
            "Epoch 18/200\n",
            "7410/7410 [==============================] - 5s 652us/step - loss: 1.1556 - categorical_accuracy: 0.4673 - val_loss: 1.2201 - val_categorical_accuracy: 0.4692\n",
            "Epoch 19/200\n",
            "7410/7410 [==============================] - 5s 652us/step - loss: 1.1495 - categorical_accuracy: 0.4765 - val_loss: 1.2214 - val_categorical_accuracy: 0.4308\n",
            "Epoch 20/200\n",
            "7410/7410 [==============================] - 5s 655us/step - loss: 1.1413 - categorical_accuracy: 0.4825 - val_loss: 1.2004 - val_categorical_accuracy: 0.4641\n",
            "Epoch 21/200\n",
            "7410/7410 [==============================] - 5s 647us/step - loss: 1.1376 - categorical_accuracy: 0.4841 - val_loss: 1.1817 - val_categorical_accuracy: 0.4231\n",
            "Epoch 22/200\n",
            "7410/7410 [==============================] - 5s 649us/step - loss: 1.1457 - categorical_accuracy: 0.4792 - val_loss: 1.2075 - val_categorical_accuracy: 0.4513\n",
            "Epoch 23/200\n",
            "7410/7410 [==============================] - 5s 653us/step - loss: 1.1416 - categorical_accuracy: 0.4789 - val_loss: 1.1708 - val_categorical_accuracy: 0.4667\n",
            "Epoch 24/200\n",
            "7410/7410 [==============================] - 5s 654us/step - loss: 1.1362 - categorical_accuracy: 0.4834 - val_loss: 1.1817 - val_categorical_accuracy: 0.4282\n",
            "Epoch 25/200\n",
            "7410/7410 [==============================] - 5s 658us/step - loss: 1.1327 - categorical_accuracy: 0.4860 - val_loss: 1.1811 - val_categorical_accuracy: 0.4615\n",
            "Epoch 26/200\n",
            "7410/7410 [==============================] - 5s 650us/step - loss: 1.1265 - categorical_accuracy: 0.4924 - val_loss: 1.2188 - val_categorical_accuracy: 0.4564\n",
            "Epoch 27/200\n",
            "7410/7410 [==============================] - 5s 653us/step - loss: 1.1300 - categorical_accuracy: 0.4922 - val_loss: 1.1890 - val_categorical_accuracy: 0.4692\n",
            "Epoch 28/200\n",
            "7410/7410 [==============================] - 5s 662us/step - loss: 1.1242 - categorical_accuracy: 0.4964 - val_loss: 1.1696 - val_categorical_accuracy: 0.4769\n",
            "Epoch 29/200\n",
            "7410/7410 [==============================] - 5s 639us/step - loss: 1.1298 - categorical_accuracy: 0.4970 - val_loss: 1.1773 - val_categorical_accuracy: 0.4590\n",
            "Epoch 30/200\n",
            "7410/7410 [==============================] - 5s 648us/step - loss: 1.1146 - categorical_accuracy: 0.4988 - val_loss: 1.1624 - val_categorical_accuracy: 0.4846\n",
            "Epoch 31/200\n",
            "7410/7410 [==============================] - 5s 647us/step - loss: 1.1196 - categorical_accuracy: 0.4938 - val_loss: 1.1813 - val_categorical_accuracy: 0.4718\n",
            "Epoch 32/200\n",
            "7410/7410 [==============================] - 5s 644us/step - loss: 1.1096 - categorical_accuracy: 0.4997 - val_loss: 1.1714 - val_categorical_accuracy: 0.4641\n",
            "Epoch 33/200\n",
            "7410/7410 [==============================] - 5s 643us/step - loss: 1.1121 - categorical_accuracy: 0.5030 - val_loss: 1.1674 - val_categorical_accuracy: 0.4564\n",
            "Epoch 34/200\n",
            "7410/7410 [==============================] - 5s 634us/step - loss: 1.1124 - categorical_accuracy: 0.5034 - val_loss: 1.1880 - val_categorical_accuracy: 0.4385\n",
            "Epoch 35/200\n",
            "7410/7410 [==============================] - 5s 642us/step - loss: 1.1077 - categorical_accuracy: 0.5085 - val_loss: 1.1647 - val_categorical_accuracy: 0.4615\n",
            "Epoch 36/200\n",
            "7410/7410 [==============================] - 5s 648us/step - loss: 1.1047 - categorical_accuracy: 0.5009 - val_loss: 1.1826 - val_categorical_accuracy: 0.4385\n",
            "Epoch 37/200\n",
            "7410/7410 [==============================] - 5s 646us/step - loss: 1.1034 - categorical_accuracy: 0.5121 - val_loss: 1.1800 - val_categorical_accuracy: 0.4564\n",
            "Epoch 38/200\n",
            "7410/7410 [==============================] - 5s 639us/step - loss: 1.0932 - categorical_accuracy: 0.5124 - val_loss: 1.2320 - val_categorical_accuracy: 0.4590\n",
            "Epoch 39/200\n",
            "7410/7410 [==============================] - 5s 650us/step - loss: 1.0947 - categorical_accuracy: 0.5062 - val_loss: 1.1520 - val_categorical_accuracy: 0.4744\n",
            "Epoch 40/200\n",
            "7410/7410 [==============================] - 5s 644us/step - loss: 1.0961 - categorical_accuracy: 0.5123 - val_loss: 1.1953 - val_categorical_accuracy: 0.4692\n",
            "Epoch 41/200\n",
            "7410/7410 [==============================] - 5s 653us/step - loss: 1.0943 - categorical_accuracy: 0.5051 - val_loss: 1.2241 - val_categorical_accuracy: 0.4564\n",
            "Epoch 42/200\n",
            "7410/7410 [==============================] - 5s 642us/step - loss: 1.0871 - categorical_accuracy: 0.5116 - val_loss: 1.1546 - val_categorical_accuracy: 0.4872\n",
            "Epoch 43/200\n",
            "7410/7410 [==============================] - 5s 644us/step - loss: 1.0828 - categorical_accuracy: 0.5170 - val_loss: 1.2035 - val_categorical_accuracy: 0.4000\n",
            "Epoch 44/200\n",
            "7410/7410 [==============================] - 5s 642us/step - loss: 1.0752 - categorical_accuracy: 0.5304 - val_loss: 1.1617 - val_categorical_accuracy: 0.4795\n",
            "Epoch 45/200\n",
            "7410/7410 [==============================] - 5s 645us/step - loss: 1.0897 - categorical_accuracy: 0.5131 - val_loss: 1.1562 - val_categorical_accuracy: 0.4590\n",
            "Epoch 46/200\n",
            "7410/7410 [==============================] - 5s 644us/step - loss: 1.0847 - categorical_accuracy: 0.5135 - val_loss: 1.1544 - val_categorical_accuracy: 0.4974\n",
            "Epoch 47/200\n",
            "7410/7410 [==============================] - 5s 642us/step - loss: 1.0871 - categorical_accuracy: 0.5148 - val_loss: 1.1822 - val_categorical_accuracy: 0.4846\n",
            "Epoch 48/200\n",
            "7410/7410 [==============================] - 5s 639us/step - loss: 1.0749 - categorical_accuracy: 0.5189 - val_loss: 1.1495 - val_categorical_accuracy: 0.4718\n",
            "Epoch 49/200\n",
            "7410/7410 [==============================] - 5s 647us/step - loss: 1.0772 - categorical_accuracy: 0.5235 - val_loss: 1.1474 - val_categorical_accuracy: 0.4769\n",
            "Epoch 50/200\n",
            "7410/7410 [==============================] - 5s 655us/step - loss: 1.0705 - categorical_accuracy: 0.5293 - val_loss: 1.1537 - val_categorical_accuracy: 0.4846\n",
            "Epoch 51/200\n",
            "7410/7410 [==============================] - 5s 668us/step - loss: 1.0723 - categorical_accuracy: 0.5139 - val_loss: 1.1643 - val_categorical_accuracy: 0.4513\n",
            "Epoch 52/200\n",
            "7410/7410 [==============================] - 5s 645us/step - loss: 1.0682 - categorical_accuracy: 0.5285 - val_loss: 1.1478 - val_categorical_accuracy: 0.4744\n",
            "Epoch 53/200\n",
            "7410/7410 [==============================] - 5s 641us/step - loss: 1.0645 - categorical_accuracy: 0.5283 - val_loss: 1.1474 - val_categorical_accuracy: 0.4897\n",
            "Epoch 54/200\n",
            "7410/7410 [==============================] - 5s 642us/step - loss: 1.0717 - categorical_accuracy: 0.5286 - val_loss: 1.1380 - val_categorical_accuracy: 0.4821\n",
            "Epoch 55/200\n",
            "7410/7410 [==============================] - 5s 639us/step - loss: 1.0619 - categorical_accuracy: 0.5362 - val_loss: 1.2074 - val_categorical_accuracy: 0.4744\n",
            "Epoch 56/200\n",
            "7410/7410 [==============================] - 5s 654us/step - loss: 1.0667 - categorical_accuracy: 0.5258 - val_loss: 1.1677 - val_categorical_accuracy: 0.4462\n",
            "Epoch 57/200\n",
            "7410/7410 [==============================] - 5s 651us/step - loss: 1.0644 - categorical_accuracy: 0.5258 - val_loss: 1.1354 - val_categorical_accuracy: 0.5000\n",
            "Epoch 58/200\n",
            "7410/7410 [==============================] - 5s 643us/step - loss: 1.0513 - categorical_accuracy: 0.5335 - val_loss: 1.1475 - val_categorical_accuracy: 0.4821\n",
            "Epoch 59/200\n",
            "7410/7410 [==============================] - 5s 645us/step - loss: 1.0553 - categorical_accuracy: 0.5364 - val_loss: 1.1490 - val_categorical_accuracy: 0.4974\n",
            "Epoch 60/200\n",
            "7410/7410 [==============================] - 5s 647us/step - loss: 1.0485 - categorical_accuracy: 0.5318 - val_loss: 1.1807 - val_categorical_accuracy: 0.4231\n",
            "Epoch 61/200\n",
            "7410/7410 [==============================] - 5s 653us/step - loss: 1.0539 - categorical_accuracy: 0.5375 - val_loss: 1.3556 - val_categorical_accuracy: 0.3821\n",
            "Epoch 62/200\n",
            "7410/7410 [==============================] - 5s 679us/step - loss: 1.0442 - categorical_accuracy: 0.5391 - val_loss: 1.1596 - val_categorical_accuracy: 0.4590\n",
            "Epoch 63/200\n",
            "7410/7410 [==============================] - 5s 664us/step - loss: 1.0410 - categorical_accuracy: 0.5456 - val_loss: 1.1505 - val_categorical_accuracy: 0.4846\n",
            "Epoch 64/200\n",
            "7410/7410 [==============================] - 5s 652us/step - loss: 1.0468 - categorical_accuracy: 0.5422 - val_loss: 1.1958 - val_categorical_accuracy: 0.4538\n",
            "Epoch 65/200\n",
            "7410/7410 [==============================] - 5s 650us/step - loss: 1.0396 - categorical_accuracy: 0.5441 - val_loss: 1.1269 - val_categorical_accuracy: 0.4692\n",
            "Epoch 66/200\n",
            "7410/7410 [==============================] - 5s 651us/step - loss: 1.0455 - categorical_accuracy: 0.5417 - val_loss: 1.1653 - val_categorical_accuracy: 0.4590\n",
            "Epoch 67/200\n",
            "7410/7410 [==============================] - 5s 649us/step - loss: 1.0393 - categorical_accuracy: 0.5470 - val_loss: 1.1652 - val_categorical_accuracy: 0.4795\n",
            "Epoch 68/200\n",
            "7410/7410 [==============================] - 5s 652us/step - loss: 1.0364 - categorical_accuracy: 0.5507 - val_loss: 1.1434 - val_categorical_accuracy: 0.4692\n",
            "Epoch 69/200\n",
            "7410/7410 [==============================] - 5s 656us/step - loss: 1.0323 - categorical_accuracy: 0.5503 - val_loss: 1.1457 - val_categorical_accuracy: 0.4846\n",
            "Epoch 70/200\n",
            "7410/7410 [==============================] - 5s 654us/step - loss: 1.0291 - categorical_accuracy: 0.5464 - val_loss: 1.1381 - val_categorical_accuracy: 0.4846\n",
            "Epoch 71/200\n",
            "7410/7410 [==============================] - 5s 652us/step - loss: 1.0336 - categorical_accuracy: 0.5464 - val_loss: 1.1303 - val_categorical_accuracy: 0.5051\n",
            "Epoch 72/200\n",
            "7410/7410 [==============================] - 5s 659us/step - loss: 1.0282 - categorical_accuracy: 0.5526 - val_loss: 1.1495 - val_categorical_accuracy: 0.5077\n",
            "Epoch 73/200\n",
            "7410/7410 [==============================] - 5s 652us/step - loss: 1.0351 - categorical_accuracy: 0.5503 - val_loss: 1.1316 - val_categorical_accuracy: 0.5051\n",
            "Epoch 74/200\n",
            "7410/7410 [==============================] - 5s 657us/step - loss: 1.0273 - categorical_accuracy: 0.5464 - val_loss: 1.2609 - val_categorical_accuracy: 0.4718\n",
            "Epoch 75/200\n",
            "7410/7410 [==============================] - 5s 651us/step - loss: 1.0285 - categorical_accuracy: 0.5591 - val_loss: 1.1256 - val_categorical_accuracy: 0.4846\n",
            "Epoch 76/200\n",
            "7410/7410 [==============================] - 5s 654us/step - loss: 1.0195 - categorical_accuracy: 0.5551 - val_loss: 1.1304 - val_categorical_accuracy: 0.4872\n",
            "Epoch 77/200\n",
            "7410/7410 [==============================] - 5s 649us/step - loss: 1.0251 - categorical_accuracy: 0.5489 - val_loss: 1.1464 - val_categorical_accuracy: 0.4897\n",
            "Epoch 78/200\n",
            "7410/7410 [==============================] - 5s 653us/step - loss: 1.0207 - categorical_accuracy: 0.5580 - val_loss: 1.1332 - val_categorical_accuracy: 0.4795\n",
            "Epoch 79/200\n",
            "7410/7410 [==============================] - 5s 645us/step - loss: 1.0142 - categorical_accuracy: 0.5607 - val_loss: 1.1242 - val_categorical_accuracy: 0.4821\n",
            "Epoch 80/200\n",
            "7410/7410 [==============================] - 5s 641us/step - loss: 1.0061 - categorical_accuracy: 0.5687 - val_loss: 1.1625 - val_categorical_accuracy: 0.4641\n",
            "Epoch 81/200\n",
            "7410/7410 [==============================] - 5s 649us/step - loss: 1.0158 - categorical_accuracy: 0.5572 - val_loss: 1.1906 - val_categorical_accuracy: 0.4436\n",
            "Epoch 82/200\n",
            "7410/7410 [==============================] - 5s 658us/step - loss: 1.0077 - categorical_accuracy: 0.5669 - val_loss: 1.1814 - val_categorical_accuracy: 0.4538\n",
            "Epoch 83/200\n",
            "7410/7410 [==============================] - 5s 637us/step - loss: 1.0126 - categorical_accuracy: 0.5572 - val_loss: 1.1552 - val_categorical_accuracy: 0.4821\n",
            "Epoch 84/200\n",
            "7410/7410 [==============================] - 5s 646us/step - loss: 1.0068 - categorical_accuracy: 0.5669 - val_loss: 1.1401 - val_categorical_accuracy: 0.4641\n",
            "Epoch 85/200\n",
            "7410/7410 [==============================] - 5s 645us/step - loss: 1.0033 - categorical_accuracy: 0.5695 - val_loss: 1.1442 - val_categorical_accuracy: 0.4410\n",
            "Epoch 86/200\n",
            "7410/7410 [==============================] - 5s 662us/step - loss: 0.9957 - categorical_accuracy: 0.5738 - val_loss: 1.1815 - val_categorical_accuracy: 0.4795\n",
            "Epoch 87/200\n",
            "7410/7410 [==============================] - 5s 662us/step - loss: 1.0052 - categorical_accuracy: 0.5640 - val_loss: 1.1310 - val_categorical_accuracy: 0.4872\n",
            "Epoch 88/200\n",
            "7410/7410 [==============================] - 5s 656us/step - loss: 0.9992 - categorical_accuracy: 0.5675 - val_loss: 1.1298 - val_categorical_accuracy: 0.4974\n",
            "Epoch 89/200\n",
            "7410/7410 [==============================] - 5s 654us/step - loss: 1.0017 - categorical_accuracy: 0.5665 - val_loss: 1.1475 - val_categorical_accuracy: 0.4795\n",
            "Epoch 90/200\n",
            "7410/7410 [==============================] - 5s 648us/step - loss: 0.9951 - categorical_accuracy: 0.5633 - val_loss: 1.1179 - val_categorical_accuracy: 0.5000\n",
            "Epoch 91/200\n",
            "7410/7410 [==============================] - 5s 665us/step - loss: 0.9968 - categorical_accuracy: 0.5677 - val_loss: 1.2111 - val_categorical_accuracy: 0.4692\n",
            "Epoch 92/200\n",
            "7410/7410 [==============================] - 5s 649us/step - loss: 0.9900 - categorical_accuracy: 0.5730 - val_loss: 1.1870 - val_categorical_accuracy: 0.4667\n",
            "Epoch 93/200\n",
            "7410/7410 [==============================] - 5s 655us/step - loss: 0.9918 - categorical_accuracy: 0.5729 - val_loss: 1.1436 - val_categorical_accuracy: 0.4769\n",
            "Epoch 94/200\n",
            "7410/7410 [==============================] - 5s 653us/step - loss: 0.9881 - categorical_accuracy: 0.5717 - val_loss: 1.1826 - val_categorical_accuracy: 0.4564\n",
            "Epoch 95/200\n",
            "7410/7410 [==============================] - 5s 658us/step - loss: 0.9885 - categorical_accuracy: 0.5711 - val_loss: 1.2337 - val_categorical_accuracy: 0.4359\n",
            "Epoch 96/200\n",
            "7410/7410 [==============================] - 5s 649us/step - loss: 0.9815 - categorical_accuracy: 0.5771 - val_loss: 1.2420 - val_categorical_accuracy: 0.4154\n",
            "Epoch 97/200\n",
            "7410/7410 [==============================] - 5s 654us/step - loss: 0.9869 - categorical_accuracy: 0.5777 - val_loss: 1.1521 - val_categorical_accuracy: 0.4795\n",
            "Epoch 98/200\n",
            "7410/7410 [==============================] - 5s 657us/step - loss: 0.9830 - categorical_accuracy: 0.5749 - val_loss: 1.1747 - val_categorical_accuracy: 0.4692\n",
            "Epoch 99/200\n",
            "7410/7410 [==============================] - 5s 656us/step - loss: 0.9763 - categorical_accuracy: 0.5788 - val_loss: 1.1701 - val_categorical_accuracy: 0.5103\n",
            "Epoch 100/200\n",
            "7410/7410 [==============================] - 5s 663us/step - loss: 0.9771 - categorical_accuracy: 0.5756 - val_loss: 1.1386 - val_categorical_accuracy: 0.4846\n",
            "Epoch 101/200\n",
            "7410/7410 [==============================] - 5s 658us/step - loss: 0.9724 - categorical_accuracy: 0.5803 - val_loss: 1.1418 - val_categorical_accuracy: 0.5026\n",
            "Epoch 102/200\n",
            "7410/7410 [==============================] - 5s 658us/step - loss: 0.9758 - categorical_accuracy: 0.5794 - val_loss: 1.1391 - val_categorical_accuracy: 0.4795\n",
            "Epoch 103/200\n",
            "7410/7410 [==============================] - 5s 657us/step - loss: 0.9774 - categorical_accuracy: 0.5781 - val_loss: 1.1917 - val_categorical_accuracy: 0.4744\n",
            "Epoch 104/200\n",
            "7410/7410 [==============================] - 5s 661us/step - loss: 0.9706 - categorical_accuracy: 0.5914 - val_loss: 1.1116 - val_categorical_accuracy: 0.5256\n",
            "Epoch 105/200\n",
            "7410/7410 [==============================] - 5s 654us/step - loss: 0.9659 - categorical_accuracy: 0.5893 - val_loss: 1.1128 - val_categorical_accuracy: 0.4923\n",
            "Epoch 106/200\n",
            "7410/7410 [==============================] - 5s 656us/step - loss: 0.9580 - categorical_accuracy: 0.5876 - val_loss: 1.1695 - val_categorical_accuracy: 0.4667\n",
            "Epoch 107/200\n",
            "7410/7410 [==============================] - 5s 651us/step - loss: 0.9633 - categorical_accuracy: 0.5934 - val_loss: 1.1273 - val_categorical_accuracy: 0.4821\n",
            "Epoch 108/200\n",
            "7410/7410 [==============================] - 5s 659us/step - loss: 0.9638 - categorical_accuracy: 0.5950 - val_loss: 1.1741 - val_categorical_accuracy: 0.4949\n",
            "Epoch 109/200\n",
            "7410/7410 [==============================] - 5s 659us/step - loss: 0.9662 - categorical_accuracy: 0.5887 - val_loss: 1.1074 - val_categorical_accuracy: 0.5103\n",
            "Epoch 110/200\n",
            "7410/7410 [==============================] - 5s 650us/step - loss: 0.9597 - categorical_accuracy: 0.5941 - val_loss: 1.1489 - val_categorical_accuracy: 0.4692\n",
            "Epoch 111/200\n",
            "7410/7410 [==============================] - 5s 653us/step - loss: 0.9663 - categorical_accuracy: 0.5854 - val_loss: 1.2185 - val_categorical_accuracy: 0.4410\n",
            "Epoch 112/200\n",
            "7410/7410 [==============================] - 5s 659us/step - loss: 0.9521 - categorical_accuracy: 0.5938 - val_loss: 1.1403 - val_categorical_accuracy: 0.4949\n",
            "Epoch 113/200\n",
            "7410/7410 [==============================] - 5s 652us/step - loss: 0.9534 - categorical_accuracy: 0.5903 - val_loss: 1.2679 - val_categorical_accuracy: 0.4436\n",
            "Epoch 114/200\n",
            "7410/7410 [==============================] - 5s 672us/step - loss: 0.9579 - categorical_accuracy: 0.5861 - val_loss: 1.1267 - val_categorical_accuracy: 0.4821\n",
            "Epoch 115/200\n",
            "5024/7410 [===================>..........] - ETA: 1s - loss: 0.9477 - categorical_accuracy: 0.5969"
          ],
          "name": "stdout"
        }
      ]
    },
    {
      "cell_type": "code",
      "metadata": {
        "id": "HxsPbEMh2BQg",
        "colab_type": "code",
        "colab": {}
      },
      "source": [
        "#Saving a model Syntax:\n",
        "#model.save(\"drive/My Drive/DL Dataset/model_cnn.h5\")"
      ],
      "execution_count": 0,
      "outputs": []
    },
    {
      "cell_type": "code",
      "metadata": {
        "id": "MCH24c3ZAtve",
        "colab_type": "code",
        "colab": {}
      },
      "source": [
        "f = open(os.path.join(dir, 'dev.json'), encoding=\"utf8\")\n",
        "dev = json.load(f)"
      ],
      "execution_count": 0,
      "outputs": []
    },
    {
      "cell_type": "code",
      "metadata": {
        "id": "s22p0lRYAz8F",
        "colab_type": "code",
        "colab": {
          "base_uri": "https://localhost:8080/",
          "height": 83,
          "referenced_widgets": [
            "d074b936030e4eb6a68584b4955f8262",
            "4ec2f4af18aa424cbb97aec3abada900",
            "0a2e976ca8344d60a5ad687ff4e53190",
            "8c6b8de1f0804187a9fb13a8c08b49a6",
            "c02a097280cf44529b48464781fcedb1",
            "5a6a6c2a182f44198906c150c5347d4c",
            "3fbfa1fee33d4821a3aea6a25b44467e",
            "3cae58ac205f4656997f1733f22d2150"
          ]
        },
        "outputId": "b65ff3b1-d6dd-48df-d25b-f843b3feef90"
      },
      "source": [
        "df = pd.DataFrame(dev)\n",
        "df= df.T\n",
        "TOTAL_DATA=df.shape[0]\n",
        "tst = np.zeros((TOTAL_DATA,PAD_COLS, PAD_ROWS),dtype=np.float32)\n",
        "scaler = MinMaxScaler()\n",
        "\n",
        "\n",
        "for i in tqdm_notebook(range(TOTAL_DATA)):\n",
        "    x = np.array(df['features'][i])[:PAD_COLS,:]\n",
        "    [r,c] = x.shape\n",
        "    tst[i,:r,:c] = scaler.fit_transform(x)   # Scale to [0,1] range\n",
        "    \n",
        "print(tst.shape)"
      ],
      "execution_count": 19,
      "outputs": [
        {
          "output_type": "display_data",
          "data": {
            "application/vnd.jupyter.widget-view+json": {
              "model_id": "d074b936030e4eb6a68584b4955f8262",
              "version_minor": 0,
              "version_major": 2
            },
            "text/plain": [
              "HBox(children=(IntProgress(value=0, max=3342), HTML(value='')))"
            ]
          },
          "metadata": {
            "tags": []
          }
        },
        {
          "output_type": "stream",
          "text": [
            "\n",
            "(3342, 600, 26)\n"
          ],
          "name": "stdout"
        }
      ]
    },
    {
      "cell_type": "code",
      "metadata": {
        "id": "RjVS3HhF3o-G",
        "colab_type": "code",
        "colab": {}
      },
      "source": [
        "pred = model.predict(tst)\n",
        "y_label=np.argmax(y_test, axis=1)\n",
        "pred=np.argmax(pred, axis=1)"
      ],
      "execution_count": 0,
      "outputs": []
    },
    {
      "cell_type": "code",
      "metadata": {
        "id": "qR-UiaTv9fcp",
        "colab_type": "code",
        "outputId": "1640866e-6b16-45cb-f8cb-6f1af73a3d22",
        "colab": {
          "base_uri": "https://localhost:8080/",
          "height": 66,
          "referenced_widgets": [
            "23e5bdc8a48048e8b3cd1351bb49e826",
            "d77f704d72cc455d9fb272ef968f690e",
            "03ea358b9d504d208ccd7ac3f6b8dc48",
            "35b5e2d6c63947dcbdb83f73d2813ae5",
            "ad69191cec4e4b948906b5540a17f248",
            "a77cd342b78b4b25a5592c367d66f990",
            "659810d729124bc1956d9e2a42e65f07",
            "5e3b28b34f004b5c9267f70918240634"
          ]
        }
      },
      "source": [
        "res=pd.DataFrame(np.zeros((TOTAL_DATA,2),dtype=np.int),columns=['valence','activation'])\n",
        "\n",
        "## Prepare output file : Decipher predicted code to valence and activation values\n",
        "for i in tqdm_notebook(range(TOTAL_DATA)):\n",
        "    \n",
        "    x=pred[i]\n",
        "    if x==0:        \n",
        "       v=0\n",
        "       a=0\n",
        "    elif x==1:\n",
        "        v=0\n",
        "        a=1\n",
        "    elif x==2:\n",
        "        v=1\n",
        "        a=0\n",
        "    elif x==3:\n",
        "        v=1\n",
        "        a=1\n",
        "    res['valence'][i] = v\n",
        "    res['activation'][i] = a"
      ],
      "execution_count": 23,
      "outputs": [
        {
          "output_type": "display_data",
          "data": {
            "application/vnd.jupyter.widget-view+json": {
              "model_id": "23e5bdc8a48048e8b3cd1351bb49e826",
              "version_minor": 0,
              "version_major": 2
            },
            "text/plain": [
              "HBox(children=(IntProgress(value=0, max=3342), HTML(value='')))"
            ]
          },
          "metadata": {
            "tags": []
          }
        },
        {
          "output_type": "stream",
          "text": [
            "\n"
          ],
          "name": "stdout"
        }
      ]
    },
    {
      "cell_type": "code",
      "metadata": {
        "id": "gK-MqbP5dOwe",
        "colab_type": "code",
        "colab": {}
      },
      "source": [
        "res.to_json('drive/My Drive/DL Dataset/res1.json',orient='index')"
      ],
      "execution_count": 0,
      "outputs": []
    }
  ]
}