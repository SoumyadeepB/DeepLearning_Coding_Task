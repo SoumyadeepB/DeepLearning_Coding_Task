{
 "cells": [
  {
   "cell_type": "code",
   "execution_count": 1,
   "metadata": {},
   "outputs": [
    {
     "name": "stderr",
     "output_type": "stream",
     "text": [
      "Using TensorFlow backend.\n"
     ]
    }
   ],
   "source": [
    "import tensorflow as tf\n",
    "import keras\n",
    "import numpy as np\n",
    "import pandas as pd\n",
    "import matplotlib.pyplot as plt\n",
    "import nltk\n",
    "from nltk.stem import WordNetLemmatizer\n",
    "from sklearn.feature_extraction.text import CountVectorizer\n",
    "from keras.layers import Dense, Input, Flatten\n",
    "from keras.layers import Reshape, Dropout, Concatenate\n",
    "from keras.layers import Conv2D, MaxPool2D, Embedding\n",
    "from keras.models import Model\n",
    "import os\n",
    "import json\n",
    "from json2html import *\n",
    "from IPython.core.display import display, HTML\n",
    "from tqdm import tqdm_notebook\n",
    "%matplotlib inline"
   ]
  },
  {
   "cell_type": "code",
   "execution_count": 2,
   "metadata": {},
   "outputs": [
    {
     "name": "stdout",
     "output_type": "stream",
     "text": [
      "D:\\ML Projects\\DeepLearning_Coding_Task\\NLU\n"
     ]
    }
   ],
   "source": [
    "print(os.getcwd())\n",
    "with open(os.getcwd()+'\\data\\\\train.json',encoding=\"utf8\") as f:\n",
    "   data = json.load(f)"
   ]
  },
  {
   "cell_type": "code",
   "execution_count": 41,
   "metadata": {},
   "outputs": [],
   "source": [
    "df = pd.DataFrame(data)\n",
    "df=df.T\n",
    "df = df[['text','slots']]\n"
   ]
  },
  {
   "cell_type": "code",
   "execution_count": 44,
   "metadata": {},
   "outputs": [],
   "source": [
    "lst=df['slots'].tolist()\n",
    "l = []\n",
    "[[l.append(x)  for x in list(i.keys())] for i in lst]\n",
    "        \n",
    "l = set(l)"
   ]
  },
  {
   "cell_type": "code",
   "execution_count": 45,
   "metadata": {},
   "outputs": [
    {
     "data": {
      "text/plain": [
       "{'album',\n",
       " 'artist',\n",
       " 'best_rating',\n",
       " 'city',\n",
       " 'condition_description',\n",
       " 'condition_temperature',\n",
       " 'country',\n",
       " 'cuisine',\n",
       " 'current_location',\n",
       " 'entity_name',\n",
       " 'facility',\n",
       " 'genre',\n",
       " 'geographic_poi',\n",
       " 'location_name',\n",
       " 'movie_name',\n",
       " 'movie_type',\n",
       " 'music_item',\n",
       " 'object_location_type',\n",
       " 'object_name',\n",
       " 'object_part_of_series_type',\n",
       " 'object_select',\n",
       " 'object_type',\n",
       " 'party_size_description',\n",
       " 'party_size_number',\n",
       " 'playlist',\n",
       " 'playlist_owner',\n",
       " 'poi',\n",
       " 'rating_unit',\n",
       " 'rating_value',\n",
       " 'restaurant_name',\n",
       " 'restaurant_type',\n",
       " 'served_dish',\n",
       " 'service',\n",
       " 'sort',\n",
       " 'spatial_relation',\n",
       " 'state',\n",
       " 'timeRange',\n",
       " 'track',\n",
       " 'year'}"
      ]
     },
     "execution_count": 45,
     "metadata": {},
     "output_type": "execute_result"
    }
   ],
   "source": [
    "l"
   ]
  },
  {
   "cell_type": "code",
   "execution_count": null,
   "metadata": {},
   "outputs": [],
   "source": []
  },
  {
   "cell_type": "code",
   "execution_count": 39,
   "metadata": {},
   "outputs": [],
   "source": [
    "table=df.to_html()\n",
    "with open(\"Data.html\", \"w\", encoding=\"utf-8\") as file:\n",
    "    file.write(table)"
   ]
  },
  {
   "cell_type": "code",
   "execution_count": null,
   "metadata": {},
   "outputs": [],
   "source": []
  }
 ],
 "metadata": {
  "kernelspec": {
   "display_name": "Python 3",
   "language": "python",
   "name": "python3"
  },
  "language_info": {
   "codemirror_mode": {
    "name": "ipython",
    "version": 3
   },
   "file_extension": ".py",
   "mimetype": "text/x-python",
   "name": "python",
   "nbconvert_exporter": "python",
   "pygments_lexer": "ipython3",
   "version": "3.7.3"
  }
 },
 "nbformat": 4,
 "nbformat_minor": 2
}
