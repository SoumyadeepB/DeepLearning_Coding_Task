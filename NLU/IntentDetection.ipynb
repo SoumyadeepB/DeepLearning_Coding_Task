{
 "cells": [
  {
   "cell_type": "code",
   "execution_count": 2,
   "metadata": {},
   "outputs": [
    {
     "name": "stderr",
     "output_type": "stream",
     "text": [
      "Using TensorFlow backend.\n"
     ]
    }
   ],
   "source": [
    "import tensorflow as tf\n",
    "import keras\n",
    "import numpy as np\n",
    "import pandas as pd\n",
    "import matplotlib.pyplot as plt\n",
    "import nltk\n",
    "from nltk.stem import WordNetLemmatizer\n",
    "from sklearn.feature_extraction.text import CountVectorizer\n",
    "from keras.layers import Dense, Input, Flatten\n",
    "from keras.layers import Reshape, Dropout, Concatenate\n",
    "from keras.layers import Conv2D, MaxPool2D, Embedding\n",
    "from keras.models import Model\n",
    "import os\n",
    "import json\n",
    "from json2html import *\n",
    "from IPython.core.display import display, HTML\n",
    "from tqdm import tqdm_notebook\n",
    "%matplotlib inline\n",
    "#nltk.download('wordnet')"
   ]
  },
  {
   "cell_type": "code",
   "execution_count": null,
   "metadata": {},
   "outputs": [],
   "source": []
  },
  {
   "cell_type": "code",
   "execution_count": 2,
   "metadata": {},
   "outputs": [],
   "source": [
    "# Directories:\n",
    "GLOVE_DIR=\"D:\\GitRepos\\Datasets\\glove6B\""
   ]
  },
  {
   "cell_type": "code",
   "execution_count": 3,
   "metadata": {},
   "outputs": [
    {
     "name": "stdout",
     "output_type": "stream",
     "text": [
      "D:\\ML Projects\\DeepLearning_Coding_Task\\NLU\n"
     ]
    }
   ],
   "source": [
    "print(os.getcwd())\n",
    "with open(os.getcwd()+'\\data\\\\train.json',encoding=\"utf8\") as f:\n",
    "   data = json.load(f)\n"
   ]
  },
  {
   "cell_type": "code",
   "execution_count": null,
   "metadata": {},
   "outputs": [],
   "source": [
    "# with open(os.getcwd()+'\\data\\\\dev.json',encoding=\"utf8\") as f:\n",
    "#    dev = json.load(f)"
   ]
  },
  {
   "cell_type": "code",
   "execution_count": 4,
   "metadata": {},
   "outputs": [],
   "source": [
    "VALIDATION_SPLIT=0.10\n",
    "MAX_NB_WORDS=20000\n",
    "EMBEDDING_DIM = 100 # Dimensions of Glove word vectors"
   ]
  },
  {
   "cell_type": "code",
   "execution_count": 8,
   "metadata": {},
   "outputs": [],
   "source": [
    "df = pd.DataFrame(data)\n"
   ]
  },
  {
   "cell_type": "code",
   "execution_count": 7,
   "metadata": {},
   "outputs": [
    {
     "data": {
      "text/html": [
       "<div>\n",
       "<style scoped>\n",
       "    .dataframe tbody tr th:only-of-type {\n",
       "        vertical-align: middle;\n",
       "    }\n",
       "\n",
       "    .dataframe tbody tr th {\n",
       "        vertical-align: top;\n",
       "    }\n",
       "\n",
       "    .dataframe thead th {\n",
       "        text-align: right;\n",
       "    }\n",
       "</style>\n",
       "<table border=\"1\" class=\"dataframe\">\n",
       "  <thead>\n",
       "    <tr style=\"text-align: right;\">\n",
       "      <th></th>\n",
       "      <th>0</th>\n",
       "      <th>1</th>\n",
       "      <th>2</th>\n",
       "      <th>3</th>\n",
       "      <th>4</th>\n",
       "      <th>5</th>\n",
       "      <th>6</th>\n",
       "      <th>7</th>\n",
       "      <th>8</th>\n",
       "      <th>9</th>\n",
       "      <th>...</th>\n",
       "      <th>10087</th>\n",
       "      <th>10088</th>\n",
       "      <th>10089</th>\n",
       "      <th>10090</th>\n",
       "      <th>10091</th>\n",
       "      <th>10092</th>\n",
       "      <th>10093</th>\n",
       "      <th>10094</th>\n",
       "      <th>10095</th>\n",
       "      <th>10096</th>\n",
       "    </tr>\n",
       "  </thead>\n",
       "  <tbody>\n",
       "    <tr>\n",
       "      <th>intent</th>\n",
       "      <td>AddToPlaylist</td>\n",
       "      <td>AddToPlaylist</td>\n",
       "      <td>AddToPlaylist</td>\n",
       "      <td>AddToPlaylist</td>\n",
       "      <td>AddToPlaylist</td>\n",
       "      <td>AddToPlaylist</td>\n",
       "      <td>AddToPlaylist</td>\n",
       "      <td>AddToPlaylist</td>\n",
       "      <td>AddToPlaylist</td>\n",
       "      <td>AddToPlaylist</td>\n",
       "      <td>...</td>\n",
       "      <td>SearchScreeningEvent</td>\n",
       "      <td>SearchScreeningEvent</td>\n",
       "      <td>SearchScreeningEvent</td>\n",
       "      <td>SearchScreeningEvent</td>\n",
       "      <td>SearchScreeningEvent</td>\n",
       "      <td>SearchScreeningEvent</td>\n",
       "      <td>SearchScreeningEvent</td>\n",
       "      <td>SearchScreeningEvent</td>\n",
       "      <td>SearchScreeningEvent</td>\n",
       "      <td>SearchScreeningEvent</td>\n",
       "    </tr>\n",
       "    <tr>\n",
       "      <th>text</th>\n",
       "      <td>Add a tune to my elrow Guest List</td>\n",
       "      <td>Add a guy is a guy to the infinite indie folk ...</td>\n",
       "      <td>Put hampartsoum limondjian in running to rock ...</td>\n",
       "      <td>Add Recalled to Life to This Is Alejandro Fern...</td>\n",
       "      <td>Add Bronislau Kaper to the drive playlist.</td>\n",
       "      <td>add this song by George Melly to my 90's Baby ...</td>\n",
       "      <td>add 157 Riverside Avenue to leticia's animal h...</td>\n",
       "      <td>add the name covenant to the playlist Fusion Fest</td>\n",
       "      <td>Add Live from Aragon Ballroom to Trapeo</td>\n",
       "      <td>add the song to the Dub On The Beach playlist</td>\n",
       "      <td>...</td>\n",
       "      <td>Find the movie schedule for animated movies in...</td>\n",
       "      <td>is Transcending Fear at Malco Theatres</td>\n",
       "      <td>Please give me the movie schedules.</td>\n",
       "      <td>what's the closest cinema showing animated movies</td>\n",
       "      <td>Is Proudly She Marches playing anywhere?</td>\n",
       "      <td>I'd like to watch The Freckled Fish at 00:47:4...</td>\n",
       "      <td>Which films are playing at the closest movie h...</td>\n",
       "      <td>show movie times for AMC Theatres</td>\n",
       "      <td>What time is Do Sher playing</td>\n",
       "      <td>What is the movie schedule for films that are ...</td>\n",
       "    </tr>\n",
       "    <tr>\n",
       "      <th>slots</th>\n",
       "      <td>{'music_item': 'tune', 'playlist_owner': 'my',...</td>\n",
       "      <td>{'entity_name': 'a guy is a guy', 'playlist': ...</td>\n",
       "      <td>{'artist': 'hampartsoum limondjian', 'playlist...</td>\n",
       "      <td>{'entity_name': 'Recalled to Life', 'playlist'...</td>\n",
       "      <td>{'artist': 'Bronislau Kaper', 'playlist': 'dri...</td>\n",
       "      <td>{'music_item': 'song', 'artist': 'George Melly...</td>\n",
       "      <td>{'entity_name': '157 Riverside Avenue', 'playl...</td>\n",
       "      <td>{'entity_name': 'covenant', 'playlist': 'Fusio...</td>\n",
       "      <td>{'entity_name': 'Live from Aragon Ballroom', '...</td>\n",
       "      <td>{'music_item': 'song', 'playlist': 'Dub On The...</td>\n",
       "      <td>...</td>\n",
       "      <td>{'object_type': 'movie schedule', 'movie_type'...</td>\n",
       "      <td>{'movie_name': 'Transcending Fear', 'location_...</td>\n",
       "      <td>{'object_type': 'movie schedules'}</td>\n",
       "      <td>{'spatial_relation': 'closest', 'object_locati...</td>\n",
       "      <td>{'movie_name': 'Proudly She Marches'}</td>\n",
       "      <td>{'movie_name': 'The Freckled Fish', 'timeRange...</td>\n",
       "      <td>{'movie_type': 'films', 'spatial_relation': 'c...</td>\n",
       "      <td>{'object_type': 'movie times', 'location_name'...</td>\n",
       "      <td>{'movie_name': 'Do Sher'}</td>\n",
       "      <td>{'object_type': 'movie schedule', 'movie_type'...</td>\n",
       "    </tr>\n",
       "    <tr>\n",
       "      <th>positions</th>\n",
       "      <td>{'music_item': [6, 9], 'playlist_owner': [14, ...</td>\n",
       "      <td>{'entity_name': [4, 17], 'playlist': [26, 44]}</td>\n",
       "      <td>{'artist': [4, 25], 'playlist': [30, 59]}</td>\n",
       "      <td>{'entity_name': [4, 19], 'playlist': [24, 50]}</td>\n",
       "      <td>{'artist': [4, 18], 'playlist': [27, 31]}</td>\n",
       "      <td>{'music_item': [9, 12], 'artist': [17, 28], 'p...</td>\n",
       "      <td>{'entity_name': [4, 23], 'playlist_owner': [28...</td>\n",
       "      <td>{'entity_name': [13, 20], 'playlist': [38, 48]}</td>\n",
       "      <td>{'entity_name': [4, 28], 'playlist': [33, 38]}</td>\n",
       "      <td>{'music_item': [8, 11], 'playlist': [20, 35]}</td>\n",
       "      <td>...</td>\n",
       "      <td>{'object_type': [9, 22], 'movie_type': [28, 42...</td>\n",
       "      <td>{'movie_name': [3, 19], 'location_name': [24, ...</td>\n",
       "      <td>{'object_type': [19, 33]}</td>\n",
       "      <td>{'spatial_relation': [11, 17], 'object_locatio...</td>\n",
       "      <td>{'movie_name': [3, 21]}</td>\n",
       "      <td>{'movie_name': [18, 34], 'timeRange': [39, 46]...</td>\n",
       "      <td>{'movie_type': [6, 10], 'spatial_relation': [3...</td>\n",
       "      <td>{'object_type': [5, 15], 'location_name': [21,...</td>\n",
       "      <td>{'movie_name': [13, 19]}</td>\n",
       "      <td>{'object_type': [12, 25], 'movie_type': [31, 3...</td>\n",
       "    </tr>\n",
       "  </tbody>\n",
       "</table>\n",
       "<p>4 rows × 10097 columns</p>\n",
       "</div>"
      ],
      "text/plain": [
       "                                                           0  \\\n",
       "intent                                         AddToPlaylist   \n",
       "text                       Add a tune to my elrow Guest List   \n",
       "slots      {'music_item': 'tune', 'playlist_owner': 'my',...   \n",
       "positions  {'music_item': [6, 9], 'playlist_owner': [14, ...   \n",
       "\n",
       "                                                           1  \\\n",
       "intent                                         AddToPlaylist   \n",
       "text       Add a guy is a guy to the infinite indie folk ...   \n",
       "slots      {'entity_name': 'a guy is a guy', 'playlist': ...   \n",
       "positions     {'entity_name': [4, 17], 'playlist': [26, 44]}   \n",
       "\n",
       "                                                           2  \\\n",
       "intent                                         AddToPlaylist   \n",
       "text       Put hampartsoum limondjian in running to rock ...   \n",
       "slots      {'artist': 'hampartsoum limondjian', 'playlist...   \n",
       "positions          {'artist': [4, 25], 'playlist': [30, 59]}   \n",
       "\n",
       "                                                           3  \\\n",
       "intent                                         AddToPlaylist   \n",
       "text       Add Recalled to Life to This Is Alejandro Fern...   \n",
       "slots      {'entity_name': 'Recalled to Life', 'playlist'...   \n",
       "positions     {'entity_name': [4, 19], 'playlist': [24, 50]}   \n",
       "\n",
       "                                                           4  \\\n",
       "intent                                         AddToPlaylist   \n",
       "text              Add Bronislau Kaper to the drive playlist.   \n",
       "slots      {'artist': 'Bronislau Kaper', 'playlist': 'dri...   \n",
       "positions          {'artist': [4, 18], 'playlist': [27, 31]}   \n",
       "\n",
       "                                                           5  \\\n",
       "intent                                         AddToPlaylist   \n",
       "text       add this song by George Melly to my 90's Baby ...   \n",
       "slots      {'music_item': 'song', 'artist': 'George Melly...   \n",
       "positions  {'music_item': [9, 12], 'artist': [17, 28], 'p...   \n",
       "\n",
       "                                                           6  \\\n",
       "intent                                         AddToPlaylist   \n",
       "text       add 157 Riverside Avenue to leticia's animal h...   \n",
       "slots      {'entity_name': '157 Riverside Avenue', 'playl...   \n",
       "positions  {'entity_name': [4, 23], 'playlist_owner': [28...   \n",
       "\n",
       "                                                           7  \\\n",
       "intent                                         AddToPlaylist   \n",
       "text       add the name covenant to the playlist Fusion Fest   \n",
       "slots      {'entity_name': 'covenant', 'playlist': 'Fusio...   \n",
       "positions    {'entity_name': [13, 20], 'playlist': [38, 48]}   \n",
       "\n",
       "                                                           8  \\\n",
       "intent                                         AddToPlaylist   \n",
       "text                 Add Live from Aragon Ballroom to Trapeo   \n",
       "slots      {'entity_name': 'Live from Aragon Ballroom', '...   \n",
       "positions     {'entity_name': [4, 28], 'playlist': [33, 38]}   \n",
       "\n",
       "                                                           9  ...  \\\n",
       "intent                                         AddToPlaylist  ...   \n",
       "text           add the song to the Dub On The Beach playlist  ...   \n",
       "slots      {'music_item': 'song', 'playlist': 'Dub On The...  ...   \n",
       "positions      {'music_item': [8, 11], 'playlist': [20, 35]}  ...   \n",
       "\n",
       "                                                       10087  \\\n",
       "intent                                  SearchScreeningEvent   \n",
       "text       Find the movie schedule for animated movies in...   \n",
       "slots      {'object_type': 'movie schedule', 'movie_type'...   \n",
       "positions  {'object_type': [9, 22], 'movie_type': [28, 42...   \n",
       "\n",
       "                                                       10088  \\\n",
       "intent                                  SearchScreeningEvent   \n",
       "text                  is Transcending Fear at Malco Theatres   \n",
       "slots      {'movie_name': 'Transcending Fear', 'location_...   \n",
       "positions  {'movie_name': [3, 19], 'location_name': [24, ...   \n",
       "\n",
       "                                         10089  \\\n",
       "intent                    SearchScreeningEvent   \n",
       "text       Please give me the movie schedules.   \n",
       "slots       {'object_type': 'movie schedules'}   \n",
       "positions            {'object_type': [19, 33]}   \n",
       "\n",
       "                                                       10090  \\\n",
       "intent                                  SearchScreeningEvent   \n",
       "text       what's the closest cinema showing animated movies   \n",
       "slots      {'spatial_relation': 'closest', 'object_locati...   \n",
       "positions  {'spatial_relation': [11, 17], 'object_locatio...   \n",
       "\n",
       "                                              10091  \\\n",
       "intent                         SearchScreeningEvent   \n",
       "text       Is Proudly She Marches playing anywhere?   \n",
       "slots         {'movie_name': 'Proudly She Marches'}   \n",
       "positions                   {'movie_name': [3, 21]}   \n",
       "\n",
       "                                                       10092  \\\n",
       "intent                                  SearchScreeningEvent   \n",
       "text       I'd like to watch The Freckled Fish at 00:47:4...   \n",
       "slots      {'movie_name': 'The Freckled Fish', 'timeRange...   \n",
       "positions  {'movie_name': [18, 34], 'timeRange': [39, 46]...   \n",
       "\n",
       "                                                       10093  \\\n",
       "intent                                  SearchScreeningEvent   \n",
       "text       Which films are playing at the closest movie h...   \n",
       "slots      {'movie_type': 'films', 'spatial_relation': 'c...   \n",
       "positions  {'movie_type': [6, 10], 'spatial_relation': [3...   \n",
       "\n",
       "                                                       10094  \\\n",
       "intent                                  SearchScreeningEvent   \n",
       "text                       show movie times for AMC Theatres   \n",
       "slots      {'object_type': 'movie times', 'location_name'...   \n",
       "positions  {'object_type': [5, 15], 'location_name': [21,...   \n",
       "\n",
       "                                  10095  \\\n",
       "intent             SearchScreeningEvent   \n",
       "text       What time is Do Sher playing   \n",
       "slots         {'movie_name': 'Do Sher'}   \n",
       "positions      {'movie_name': [13, 19]}   \n",
       "\n",
       "                                                       10096  \n",
       "intent                                  SearchScreeningEvent  \n",
       "text       What is the movie schedule for films that are ...  \n",
       "slots      {'object_type': 'movie schedule', 'movie_type'...  \n",
       "positions  {'object_type': [12, 25], 'movie_type': [31, 3...  \n",
       "\n",
       "[4 rows x 10097 columns]"
      ]
     },
     "execution_count": 7,
     "metadata": {},
     "output_type": "execute_result"
    }
   ],
   "source": [
    "# #df = df.T\n",
    "# table=df.to_html()\n",
    "# with open(\"Data.html\", \"w\", encoding=\"utf-8\") as file:\n",
    "#     file.write(table)"
   ]
  },
  {
   "cell_type": "code",
   "execution_count": null,
   "metadata": {},
   "outputs": [],
   "source": [
    "#display(HTML(json2html.convert(json = data)))"
   ]
  },
  {
   "cell_type": "code",
   "execution_count": null,
   "metadata": {},
   "outputs": [],
   "source": [
    "#html =  json2html.convert(json = data)\n",
    "#f = open('tabular_data.html','w',encoding=\"utf-8\")\n",
    "#f.write(html)"
   ]
  },
  {
   "cell_type": "code",
   "execution_count": 9,
   "metadata": {},
   "outputs": [
    {
     "data": {
      "text/html": [
       "<div>\n",
       "<style scoped>\n",
       "    .dataframe tbody tr th:only-of-type {\n",
       "        vertical-align: middle;\n",
       "    }\n",
       "\n",
       "    .dataframe tbody tr th {\n",
       "        vertical-align: top;\n",
       "    }\n",
       "\n",
       "    .dataframe thead th {\n",
       "        text-align: right;\n",
       "    }\n",
       "</style>\n",
       "<table border=\"1\" class=\"dataframe\">\n",
       "  <thead>\n",
       "    <tr style=\"text-align: right;\">\n",
       "      <th></th>\n",
       "      <th>intent</th>\n",
       "      <th>text</th>\n",
       "      <th>slots</th>\n",
       "      <th>positions</th>\n",
       "    </tr>\n",
       "  </thead>\n",
       "  <tbody>\n",
       "    <tr>\n",
       "      <th>0</th>\n",
       "      <td>AddToPlaylist</td>\n",
       "      <td>Add a tune to my elrow Guest List</td>\n",
       "      <td>{'music_item': 'tune', 'playlist_owner': 'my',...</td>\n",
       "      <td>{'music_item': [6, 9], 'playlist_owner': [14, ...</td>\n",
       "    </tr>\n",
       "    <tr>\n",
       "      <th>1</th>\n",
       "      <td>AddToPlaylist</td>\n",
       "      <td>Add a guy is a guy to the infinite indie folk ...</td>\n",
       "      <td>{'entity_name': 'a guy is a guy', 'playlist': ...</td>\n",
       "      <td>{'entity_name': [4, 17], 'playlist': [26, 44]}</td>\n",
       "    </tr>\n",
       "    <tr>\n",
       "      <th>2</th>\n",
       "      <td>AddToPlaylist</td>\n",
       "      <td>Put hampartsoum limondjian in running to rock ...</td>\n",
       "      <td>{'artist': 'hampartsoum limondjian', 'playlist...</td>\n",
       "      <td>{'artist': [4, 25], 'playlist': [30, 59]}</td>\n",
       "    </tr>\n",
       "    <tr>\n",
       "      <th>3</th>\n",
       "      <td>AddToPlaylist</td>\n",
       "      <td>Add Recalled to Life to This Is Alejandro Fern...</td>\n",
       "      <td>{'entity_name': 'Recalled to Life', 'playlist'...</td>\n",
       "      <td>{'entity_name': [4, 19], 'playlist': [24, 50]}</td>\n",
       "    </tr>\n",
       "    <tr>\n",
       "      <th>4</th>\n",
       "      <td>AddToPlaylist</td>\n",
       "      <td>Add Bronislau Kaper to the drive playlist.</td>\n",
       "      <td>{'artist': 'Bronislau Kaper', 'playlist': 'dri...</td>\n",
       "      <td>{'artist': [4, 18], 'playlist': [27, 31]}</td>\n",
       "    </tr>\n",
       "  </tbody>\n",
       "</table>\n",
       "</div>"
      ],
      "text/plain": [
       "          intent                                               text  \\\n",
       "0  AddToPlaylist                  Add a tune to my elrow Guest List   \n",
       "1  AddToPlaylist  Add a guy is a guy to the infinite indie folk ...   \n",
       "2  AddToPlaylist  Put hampartsoum limondjian in running to rock ...   \n",
       "3  AddToPlaylist  Add Recalled to Life to This Is Alejandro Fern...   \n",
       "4  AddToPlaylist         Add Bronislau Kaper to the drive playlist.   \n",
       "\n",
       "                                               slots  \\\n",
       "0  {'music_item': 'tune', 'playlist_owner': 'my',...   \n",
       "1  {'entity_name': 'a guy is a guy', 'playlist': ...   \n",
       "2  {'artist': 'hampartsoum limondjian', 'playlist...   \n",
       "3  {'entity_name': 'Recalled to Life', 'playlist'...   \n",
       "4  {'artist': 'Bronislau Kaper', 'playlist': 'dri...   \n",
       "\n",
       "                                           positions  \n",
       "0  {'music_item': [6, 9], 'playlist_owner': [14, ...  \n",
       "1     {'entity_name': [4, 17], 'playlist': [26, 44]}  \n",
       "2          {'artist': [4, 25], 'playlist': [30, 59]}  \n",
       "3     {'entity_name': [4, 19], 'playlist': [24, 50]}  \n",
       "4          {'artist': [4, 18], 'playlist': [27, 31]}  "
      ]
     },
     "execution_count": 9,
     "metadata": {},
     "output_type": "execute_result"
    }
   ],
   "source": [
    "dfT=df.T\n",
    "#dfT.loc['intent']\n",
    "dfT.head()"
   ]
  },
  {
   "cell_type": "code",
   "execution_count": 10,
   "metadata": {},
   "outputs": [
    {
     "data": {
      "text/plain": [
       "Index(['intent', 'text', 'slots', 'positions'], dtype='object')"
      ]
     },
     "execution_count": 10,
     "metadata": {},
     "output_type": "execute_result"
    }
   ],
   "source": [
    "dfT.columns"
   ]
  },
  {
   "cell_type": "code",
   "execution_count": 11,
   "metadata": {},
   "outputs": [],
   "source": [
    "intentList = dfT[['text','intent']]"
   ]
  },
  {
   "cell_type": "code",
   "execution_count": null,
   "metadata": {},
   "outputs": [],
   "source": [
    "# html =  json2html.convert(json = intentList.to_json(orient='records'))\n",
    "# f = open('intent.html','w',encoding=\"utf-8\")\n",
    "# f.write(html)"
   ]
  },
  {
   "cell_type": "markdown",
   "metadata": {},
   "source": [
    "<h3> Create Training and Testing Split </h3>"
   ]
  },
  {
   "cell_type": "code",
   "execution_count": 12,
   "metadata": {},
   "outputs": [],
   "source": [
    "train=intentList[0:0]\n",
    "test=train\n",
    "intentNames = intentList['intent'].unique()\n",
    "intentIdx = []\n",
    "for i in intentNames:\n",
    "    idx=int(intentList.intent.ne(i).idxmin())\n",
    "    intentIdx.append(idx)\n",
    "\n",
    "\n",
    "intentIdx.append(len(intentList)-1) # add the last index\n",
    "\n",
    "\n",
    "for i in range(len(intentIdx)-1):\n",
    "    totalIntents = intentIdx[i+1]-intentIdx[i]\n",
    "    lastIdx = intentIdx[i]+round(totalIntents*(1-VALIDATION_SPLIT))\n",
    "    train=train.append(intentList[intentIdx[i]:lastIdx],ignore_index = True) #ignore_index creates a new indexing upon append\n",
    "    test=test.append(intentList[lastIdx:intentIdx[i+1]],ignore_index = True)\n",
    "    \n",
    "split_index = len(train)    #index at which the dataset needs to be split: For later use\n",
    "intentList1= train.append(test)\n",
    "    \n",
    "    "
   ]
  },
  {
   "cell_type": "code",
   "execution_count": null,
   "metadata": {},
   "outputs": [],
   "source": []
  },
  {
   "cell_type": "code",
   "execution_count": null,
   "metadata": {},
   "outputs": [],
   "source": []
  },
  {
   "cell_type": "code",
   "execution_count": null,
   "metadata": {},
   "outputs": [],
   "source": []
  },
  {
   "cell_type": "code",
   "execution_count": 16,
   "metadata": {},
   "outputs": [
    {
     "name": "stdout",
     "output_type": "stream",
     "text": [
      "GetWeather              1463\n",
      "PlayMusic               1462\n",
      "SearchCreativeWork      1438\n",
      "SearchScreeningEvent    1437\n",
      "RateBook                1436\n",
      "BookRestaurant          1433\n",
      "AddToPlaylist           1428\n",
      "Name: intent, dtype: int64\n"
     ]
    }
   ],
   "source": [
    "print(intentList['intent'].value_counts())"
   ]
  },
  {
   "cell_type": "code",
   "execution_count": 17,
   "metadata": {},
   "outputs": [
    {
     "data": {
      "text/plain": [
       "<matplotlib.axes._subplots.AxesSubplot at 0x19a96d3f9e8>"
      ]
     },
     "execution_count": 17,
     "metadata": {},
     "output_type": "execute_result"
    },
    {
     "data": {
      "image/png": "[encoded data removed]",
      "text/plain": [
       "<Figure size 432x288 with 1 Axes>"
      ]
     },
     "metadata": {
      "needs_background": "light"
     },
     "output_type": "display_data"
    }
   ],
   "source": [
    "fig, ax = plt.subplots()\n",
    "intentList['intent'].value_counts().plot(ax=ax, kind='bar')"
   ]
  },
  {
   "cell_type": "markdown",
   "metadata": {},
   "source": [
    "<h3>Stem or Lemmatize</h3>"
   ]
  },
  {
   "cell_type": "code",
   "execution_count": 18,
   "metadata": {},
   "outputs": [],
   "source": [
    "cleanList = intentList1.copy()"
   ]
  },
  {
   "cell_type": "code",
   "execution_count": 20,
   "metadata": {},
   "outputs": [],
   "source": [
    "# tokenizer = nltk.tokenize.TreebankWordTokenizer()\n",
    "# lemmatizer = WordNetLemmatizer()\n",
    "# vectorizer = CountVectorizer()\n",
    "\n",
    "# for index, row in tqdm_notebook(cleanList.iterrows()):\n",
    "#     text=row['text']\n",
    "#     tokens = tokenizer.tokenize(text)\n",
    "#     s = []\n",
    "#     for token in tokens:\n",
    "#         s.append(lemmatizer.lemmatize(token))\n",
    "#     sentence_vectors = vectorizer.fit_transform(s)\n",
    "#     row['text']=sentence_vectors.toarray()"
   ]
  },
  {
   "cell_type": "code",
   "execution_count": null,
   "metadata": {},
   "outputs": [],
   "source": []
  },
  {
   "cell_type": "markdown",
   "metadata": {},
   "source": [
    "<h2> Keras Implementation </h3>"
   ]
  },
  {
   "cell_type": "code",
   "execution_count": 21,
   "metadata": {},
   "outputs": [],
   "source": [
    "from sklearn import preprocessing\n",
    "from keras.preprocessing.text import Tokenizer\n",
    "from keras.preprocessing.sequence import pad_sequences\n",
    "from keras.utils import to_categorical"
   ]
  },
  {
   "cell_type": "code",
   "execution_count": 22,
   "metadata": {},
   "outputs": [],
   "source": [
    "texts=intentList1['text'].tolist()\n",
    "intents=intentList1['intent'].tolist()"
   ]
  },
  {
   "cell_type": "code",
   "execution_count": 23,
   "metadata": {},
   "outputs": [
    {
     "name": "stdout",
     "output_type": "stream",
     "text": [
      "Labels: [0 0 0 ... 6 6 6]\n"
     ]
    },
    {
     "data": {
      "text/html": [
       "<div>\n",
       "<style scoped>\n",
       "    .dataframe tbody tr th:only-of-type {\n",
       "        vertical-align: middle;\n",
       "    }\n",
       "\n",
       "    .dataframe tbody tr th {\n",
       "        vertical-align: top;\n",
       "    }\n",
       "\n",
       "    .dataframe thead th {\n",
       "        text-align: right;\n",
       "    }\n",
       "</style>\n",
       "<table border=\"1\" class=\"dataframe\">\n",
       "  <thead>\n",
       "    <tr style=\"text-align: right;\">\n",
       "      <th></th>\n",
       "      <th>Label</th>\n",
       "    </tr>\n",
       "  </thead>\n",
       "  <tbody>\n",
       "    <tr>\n",
       "      <th>AddToPlaylist</th>\n",
       "      <td>0</td>\n",
       "    </tr>\n",
       "    <tr>\n",
       "      <th>BookRestaurant</th>\n",
       "      <td>1</td>\n",
       "    </tr>\n",
       "    <tr>\n",
       "      <th>GetWeather</th>\n",
       "      <td>2</td>\n",
       "    </tr>\n",
       "    <tr>\n",
       "      <th>PlayMusic</th>\n",
       "      <td>3</td>\n",
       "    </tr>\n",
       "    <tr>\n",
       "      <th>RateBook</th>\n",
       "      <td>4</td>\n",
       "    </tr>\n",
       "    <tr>\n",
       "      <th>SearchCreativeWork</th>\n",
       "      <td>5</td>\n",
       "    </tr>\n",
       "    <tr>\n",
       "      <th>SearchScreeningEvent</th>\n",
       "      <td>6</td>\n",
       "    </tr>\n",
       "  </tbody>\n",
       "</table>\n",
       "</div>"
      ],
      "text/plain": [
       "                      Label\n",
       "AddToPlaylist             0\n",
       "BookRestaurant            1\n",
       "GetWeather                2\n",
       "PlayMusic                 3\n",
       "RateBook                  4\n",
       "SearchCreativeWork        5\n",
       "SearchScreeningEvent      6"
      ]
     },
     "execution_count": 23,
     "metadata": {},
     "output_type": "execute_result"
    }
   ],
   "source": [
    "le = preprocessing.LabelEncoder()\n",
    "le.fit(intents)\n",
    "labels = le.transform(intents)\n",
    "label_dict = dict(zip(list(le.classes_), le.transform(list(le.classes_))))\n",
    "label_list=pd.DataFrame.from_dict(label_dict, orient='index',columns=['Label'])\n",
    "label_list"
   ]
  },
  {
   "cell_type": "code",
   "execution_count": null,
   "metadata": {},
   "outputs": [],
   "source": []
  },
  {
   "cell_type": "code",
   "execution_count": null,
   "metadata": {},
   "outputs": [],
   "source": []
  },
  {
   "cell_type": "code",
   "execution_count": 25,
   "metadata": {},
   "outputs": [],
   "source": [
    "MAX_SEQUENCE_LENGTH=0\n",
    "for i in texts:\n",
    "    l=len(i.split())\n",
    "    if l>MAX_SEQUENCE_LENGTH:\n",
    "        MAX_SEQUENCE_LENGTH=l"
   ]
  },
  {
   "cell_type": "code",
   "execution_count": 26,
   "metadata": {},
   "outputs": [],
   "source": [
    "lemmatized_text=texts\n",
    "\n",
    "for i in texts:\n",
    "    j=0\n",
    "    s=\"\"\n",
    "    t = i.split(\" \")\n",
    "    for word in t:\n",
    "        #print(word+\" : \"+lemmatizer.lemmatize(word))\n",
    "        s+=lemmatizer.lemmatize(word)+\" \"\n",
    "    lemmatized_text[j]=s\n",
    "    j+=1    "
   ]
  },
  {
   "cell_type": "code",
   "execution_count": 27,
   "metadata": {},
   "outputs": [
    {
     "name": "stdout",
     "output_type": "stream",
     "text": [
      "Found 9587 unique tokens.\n"
     ]
    }
   ],
   "source": [
    "tokenizer = Tokenizer(num_words=MAX_NB_WORDS)\n",
    "tokenized_text=tokenizer.fit_on_texts(lemmatized_text)\n",
    "sequences = tokenizer.texts_to_sequences(lemmatized_text)\n",
    "word_index = tokenizer.word_index\n",
    "print('Found %s unique tokens.' % len(word_index))"
   ]
  },
  {
   "cell_type": "code",
   "execution_count": 28,
   "metadata": {},
   "outputs": [],
   "source": [
    "lbl = to_categorical(np.asarray(labels))"
   ]
  },
  {
   "cell_type": "code",
   "execution_count": 1,
   "metadata": {},
   "outputs": [
    {
     "ename": "NameError",
     "evalue": "name 'lbl' is not defined",
     "output_type": "error",
     "traceback": [
      "\u001b[1;31m---------------------------------------------------------------------------\u001b[0m",
      "\u001b[1;31mNameError\u001b[0m                                 Traceback (most recent call last)",
      "\u001b[1;32m<ipython-input-1-c5cb01f3e838>\u001b[0m in \u001b[0;36m<module>\u001b[1;34m\u001b[0m\n\u001b[1;32m----> 1\u001b[1;33m \u001b[0mlbl\u001b[0m\u001b[1;33m\u001b[0m\u001b[1;33m\u001b[0m\u001b[0m\n\u001b[0m",
      "\u001b[1;31mNameError\u001b[0m: name 'lbl' is not defined"
     ]
    }
   ],
   "source": [
    "lbl"
   ]
  },
  {
   "cell_type": "code",
   "execution_count": null,
   "metadata": {},
   "outputs": [],
   "source": []
  },
  {
   "cell_type": "code",
   "execution_count": 29,
   "metadata": {},
   "outputs": [
    {
     "name": "stdout",
     "output_type": "stream",
     "text": [
      "Found 9587 unique tokens.\n",
      "Shape of data tensor: (10096, 35)\n",
      "Shape of label tensor: (10096, 7)\n",
      "Preparing embedding matrix.\n"
     ]
    }
   ],
   "source": [
    "word_index = tokenizer.word_index\n",
    "print('Found %s unique tokens.' % len(word_index))\n",
    "\n",
    "data = pad_sequences(sequences, maxlen=MAX_SEQUENCE_LENGTH)\n",
    "\n",
    "labels = to_categorical(np.asarray(labels)) #Convert to One-hot representation\n",
    "print('Shape of data tensor:', data.shape)\n",
    "print('Shape of label tensor:', labels.shape)\n",
    "\n",
    "train_x = data[:split_index]\n",
    "train_y = labels[:split_index]\n",
    "\n",
    "test_x = data[split_index:]\n",
    "test_y = labels[split_index:]\n",
    "\n",
    "\n",
    "print('Preparing embedding matrix.')"
   ]
  },
  {
   "cell_type": "code",
   "execution_count": null,
   "metadata": {},
   "outputs": [],
   "source": [
    "#print(test_x)\n",
    "#print(test_y)\n",
    "#print(train_x)\n",
    "#print(train_y)"
   ]
  },
  {
   "cell_type": "markdown",
   "metadata": {},
   "source": [
    "<h3> Creating Word Embeddings from GloVe data </h3>"
   ]
  },
  {
   "cell_type": "code",
   "execution_count": 30,
   "metadata": {},
   "outputs": [
    {
     "name": "stderr",
     "output_type": "stream",
     "text": [
      "c:\\python37\\lib\\site-packages\\ipykernel_launcher.py:3: TqdmDeprecationWarning: This function will be removed in tqdm==5.0.0\n",
      "Please use `tqdm.notebook.tqdm` instead of `tqdm.tqdm_notebook`\n",
      "  This is separate from the ipykernel package so we can avoid doing imports until\n"
     ]
    },
    {
     "data": {
      "application/vnd.jupyter.widget-view+json": {
       "model_id": "12554e457ef345fb9a959a5cadc13eba",
       "version_major": 2,
       "version_minor": 0
      },
      "text/plain": [
       "HBox(children=(IntProgress(value=1, bar_style='info', max=1), HTML(value='')))"
      ]
     },
     "metadata": {},
     "output_type": "display_data"
    },
    {
     "name": "stdout",
     "output_type": "stream",
     "text": [
      "\n",
      "Found 400000 word vectors.\n"
     ]
    }
   ],
   "source": [
    "embeddings_index = {}\n",
    "f = open(os.path.join(GLOVE_DIR, 'glove.6B.100d.txt'), encoding=\"utf8\")\n",
    "for line in tqdm_notebook(f):\n",
    "    values = line.split()\n",
    "    word = values[0]\n",
    "    coefs = np.asarray(values[1:], dtype='float32')\n",
    "    embeddings_index[word] = coefs\n",
    "f.close()\n",
    "\n",
    "print('Found %s word vectors.' % len(embeddings_index))"
   ]
  },
  {
   "cell_type": "code",
   "execution_count": 31,
   "metadata": {},
   "outputs": [],
   "source": [
    "embedding_matrix = np.zeros((len(word_index) + 1, EMBEDDING_DIM))\n",
    "for word, i in word_index.items():\n",
    "    embedding_vector = embeddings_index.get(word)\n",
    "    if embedding_vector is not None:\n",
    "        # words not found in embedding index will be all-zeros.\n",
    "        embedding_matrix[i] = embedding_vector\n"
   ]
  },
  {
   "cell_type": "code",
   "execution_count": 32,
   "metadata": {},
   "outputs": [
    {
     "name": "stdout",
     "output_type": "stream",
     "text": [
      "Creating Model...\n",
      "Model: \"model_1\"\n",
      "__________________________________________________________________________________________________\n",
      "Layer (type)                    Output Shape         Param #     Connected to                     \n",
      "==================================================================================================\n",
      "input_1 (InputLayer)            (None, 35)           0                                            \n",
      "__________________________________________________________________________________________________\n",
      "embedding_1 (Embedding)         (None, 35, 100)      958800      input_1[0][0]                    \n",
      "__________________________________________________________________________________________________\n",
      "reshape_1 (Reshape)             (None, 35, 100, 1)   0           embedding_1[0][0]                \n",
      "__________________________________________________________________________________________________\n",
      "conv2d_1 (Conv2D)               (None, 34, 1, 512)   102912      reshape_1[0][0]                  \n",
      "__________________________________________________________________________________________________\n",
      "conv2d_2 (Conv2D)               (None, 33, 1, 512)   154112      reshape_1[0][0]                  \n",
      "__________________________________________________________________________________________________\n",
      "conv2d_3 (Conv2D)               (None, 31, 1, 512)   256512      reshape_1[0][0]                  \n",
      "__________________________________________________________________________________________________\n",
      "max_pooling2d_1 (MaxPooling2D)  (None, 1, 1, 512)    0           conv2d_1[0][0]                   \n",
      "__________________________________________________________________________________________________\n",
      "max_pooling2d_2 (MaxPooling2D)  (None, 1, 1, 512)    0           conv2d_2[0][0]                   \n",
      "__________________________________________________________________________________________________\n",
      "max_pooling2d_3 (MaxPooling2D)  (None, 1, 1, 512)    0           conv2d_3[0][0]                   \n",
      "__________________________________________________________________________________________________\n",
      "concatenate_1 (Concatenate)     (None, 3, 1, 512)    0           max_pooling2d_1[0][0]            \n",
      "                                                                 max_pooling2d_2[0][0]            \n",
      "                                                                 max_pooling2d_3[0][0]            \n",
      "__________________________________________________________________________________________________\n",
      "flatten_1 (Flatten)             (None, 1536)         0           concatenate_1[0][0]              \n",
      "__________________________________________________________________________________________________\n",
      "dropout_1 (Dropout)             (None, 1536)         0           flatten_1[0][0]                  \n",
      "__________________________________________________________________________________________________\n",
      "dense_1 (Dense)                 (None, 7)            10759       dropout_1[0][0]                  \n",
      "==================================================================================================\n",
      "Total params: 1,483,095\n",
      "Trainable params: 524,295\n",
      "Non-trainable params: 958,800\n",
      "__________________________________________________________________________________________________\n"
     ]
    }
   ],
   "source": [
    "filter_sizes = [2,3,5]\n",
    "num_filters = 512\n",
    "drop = 0.5\n",
    "\n",
    "print(\"Creating Model...\")\n",
    "inputs = Input(shape=(MAX_SEQUENCE_LENGTH,), dtype='int32')\n",
    "embedding = Embedding(input_dim=len(word_index) + 1, output_dim=EMBEDDING_DIM, weights=[embedding_matrix],\n",
    "                      input_length=MAX_SEQUENCE_LENGTH, trainable=False)(inputs)\n",
    "reshape = Reshape((MAX_SEQUENCE_LENGTH,EMBEDDING_DIM,1))(embedding)\n",
    "\n",
    "conv_0 = Conv2D(num_filters, kernel_size=(filter_sizes[0], EMBEDDING_DIM), padding='valid', kernel_initializer='normal', activation='relu')(reshape)\n",
    "conv_1 = Conv2D(num_filters, kernel_size=(filter_sizes[1], EMBEDDING_DIM), padding='valid', kernel_initializer='normal', activation='relu')(reshape)\n",
    "conv_2 = Conv2D(num_filters, kernel_size=(filter_sizes[2], EMBEDDING_DIM), padding='valid', kernel_initializer='normal', activation='relu')(reshape)\n",
    "\n",
    "maxpool_0 = MaxPool2D(pool_size=(MAX_SEQUENCE_LENGTH - filter_sizes[0] + 1, 1), strides=(1,1), padding='valid')(conv_0)\n",
    "maxpool_1 = MaxPool2D(pool_size=(MAX_SEQUENCE_LENGTH - filter_sizes[1] + 1, 1), strides=(1,1), padding='valid')(conv_1)\n",
    "maxpool_2 = MaxPool2D(pool_size=(MAX_SEQUENCE_LENGTH - filter_sizes[2] + 1, 1), strides=(1,1), padding='valid')(conv_2)\n",
    "\n",
    "concatenated_tensor = Concatenate(axis=1)([maxpool_0, maxpool_1, maxpool_2])\n",
    "flatten = Flatten()(concatenated_tensor)\n",
    "dropout = Dropout(drop)(flatten)\n",
    "preds = Dense(len(label_dict), activation='softmax')(dropout)\n",
    "\n",
    "# this creates a model that includes inputs and outputs\n",
    "model = Model(inputs=inputs, outputs=preds)\n",
    "\n",
    "model.compile(loss='categorical_crossentropy',\n",
    "              optimizer='adam',\n",
    "              metrics=['acc'])\n",
    "\n",
    "model.summary()"
   ]
  },
  {
   "cell_type": "code",
   "execution_count": 34,
   "metadata": {},
   "outputs": [
    {
     "name": "stdout",
     "output_type": "stream",
     "text": [
      "Train on 9086 samples, validate on 1010 samples\n",
      "Epoch 1/10\n",
      "9086/9086 [==============================] - 29s 3ms/step - loss: 0.3097 - acc: 0.8992 - val_loss: 0.0897 - val_acc: 0.9733\n",
      "Epoch 2/10\n",
      "9086/9086 [==============================] - 12s 1ms/step - loss: 0.0732 - acc: 0.9799 - val_loss: 0.0719 - val_acc: 0.9762\n",
      "Epoch 3/10\n",
      "9086/9086 [==============================] - 12s 1ms/step - loss: 0.0421 - acc: 0.9879 - val_loss: 0.0537 - val_acc: 0.9822\n",
      "Epoch 4/10\n",
      "9086/9086 [==============================] - 12s 1ms/step - loss: 0.0283 - acc: 0.9928 - val_loss: 0.0603 - val_acc: 0.9802\n",
      "Epoch 5/10\n",
      "9086/9086 [==============================] - 13s 1ms/step - loss: 0.0196 - acc: 0.9950 - val_loss: 0.0548 - val_acc: 0.9851\n",
      "Epoch 6/10\n",
      "9086/9086 [==============================] - 12s 1ms/step - loss: 0.0123 - acc: 0.9976 - val_loss: 0.0483 - val_acc: 0.9842\n",
      "Epoch 7/10\n",
      "9086/9086 [==============================] - 12s 1ms/step - loss: 0.0093 - acc: 0.9986 - val_loss: 0.0553 - val_acc: 0.9822\n",
      "Epoch 8/10\n",
      "9086/9086 [==============================] - 12s 1ms/step - loss: 0.0081 - acc: 0.9987 - val_loss: 0.0567 - val_acc: 0.9832\n",
      "Epoch 9/10\n",
      "9086/9086 [==============================] - 12s 1ms/step - loss: 0.0070 - acc: 0.9988 - val_loss: 0.0506 - val_acc: 0.9792\n",
      "Epoch 10/10\n",
      "9086/9086 [==============================] - 13s 1ms/step - loss: 0.0068 - acc: 0.9983 - val_loss: 0.0536 - val_acc: 0.9851\n"
     ]
    }
   ],
   "source": [
    "history = model.fit(train_x, train_y,\n",
    "          batch_size=64,\n",
    "          epochs=10,\n",
    "          validation_data=(test_x, test_y))"
   ]
  },
  {
   "cell_type": "code",
   "execution_count": 35,
   "metadata": {},
   "outputs": [
    {
     "data": {
      "image/png": "[encoded data removed]",
      "text/plain": [
       "<Figure size 432x288 with 1 Axes>"
      ]
     },
     "metadata": {
      "needs_background": "light"
     },
     "output_type": "display_data"
    },
    {
     "data": {
      "image/png": "[encoded data removed]",
      "text/plain": [
       "<Figure size 432x288 with 1 Axes>"
      ]
     },
     "metadata": {
      "needs_background": "light"
     },
     "output_type": "display_data"
    }
   ],
   "source": [
    "\n",
    "# summarize history for accuracy\n",
    "plt.plot(history.history['acc'])\n",
    "plt.plot(history.history['val_acc'])\n",
    "plt.title('model accuracy')\n",
    "plt.ylabel('accuracy')\n",
    "plt.xlabel('epoch')\n",
    "plt.legend(['train', 'test'], loc='lower right')\n",
    "plt.show()\n",
    "# summarize history for loss\n",
    "plt.plot(history.history['loss'])\n",
    "plt.plot(history.history['val_loss'])\n",
    "plt.title('model loss')\n",
    "plt.ylabel('loss')\n",
    "plt.xlabel('epoch')\n",
    "plt.legend(['train', 'test'], loc='upper right')\n",
    "plt.show()"
   ]
  },
  {
   "cell_type": "code",
   "execution_count": null,
   "metadata": {},
   "outputs": [],
   "source": []
  }
 ],
 "metadata": {
  "kernelspec": {
   "display_name": "Python 3",
   "language": "python",
   "name": "python3"
  },
  "language_info": {
   "codemirror_mode": {
    "name": "ipython",
    "version": 3
   },
   "file_extension": ".py",
   "mimetype": "text/x-python",
   "name": "python",
   "nbconvert_exporter": "python",
   "pygments_lexer": "ipython3",
   "version": "3.7.3"
  }
 },
 "nbformat": 4,
 "nbformat_minor": 2
}
